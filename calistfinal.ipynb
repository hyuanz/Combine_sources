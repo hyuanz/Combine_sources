{
 "cells": [
  {
   "cell_type": "code",
   "execution_count": 1,
   "id": "68fb6d59-dfa1-477f-857d-be7841ca0129",
   "metadata": {},
   "outputs": [],
   "source": [
    "import pandas as pd\n",
    "import re\n",
    "import math\n",
    "import openpyxl"
   ]
  },
  {
   "cell_type": "code",
   "execution_count": 2,
   "id": "fc81b5be-4cbd-41e7-b048-773fea7401e9",
   "metadata": {},
   "outputs": [],
   "source": [
    "from openpyxl import load_workbook\n",
    "from openpyxl.utils.dataframe import dataframe_to_rows"
   ]
  },
  {
   "cell_type": "markdown",
   "id": "dd6ad7d4-ad05-4184-bfa1-345ce2501582",
   "metadata": {},
   "source": [
    "# AOPA"
   ]
  },
  {
   "cell_type": "markdown",
   "id": "c00083cf-2dd8-46e7-8833-bbbde12870e2",
   "metadata": {},
   "source": [
    "## Load output - from AOPAdata - get cleancali"
   ]
  },
  {
   "cell_type": "markdown",
   "id": "f66cfb8f-642a-43f5-9911-a2922fc6c699",
   "metadata": {},
   "source": [
    "### Data prep - clinic name ready in cleancali.xlsx"
   ]
  },
  {
   "cell_type": "code",
   "execution_count": 3,
   "id": "2bf9bfeb-a108-4c2f-82ac-5686b46a8a99",
   "metadata": {},
   "outputs": [],
   "source": [
    "frs = pd.read_excel('output.xlsx', sheet_name = 'CALIFORNIA')"
   ]
  },
  {
   "cell_type": "code",
   "execution_count": 4,
   "id": "4d9becff-4a03-471c-b33e-3501aac2bfdd",
   "metadata": {},
   "outputs": [
    {
     "data": {
      "text/html": [
       "<div>\n",
       "<style scoped>\n",
       "    .dataframe tbody tr th:only-of-type {\n",
       "        vertical-align: middle;\n",
       "    }\n",
       "\n",
       "    .dataframe tbody tr th {\n",
       "        vertical-align: top;\n",
       "    }\n",
       "\n",
       "    .dataframe thead th {\n",
       "        text-align: right;\n",
       "    }\n",
       "</style>\n",
       "<table border=\"1\" class=\"dataframe\">\n",
       "  <thead>\n",
       "    <tr style=\"text-align: right;\">\n",
       "      <th></th>\n",
       "      <th>Clinic_name</th>\n",
       "      <th>Unnamed: 1</th>\n",
       "      <th>Unnamed: 2</th>\n",
       "      <th>Unnamed: 3</th>\n",
       "      <th>Unnamed: 4</th>\n",
       "      <th>Unnamed: 5</th>\n",
       "      <th>Unnamed: 6</th>\n",
       "      <th>Unnamed: 7</th>\n",
       "      <th>Unnamed: 8</th>\n",
       "      <th>Unnamed: 9</th>\n",
       "      <th>...</th>\n",
       "      <th>Unnamed: 24</th>\n",
       "      <th>Unnamed: 25</th>\n",
       "      <th>Unnamed: 26</th>\n",
       "      <th>Unnamed: 27</th>\n",
       "      <th>Unnamed: 28</th>\n",
       "      <th>Unnamed: 29</th>\n",
       "      <th>Unnamed: 30</th>\n",
       "      <th>Unnamed: 31</th>\n",
       "      <th>Unnamed: 32</th>\n",
       "      <th>Unnamed: 33</th>\n",
       "    </tr>\n",
       "  </thead>\n",
       "  <tbody>\n",
       "    <tr>\n",
       "      <th>0</th>\n",
       "      <td>Molina Orthopedic Labs Inc./dba Crown City Ort...</td>\n",
       "      <td>610 N Santa Anita Ave, Ste 100</td>\n",
       "      <td>Arcadia  ,  CA 91006</td>\n",
       "      <td>(626) 431-2890</td>\n",
       "      <td>Fax (626) 431-2892</td>\n",
       "      <td>mailto:ryan@crowncityortho.com</td>\n",
       "      <td>NaN</td>\n",
       "      <td>NaN</td>\n",
       "      <td>NaN</td>\n",
       "      <td>NaN</td>\n",
       "      <td>...</td>\n",
       "      <td>NaN</td>\n",
       "      <td>NaN</td>\n",
       "      <td>NaN</td>\n",
       "      <td>NaN</td>\n",
       "      <td>NaN</td>\n",
       "      <td>NaN</td>\n",
       "      <td>NaN</td>\n",
       "      <td>NaN</td>\n",
       "      <td>NaN</td>\n",
       "      <td>NaN</td>\n",
       "    </tr>\n",
       "    <tr>\n",
       "      <th>1</th>\n",
       "      <td>Sierra Prosthetics -Orthotics  ❹</td>\n",
       "      <td>3227 Professional Dr</td>\n",
       "      <td>Auburn  ,  CA 95602</td>\n",
       "      <td>(530) 885-9922</td>\n",
       "      <td>mailto:sierrapo@gv.net</td>\n",
       "      <td>NaN</td>\n",
       "      <td>NaN</td>\n",
       "      <td>BAKERSFIELD   TUCSON   Alicia Lenhart, RFOM</td>\n",
       "      <td>NaN</td>\n",
       "      <td>NaN</td>\n",
       "      <td>...</td>\n",
       "      <td>NaN</td>\n",
       "      <td>NaN</td>\n",
       "      <td>NaN</td>\n",
       "      <td>NaN</td>\n",
       "      <td>NaN</td>\n",
       "      <td>NaN</td>\n",
       "      <td>NaN</td>\n",
       "      <td>NaN</td>\n",
       "      <td>NaN</td>\n",
       "      <td>NaN</td>\n",
       "    </tr>\n",
       "  </tbody>\n",
       "</table>\n",
       "<p>2 rows × 34 columns</p>\n",
       "</div>"
      ],
      "text/plain": [
       "                                         Clinic_name  \\\n",
       "0  Molina Orthopedic Labs Inc./dba Crown City Ort...   \n",
       "1                  Sierra Prosthetics -Orthotics  ❹    \n",
       "\n",
       "                       Unnamed: 1            Unnamed: 2      Unnamed: 3  \\\n",
       "0  610 N Santa Anita Ave, Ste 100  Arcadia  ,  CA 91006  (626) 431-2890   \n",
       "1            3227 Professional Dr   Auburn  ,  CA 95602  (530) 885-9922   \n",
       "\n",
       "               Unnamed: 4                      Unnamed: 5 Unnamed: 6  \\\n",
       "0      Fax (626) 431-2892  mailto:ryan@crowncityortho.com        NaN   \n",
       "1  mailto:sierrapo@gv.net                             NaN        NaN   \n",
       "\n",
       "                                      Unnamed: 7 Unnamed: 8 Unnamed: 9  ...  \\\n",
       "0                                            NaN        NaN        NaN  ...   \n",
       "1  BAKERSFIELD   TUCSON   Alicia Lenhart, RFOM          NaN        NaN  ...   \n",
       "\n",
       "  Unnamed: 24 Unnamed: 25 Unnamed: 26 Unnamed: 27 Unnamed: 28 Unnamed: 29  \\\n",
       "0         NaN         NaN         NaN         NaN         NaN         NaN   \n",
       "1         NaN         NaN         NaN         NaN         NaN         NaN   \n",
       "\n",
       "  Unnamed: 30 Unnamed: 31 Unnamed: 32 Unnamed: 33  \n",
       "0         NaN         NaN         NaN         NaN  \n",
       "1         NaN         NaN         NaN         NaN  \n",
       "\n",
       "[2 rows x 34 columns]"
      ]
     },
     "execution_count": 4,
     "metadata": {},
     "output_type": "execute_result"
    }
   ],
   "source": [
    "frs.head(2)"
   ]
  },
  {
   "cell_type": "code",
   "execution_count": 5,
   "id": "55a4c9a3-bb16-44ff-a049-b235429bb47f",
   "metadata": {},
   "outputs": [],
   "source": [
    "# [x.lower() for x in dataframe['Provider Organization Name (Legal Business Name)']]"
   ]
  },
  {
   "cell_type": "code",
   "execution_count": 6,
   "id": "46953c94-f450-4d95-aadd-a14b2ec8488f",
   "metadata": {},
   "outputs": [],
   "source": [
    "frs['Clinic_name'] = frs['Clinic_name'].str.replace(' C ', '').str.replace('❹', '').str.replace(' S ', '')"
   ]
  },
  {
   "cell_type": "code",
   "execution_count": 7,
   "id": "b5d0c1e2-d997-44e1-a59d-e94f4f13daef",
   "metadata": {},
   "outputs": [],
   "source": [
    "frs.to_excel('cleancali.xlsx',index=False)"
   ]
  },
  {
   "cell_type": "markdown",
   "id": "c6712d8e-8aa7-4a77-b47a-370e3193162c",
   "metadata": {
    "tags": []
   },
   "source": [
    "##### Attempt for cleaning pipeline, havn't achieve so ..."
   ]
  },
  {
   "cell_type": "code",
   "execution_count": 8,
   "id": "ff700af4-3f43-4c6e-93ad-aab95557e3a3",
   "metadata": {},
   "outputs": [],
   "source": [
    "# state = 'CA'"
   ]
  },
  {
   "cell_type": "code",
   "execution_count": 9,
   "id": "d80be9b4-a80c-4cfc-8c02-a5702efafa1c",
   "metadata": {},
   "outputs": [],
   "source": [
    "# frame = pd.read_excel('cleancali.xlsx')"
   ]
  },
  {
   "cell_type": "code",
   "execution_count": 10,
   "id": "de47161a-90e0-4804-bde6-a890362fc796",
   "metadata": {},
   "outputs": [],
   "source": [
    "# frame.columns"
   ]
  },
  {
   "cell_type": "code",
   "execution_count": 11,
   "id": "d9d7d7be-8d18-4467-9fb3-90b7ad4ea260",
   "metadata": {},
   "outputs": [],
   "source": [
    "# frame.head(2)"
   ]
  },
  {
   "cell_type": "code",
   "execution_count": 12,
   "id": "dd6ad6ea-27bd-4430-acb5-8240c4e4962f",
   "metadata": {},
   "outputs": [],
   "source": [
    "# keepf = frame[(frame['Address'].str.contains(state)) | \n",
    "#           (frame['County'].str.contains(state)) | \n",
    "#           (frame['Unnamed: 3'].str.contains(state))]"
   ]
  },
  {
   "cell_type": "code",
   "execution_count": 13,
   "id": "3c14d746-fa29-470a-82b2-83900b9e87b5",
   "metadata": {},
   "outputs": [],
   "source": [
    "# keepf"
   ]
  },
  {
   "cell_type": "code",
   "execution_count": 14,
   "id": "8a939a24-8f99-4cb3-adc4-510c08a361c0",
   "metadata": {},
   "outputs": [],
   "source": [
    "# def starts_with_number(s):\n",
    "#     return re.match(r'^\\d', s) is not None"
   ]
  },
  {
   "cell_type": "code",
   "execution_count": 15,
   "id": "0eb31850-27eb-4743-96cc-de1dc3aa2445",
   "metadata": {
    "tags": []
   },
   "outputs": [],
   "source": [
    "# column_to_check = 'Address'\n",
    "# new_data = []\n",
    "\n",
    "# for index, row in keepf.iterrows():\n",
    "#     value = row[column_to_check]\n",
    "#     # print(value)\n",
    "#     new_row = [None] + row.tolist() if not starts_with_number(value) else row.tolist()\n",
    "#     new_data.append(new_row)\n",
    "\n",
    "# new_df = pd.DataFrame(new_data, columns=[''] + df.columns.tolist())"
   ]
  },
  {
   "cell_type": "markdown",
   "id": "03b1118b-d6b7-4666-92e1-e365a18b0719",
   "metadata": {},
   "source": [
    "##### ... manual cleaning for formatted column "
   ]
  },
  {
   "cell_type": "markdown",
   "id": "e31db2e7-8c9b-4c98-b944-4f9cbf366d7c",
   "metadata": {
    "tags": []
   },
   "source": [
    "## Load cleancali2 - city, state, zip columns in cleancali3.xlsx"
   ]
  },
  {
   "cell_type": "code",
   "execution_count": 16,
   "id": "239709a7-583d-42e9-9d4a-afd3e76d6968",
   "metadata": {
    "tags": []
   },
   "outputs": [],
   "source": [
    "frame2 = pd.read_excel('cleancali2.xlsx')"
   ]
  },
  {
   "cell_type": "code",
   "execution_count": 17,
   "id": "e014230e-e840-4c8e-be80-e6a2abd41b3d",
   "metadata": {},
   "outputs": [
    {
     "data": {
      "text/html": [
       "<div>\n",
       "<style scoped>\n",
       "    .dataframe tbody tr th:only-of-type {\n",
       "        vertical-align: middle;\n",
       "    }\n",
       "\n",
       "    .dataframe tbody tr th {\n",
       "        vertical-align: top;\n",
       "    }\n",
       "\n",
       "    .dataframe thead th {\n",
       "        text-align: right;\n",
       "    }\n",
       "</style>\n",
       "<table border=\"1\" class=\"dataframe\">\n",
       "  <thead>\n",
       "    <tr style=\"text-align: right;\">\n",
       "      <th></th>\n",
       "      <th>Clinic_name</th>\n",
       "      <th>Address</th>\n",
       "      <th>City，State，Zipcode</th>\n",
       "      <th>Phone</th>\n",
       "      <th>FAX</th>\n",
       "      <th>Email</th>\n",
       "      <th>Website</th>\n",
       "      <th>Name</th>\n",
       "      <th>Other_info</th>\n",
       "      <th>Unnamed: 9</th>\n",
       "      <th>Unnamed: 10</th>\n",
       "      <th>Unnamed: 11</th>\n",
       "    </tr>\n",
       "  </thead>\n",
       "  <tbody>\n",
       "    <tr>\n",
       "      <th>0</th>\n",
       "      <td>Molina Orthopedic Labs Inc./dba Crown City Ort...</td>\n",
       "      <td>610 N Santa Anita Ave, Ste 100</td>\n",
       "      <td>Arcadia ,  CA 91006</td>\n",
       "      <td>(626) 431-2890</td>\n",
       "      <td>Fax (626) 431-2892</td>\n",
       "      <td>ryan@crowncityortho.com</td>\n",
       "      <td>NaN</td>\n",
       "      <td>NaN</td>\n",
       "      <td>NaN</td>\n",
       "      <td>NaN</td>\n",
       "      <td>NaN</td>\n",
       "      <td>NaN</td>\n",
       "    </tr>\n",
       "    <tr>\n",
       "      <th>1</th>\n",
       "      <td>Sierra Prosthetics -Orthotics</td>\n",
       "      <td>3227 Professional Dr</td>\n",
       "      <td>Auburn  ,  CA 95602</td>\n",
       "      <td>(530) 885-9922</td>\n",
       "      <td>NaN</td>\n",
       "      <td>sierrapo@gv.net</td>\n",
       "      <td>NaN</td>\n",
       "      <td>NaN</td>\n",
       "      <td>NaN</td>\n",
       "      <td>NaN</td>\n",
       "      <td>NaN</td>\n",
       "      <td>NaN</td>\n",
       "    </tr>\n",
       "  </tbody>\n",
       "</table>\n",
       "</div>"
      ],
      "text/plain": [
       "                                         Clinic_name  \\\n",
       "0  Molina Orthopedic Labs Inc./dba Crown City Ort...   \n",
       "1                   Sierra Prosthetics -Orthotics      \n",
       "\n",
       "                          Address   City，State，Zipcode           Phone  \\\n",
       "0  610 N Santa Anita Ave, Ste 100  Arcadia ,  CA 91006  (626) 431-2890   \n",
       "1            3227 Professional Dr  Auburn  ,  CA 95602  (530) 885-9922   \n",
       "\n",
       "                  FAX                    Email Website Name Other_info  \\\n",
       "0  Fax (626) 431-2892  ryan@crowncityortho.com     NaN  NaN        NaN   \n",
       "1                 NaN          sierrapo@gv.net     NaN  NaN        NaN   \n",
       "\n",
       "  Unnamed: 9 Unnamed: 10 Unnamed: 11  \n",
       "0        NaN         NaN         NaN  \n",
       "1        NaN         NaN         NaN  "
      ]
     },
     "execution_count": 17,
     "metadata": {},
     "output_type": "execute_result"
    }
   ],
   "source": [
    "frame2.head(2)"
   ]
  },
  {
   "cell_type": "code",
   "execution_count": 18,
   "id": "ddd610b7-dcf0-4256-8de9-eb9778972b3b",
   "metadata": {},
   "outputs": [
    {
     "data": {
      "text/plain": [
       "0                             Arcadia ,  CA 91006\n",
       "1                             Auburn  ,  CA 95602\n",
       "2                          Aliso Viejo, CA 92656 \n",
       "3                         Arroyo Grande, CA 93420\n",
       "4                      Bakersfield, CA 93301-1816\n",
       "                          ...                    \n",
       "170                     Ventura  ,  CA 93003-7710\n",
       "171                            Vista  ,  CA 92081\n",
       "172                       Vista  ,  CA 92081-6056\n",
       "173    Whittier Medical Plz Whittier  ,  CA 90601\n",
       "174                       Whittier, CA 90606-2583\n",
       "Name: City，State，Zipcode, Length: 175, dtype: object"
      ]
     },
     "execution_count": 18,
     "metadata": {},
     "output_type": "execute_result"
    }
   ],
   "source": [
    "frame2['City，State，Zipcode']"
   ]
  },
  {
   "cell_type": "code",
   "execution_count": 19,
   "id": "b2814f91-dd23-4ddc-82cf-59b8a0b632ea",
   "metadata": {},
   "outputs": [
    {
     "data": {
      "text/plain": [
       "float"
      ]
     },
     "execution_count": 19,
     "metadata": {},
     "output_type": "execute_result"
    }
   ],
   "source": [
    "type(frame2['City，State，Zipcode'][37])"
   ]
  },
  {
   "cell_type": "code",
   "execution_count": 20,
   "id": "4c36668e-57b8-4b2d-b8b4-9a61723caaa3",
   "metadata": {},
   "outputs": [],
   "source": [
    "formatted_values = []\n",
    "\n",
    "for value in frame2['City，State，Zipcode']:\n",
    "    if isinstance(value, float) and math.isnan(value):\n",
    "        city = \"\"\n",
    "        state = \"\"\n",
    "        zip_code = \"\"\n",
    "\n",
    "    # Convert the value to string if it's not already\n",
    "    if not isinstance(value, str):\n",
    "        value = str(value)\n",
    "        city = \"\"\n",
    "        state = \"\"\n",
    "        zip_code = \"\"\n",
    "        \n",
    "    if value.strip():\n",
    "        parts = re.split(\", |,\\xa0\", value)\n",
    "        city = parts[0].strip()\n",
    "        \n",
    "        if len(parts) == 1:  # If only city name is present\n",
    "            state = \"CA\"\n",
    "            zip_code = \"\"\n",
    "        else:\n",
    "            state_zip = parts[1].split(\"A \")\n",
    "            state = state_zip[0].strip() + 'A'\n",
    "            zip_code = state_zip[1].strip()\n",
    "            \n",
    "        formatted_row = {\n",
    "            'City': city,\n",
    "            'State': state,\n",
    "            'ZipCode': zip_code\n",
    "        }\n",
    "        \n",
    "        formatted_values.append(formatted_row)"
   ]
  },
  {
   "cell_type": "code",
   "execution_count": 21,
   "id": "faa42318-8f47-4ffd-a98d-89f50622f96c",
   "metadata": {},
   "outputs": [],
   "source": [
    "formatted_df = pd.DataFrame(formatted_values)"
   ]
  },
  {
   "cell_type": "code",
   "execution_count": 22,
   "id": "f8db832c-c8db-44a3-a2ce-cfc8c2754abb",
   "metadata": {},
   "outputs": [
    {
     "data": {
      "text/html": [
       "<div>\n",
       "<style scoped>\n",
       "    .dataframe tbody tr th:only-of-type {\n",
       "        vertical-align: middle;\n",
       "    }\n",
       "\n",
       "    .dataframe tbody tr th {\n",
       "        vertical-align: top;\n",
       "    }\n",
       "\n",
       "    .dataframe thead th {\n",
       "        text-align: right;\n",
       "    }\n",
       "</style>\n",
       "<table border=\"1\" class=\"dataframe\">\n",
       "  <thead>\n",
       "    <tr style=\"text-align: right;\">\n",
       "      <th></th>\n",
       "      <th>City</th>\n",
       "      <th>State</th>\n",
       "      <th>ZipCode</th>\n",
       "    </tr>\n",
       "  </thead>\n",
       "  <tbody>\n",
       "    <tr>\n",
       "      <th>0</th>\n",
       "      <td>Arcadia</td>\n",
       "      <td>CA</td>\n",
       "      <td>91006</td>\n",
       "    </tr>\n",
       "    <tr>\n",
       "      <th>1</th>\n",
       "      <td>Auburn</td>\n",
       "      <td>CA</td>\n",
       "      <td>95602</td>\n",
       "    </tr>\n",
       "  </tbody>\n",
       "</table>\n",
       "</div>"
      ],
      "text/plain": [
       "      City State ZipCode\n",
       "0  Arcadia    CA   91006\n",
       "1   Auburn    CA   95602"
      ]
     },
     "execution_count": 22,
     "metadata": {},
     "output_type": "execute_result"
    }
   ],
   "source": [
    "formatted_df.head(2)"
   ]
  },
  {
   "cell_type": "code",
   "execution_count": 23,
   "id": "a199e03f-ad3b-41d8-8651-a91305135a4c",
   "metadata": {},
   "outputs": [],
   "source": [
    "temp_df3 = pd.concat([frame2, formatted_df], axis=1)"
   ]
  },
  {
   "cell_type": "code",
   "execution_count": 24,
   "id": "58461746-9d0d-43a1-b941-98a403c4c2ed",
   "metadata": {},
   "outputs": [
    {
     "data": {
      "text/plain": [
       "Index(['Clinic_name', 'Address', 'City，State，Zipcode', 'Phone', 'FAX', 'Email',\n",
       "       'Website', 'Name', 'Other_info', 'Unnamed: 9', 'Unnamed: 10',\n",
       "       'Unnamed: 11', 'City', 'State', 'ZipCode'],\n",
       "      dtype='object')"
      ]
     },
     "execution_count": 24,
     "metadata": {},
     "output_type": "execute_result"
    }
   ],
   "source": [
    "temp_df3.columns"
   ]
  },
  {
   "cell_type": "code",
   "execution_count": 25,
   "id": "8f781aff-a1b5-40ce-bd74-7583b56326ad",
   "metadata": {},
   "outputs": [],
   "source": [
    "column_order = ['Clinic_name', 'Address', 'City', 'State', 'ZipCode', 'Phone', 'FAX', 'Email',\n",
    "       'Website', 'Name', 'Other_info', 'Unnamed: 9', 'Unnamed: 10',\n",
    "       'Unnamed: 11', 'City，State，Zipcode']\n",
    "temp_df3 = temp_df3[column_order]"
   ]
  },
  {
   "cell_type": "code",
   "execution_count": 26,
   "id": "7ef8c173-f2b7-41ad-99fe-c587725dfab0",
   "metadata": {},
   "outputs": [],
   "source": [
    "temp_df3 = temp_df3.drop(columns=['City，State，Zipcode'])"
   ]
  },
  {
   "cell_type": "code",
   "execution_count": 27,
   "id": "449bd515-388c-4a2c-80f6-782e6334864f",
   "metadata": {},
   "outputs": [],
   "source": [
    "temp_df3['City'] = [\"\" if cell=='nan' else cell for cell in temp_df3['City']]"
   ]
  },
  {
   "cell_type": "code",
   "execution_count": 28,
   "id": "65406790-6c67-49a4-8663-cfbe54ed12d8",
   "metadata": {},
   "outputs": [],
   "source": [
    "temp_df3['ZipCode'] = [cell[:5] for cell in temp_df3['ZipCode']]"
   ]
  },
  {
   "cell_type": "code",
   "execution_count": 29,
   "id": "b4203354-781a-46f2-bffe-849daf1e8630",
   "metadata": {},
   "outputs": [
    {
     "data": {
      "text/html": [
       "<div>\n",
       "<style scoped>\n",
       "    .dataframe tbody tr th:only-of-type {\n",
       "        vertical-align: middle;\n",
       "    }\n",
       "\n",
       "    .dataframe tbody tr th {\n",
       "        vertical-align: top;\n",
       "    }\n",
       "\n",
       "    .dataframe thead th {\n",
       "        text-align: right;\n",
       "    }\n",
       "</style>\n",
       "<table border=\"1\" class=\"dataframe\">\n",
       "  <thead>\n",
       "    <tr style=\"text-align: right;\">\n",
       "      <th></th>\n",
       "      <th>Clinic_name</th>\n",
       "      <th>Address</th>\n",
       "      <th>City</th>\n",
       "      <th>State</th>\n",
       "      <th>ZipCode</th>\n",
       "      <th>Phone</th>\n",
       "      <th>FAX</th>\n",
       "      <th>Email</th>\n",
       "      <th>Website</th>\n",
       "      <th>Name</th>\n",
       "      <th>Other_info</th>\n",
       "      <th>Unnamed: 9</th>\n",
       "      <th>Unnamed: 10</th>\n",
       "      <th>Unnamed: 11</th>\n",
       "    </tr>\n",
       "  </thead>\n",
       "  <tbody>\n",
       "    <tr>\n",
       "      <th>0</th>\n",
       "      <td>Molina Orthopedic Labs Inc./dba Crown City Ort...</td>\n",
       "      <td>610 N Santa Anita Ave, Ste 100</td>\n",
       "      <td>Arcadia</td>\n",
       "      <td>CA</td>\n",
       "      <td>91006</td>\n",
       "      <td>(626) 431-2890</td>\n",
       "      <td>Fax (626) 431-2892</td>\n",
       "      <td>ryan@crowncityortho.com</td>\n",
       "      <td>NaN</td>\n",
       "      <td>NaN</td>\n",
       "      <td>NaN</td>\n",
       "      <td>NaN</td>\n",
       "      <td>NaN</td>\n",
       "      <td>NaN</td>\n",
       "    </tr>\n",
       "    <tr>\n",
       "      <th>1</th>\n",
       "      <td>Sierra Prosthetics -Orthotics</td>\n",
       "      <td>3227 Professional Dr</td>\n",
       "      <td>Auburn</td>\n",
       "      <td>CA</td>\n",
       "      <td>95602</td>\n",
       "      <td>(530) 885-9922</td>\n",
       "      <td>NaN</td>\n",
       "      <td>sierrapo@gv.net</td>\n",
       "      <td>NaN</td>\n",
       "      <td>NaN</td>\n",
       "      <td>NaN</td>\n",
       "      <td>NaN</td>\n",
       "      <td>NaN</td>\n",
       "      <td>NaN</td>\n",
       "    </tr>\n",
       "  </tbody>\n",
       "</table>\n",
       "</div>"
      ],
      "text/plain": [
       "                                         Clinic_name  \\\n",
       "0  Molina Orthopedic Labs Inc./dba Crown City Ort...   \n",
       "1                   Sierra Prosthetics -Orthotics      \n",
       "\n",
       "                          Address     City State ZipCode           Phone  \\\n",
       "0  610 N Santa Anita Ave, Ste 100  Arcadia    CA   91006  (626) 431-2890   \n",
       "1            3227 Professional Dr   Auburn    CA   95602  (530) 885-9922   \n",
       "\n",
       "                  FAX                    Email Website Name Other_info  \\\n",
       "0  Fax (626) 431-2892  ryan@crowncityortho.com     NaN  NaN        NaN   \n",
       "1                 NaN          sierrapo@gv.net     NaN  NaN        NaN   \n",
       "\n",
       "  Unnamed: 9 Unnamed: 10 Unnamed: 11  \n",
       "0        NaN         NaN         NaN  \n",
       "1        NaN         NaN         NaN  "
      ]
     },
     "execution_count": 29,
     "metadata": {},
     "output_type": "execute_result"
    }
   ],
   "source": [
    "temp_df3.head(2)"
   ]
  },
  {
   "cell_type": "code",
   "execution_count": 30,
   "id": "8468cec2-e610-436b-8690-b0b6ae06c209",
   "metadata": {},
   "outputs": [],
   "source": [
    "# temp_df3.to_excel('cleancali3.xlsx',index=False)"
   ]
  },
  {
   "cell_type": "markdown",
   "id": "181da7c6-a007-40ad-a626-066499f085be",
   "metadata": {},
   "source": [
    "## Update cleancali3 - clean rows/cols to combine multiple df"
   ]
  },
  {
   "cell_type": "code",
   "execution_count": 31,
   "id": "3886eaa3-1eef-4c33-8db5-bb7a86480232",
   "metadata": {},
   "outputs": [],
   "source": [
    "# frame3 = pd.read_excel('cleancali3.xlsx')\n",
    "frame3 = temp_df3.copy()"
   ]
  },
  {
   "cell_type": "code",
   "execution_count": 32,
   "id": "b96c64a5-721c-48e2-a86d-0fc2da7b6083",
   "metadata": {},
   "outputs": [
    {
     "data": {
      "text/html": [
       "<div>\n",
       "<style scoped>\n",
       "    .dataframe tbody tr th:only-of-type {\n",
       "        vertical-align: middle;\n",
       "    }\n",
       "\n",
       "    .dataframe tbody tr th {\n",
       "        vertical-align: top;\n",
       "    }\n",
       "\n",
       "    .dataframe thead th {\n",
       "        text-align: right;\n",
       "    }\n",
       "</style>\n",
       "<table border=\"1\" class=\"dataframe\">\n",
       "  <thead>\n",
       "    <tr style=\"text-align: right;\">\n",
       "      <th></th>\n",
       "      <th>Clinic_name</th>\n",
       "      <th>Address</th>\n",
       "      <th>City</th>\n",
       "      <th>State</th>\n",
       "      <th>ZipCode</th>\n",
       "      <th>Phone</th>\n",
       "      <th>FAX</th>\n",
       "      <th>Email</th>\n",
       "      <th>Website</th>\n",
       "      <th>Name</th>\n",
       "      <th>Other_info</th>\n",
       "      <th>Unnamed: 9</th>\n",
       "      <th>Unnamed: 10</th>\n",
       "      <th>Unnamed: 11</th>\n",
       "    </tr>\n",
       "  </thead>\n",
       "  <tbody>\n",
       "    <tr>\n",
       "      <th>0</th>\n",
       "      <td>Molina Orthopedic Labs Inc./dba Crown City Ort...</td>\n",
       "      <td>610 N Santa Anita Ave, Ste 100</td>\n",
       "      <td>Arcadia</td>\n",
       "      <td>CA</td>\n",
       "      <td>91006</td>\n",
       "      <td>(626) 431-2890</td>\n",
       "      <td>Fax (626) 431-2892</td>\n",
       "      <td>ryan@crowncityortho.com</td>\n",
       "      <td>NaN</td>\n",
       "      <td>NaN</td>\n",
       "      <td>NaN</td>\n",
       "      <td>NaN</td>\n",
       "      <td>NaN</td>\n",
       "      <td>NaN</td>\n",
       "    </tr>\n",
       "    <tr>\n",
       "      <th>1</th>\n",
       "      <td>Sierra Prosthetics -Orthotics</td>\n",
       "      <td>3227 Professional Dr</td>\n",
       "      <td>Auburn</td>\n",
       "      <td>CA</td>\n",
       "      <td>95602</td>\n",
       "      <td>(530) 885-9922</td>\n",
       "      <td>NaN</td>\n",
       "      <td>sierrapo@gv.net</td>\n",
       "      <td>NaN</td>\n",
       "      <td>NaN</td>\n",
       "      <td>NaN</td>\n",
       "      <td>NaN</td>\n",
       "      <td>NaN</td>\n",
       "      <td>NaN</td>\n",
       "    </tr>\n",
       "  </tbody>\n",
       "</table>\n",
       "</div>"
      ],
      "text/plain": [
       "                                         Clinic_name  \\\n",
       "0  Molina Orthopedic Labs Inc./dba Crown City Ort...   \n",
       "1                   Sierra Prosthetics -Orthotics      \n",
       "\n",
       "                          Address     City State ZipCode           Phone  \\\n",
       "0  610 N Santa Anita Ave, Ste 100  Arcadia    CA   91006  (626) 431-2890   \n",
       "1            3227 Professional Dr   Auburn    CA   95602  (530) 885-9922   \n",
       "\n",
       "                  FAX                    Email Website Name Other_info  \\\n",
       "0  Fax (626) 431-2892  ryan@crowncityortho.com     NaN  NaN        NaN   \n",
       "1                 NaN          sierrapo@gv.net     NaN  NaN        NaN   \n",
       "\n",
       "  Unnamed: 9 Unnamed: 10 Unnamed: 11  \n",
       "0        NaN         NaN         NaN  \n",
       "1        NaN         NaN         NaN  "
      ]
     },
     "execution_count": 32,
     "metadata": {},
     "output_type": "execute_result"
    }
   ],
   "source": [
    "frame3.head(2)"
   ]
  },
  {
   "cell_type": "code",
   "execution_count": 33,
   "id": "fdfbc1ef-30fd-4788-85cf-72cb1e89fdea",
   "metadata": {},
   "outputs": [],
   "source": [
    "frame3[\"ZipCode\"] = frame3[\"ZipCode\"].apply(lambda x: str(x) if not pd.isna(x) else \"\")"
   ]
  },
  {
   "cell_type": "code",
   "execution_count": 34,
   "id": "1f50a40b-4587-4e10-9d91-5c4feb3cf112",
   "metadata": {},
   "outputs": [
    {
     "data": {
      "text/html": [
       "<div>\n",
       "<style scoped>\n",
       "    .dataframe tbody tr th:only-of-type {\n",
       "        vertical-align: middle;\n",
       "    }\n",
       "\n",
       "    .dataframe tbody tr th {\n",
       "        vertical-align: top;\n",
       "    }\n",
       "\n",
       "    .dataframe thead th {\n",
       "        text-align: right;\n",
       "    }\n",
       "</style>\n",
       "<table border=\"1\" class=\"dataframe\">\n",
       "  <thead>\n",
       "    <tr style=\"text-align: right;\">\n",
       "      <th></th>\n",
       "      <th>Clinic_name</th>\n",
       "      <th>Address</th>\n",
       "      <th>City</th>\n",
       "      <th>State</th>\n",
       "      <th>ZipCode</th>\n",
       "      <th>Phone</th>\n",
       "      <th>FAX</th>\n",
       "      <th>Email</th>\n",
       "      <th>Website</th>\n",
       "      <th>Name</th>\n",
       "      <th>Other_info</th>\n",
       "      <th>Unnamed: 9</th>\n",
       "      <th>Unnamed: 10</th>\n",
       "      <th>Unnamed: 11</th>\n",
       "    </tr>\n",
       "  </thead>\n",
       "  <tbody>\n",
       "    <tr>\n",
       "      <th>0</th>\n",
       "      <td>Molina Orthopedic Labs Inc./dba Crown City Ort...</td>\n",
       "      <td>610 N Santa Anita Ave, Ste 100</td>\n",
       "      <td>Arcadia</td>\n",
       "      <td>CA</td>\n",
       "      <td>91006</td>\n",
       "      <td>(626) 431-2890</td>\n",
       "      <td>Fax (626) 431-2892</td>\n",
       "      <td>ryan@crowncityortho.com</td>\n",
       "      <td>NaN</td>\n",
       "      <td>NaN</td>\n",
       "      <td>NaN</td>\n",
       "      <td>NaN</td>\n",
       "      <td>NaN</td>\n",
       "      <td>NaN</td>\n",
       "    </tr>\n",
       "    <tr>\n",
       "      <th>1</th>\n",
       "      <td>Sierra Prosthetics -Orthotics</td>\n",
       "      <td>3227 Professional Dr</td>\n",
       "      <td>Auburn</td>\n",
       "      <td>CA</td>\n",
       "      <td>95602</td>\n",
       "      <td>(530) 885-9922</td>\n",
       "      <td>NaN</td>\n",
       "      <td>sierrapo@gv.net</td>\n",
       "      <td>NaN</td>\n",
       "      <td>NaN</td>\n",
       "      <td>NaN</td>\n",
       "      <td>NaN</td>\n",
       "      <td>NaN</td>\n",
       "      <td>NaN</td>\n",
       "    </tr>\n",
       "  </tbody>\n",
       "</table>\n",
       "</div>"
      ],
      "text/plain": [
       "                                         Clinic_name  \\\n",
       "0  Molina Orthopedic Labs Inc./dba Crown City Ort...   \n",
       "1                   Sierra Prosthetics -Orthotics      \n",
       "\n",
       "                          Address     City State ZipCode           Phone  \\\n",
       "0  610 N Santa Anita Ave, Ste 100  Arcadia    CA   91006  (626) 431-2890   \n",
       "1            3227 Professional Dr   Auburn    CA   95602  (530) 885-9922   \n",
       "\n",
       "                  FAX                    Email Website Name Other_info  \\\n",
       "0  Fax (626) 431-2892  ryan@crowncityortho.com     NaN  NaN        NaN   \n",
       "1                 NaN          sierrapo@gv.net     NaN  NaN        NaN   \n",
       "\n",
       "  Unnamed: 9 Unnamed: 10 Unnamed: 11  \n",
       "0        NaN         NaN         NaN  \n",
       "1        NaN         NaN         NaN  "
      ]
     },
     "execution_count": 34,
     "metadata": {},
     "output_type": "execute_result"
    }
   ],
   "source": [
    "frame3.head(2)"
   ]
  },
  {
   "cell_type": "code",
   "execution_count": 35,
   "id": "743058e4-7c40-46b4-a31f-b07f794c2024",
   "metadata": {},
   "outputs": [
    {
     "data": {
      "text/plain": [
       "['molina orthopedic labs inc./dba crown city orthopedic',\n",
       " 'sierra prosthetics -orthotics',\n",
       " 'medequip inc.',\n",
       " 'north county prosthetics &amp; orthotics',\n",
       " 'achilles prosthetics &amp; orthotics inc.',\n",
       " 'hanger clinic',\n",
       " 'hanger clinic',\n",
       " 'human designs prosthetic &amp; orthotic laboratory inc.',\n",
       " 'north county prosthetics &amp; orthotics',\n",
       " 'hanger clinic',\n",
       " 'townsend design (thuasne usa)   +',\n",
       " 'valley institute of prosthetics &amp; orthotics',\n",
       " 'supply inc.',\n",
       " 'hanger clinic',\n",
       " 'prosthetic &amp; orthotic group los angeles']"
      ]
     },
     "execution_count": 35,
     "metadata": {},
     "output_type": "execute_result"
    }
   ],
   "source": [
    "[x.lower().strip() for x in frame3[\"Clinic_name\"]][:15]"
   ]
  },
  {
   "cell_type": "code",
   "execution_count": 36,
   "id": "3363832d-0107-42bb-ad1e-a4846508d0e2",
   "metadata": {},
   "outputs": [],
   "source": [
    "def remove_amp(s):\n",
    "    return s.replace(\"&amp;\", \"&\").replace(\"+\",\"\")"
   ]
  },
  {
   "cell_type": "code",
   "execution_count": 37,
   "id": "943e814e-0ad4-4339-96a4-27a169ecd2cf",
   "metadata": {},
   "outputs": [],
   "source": [
    "def extract_y(s):\n",
    "    match = re.search(r'/dba\\s+(.+)', s)\n",
    "    if match:\n",
    "        return match.group(1)\n",
    "    return s"
   ]
  },
  {
   "cell_type": "code",
   "execution_count": 38,
   "id": "e8fc87d8-af52-442c-9ea4-a7b7c117abd2",
   "metadata": {},
   "outputs": [],
   "source": [
    "frame3[\"Clinic_name\"] = frame3[\"Clinic_name\"].apply(lambda x: extract_y(x))\n",
    "frame3[\"Clinic_name\"] = frame3[\"Clinic_name\"].apply(lambda x: remove_amp(x))"
   ]
  },
  {
   "cell_type": "code",
   "execution_count": 39,
   "id": "8d06fe5d-ece8-4525-bb9b-bd5d23202df8",
   "metadata": {},
   "outputs": [
    {
     "data": {
      "text/plain": [
       "['crown city orthopedic',\n",
       " 'sierra prosthetics -orthotics',\n",
       " 'medequip inc.',\n",
       " 'north county prosthetics & orthotics',\n",
       " 'achilles prosthetics & orthotics inc.',\n",
       " 'hanger clinic',\n",
       " 'hanger clinic',\n",
       " 'human designs prosthetic & orthotic laboratory inc.',\n",
       " 'north county prosthetics & orthotics',\n",
       " 'hanger clinic',\n",
       " 'townsend design (thuasne usa)',\n",
       " 'valley institute of prosthetics & orthotics',\n",
       " 'supply inc.',\n",
       " 'hanger clinic',\n",
       " 'prosthetic & orthotic group los angeles']"
      ]
     },
     "execution_count": 39,
     "metadata": {},
     "output_type": "execute_result"
    }
   ],
   "source": [
    "[x.lower().strip() for x in frame3[\"Clinic_name\"]][:15]"
   ]
  },
  {
   "cell_type": "code",
   "execution_count": 40,
   "id": "14d46ce0-6fb8-4947-adbb-33394c7075ad",
   "metadata": {},
   "outputs": [],
   "source": [
    "cols_tolower = ['Clinic_name', 'Address', 'City', 'State', 'ZipCode']"
   ]
  },
  {
   "cell_type": "code",
   "execution_count": 41,
   "id": "57729bba-28e4-4cc0-9619-990a60295347",
   "metadata": {},
   "outputs": [
    {
     "data": {
      "text/plain": [
       "['Crown City Orthopedic ',\n",
       " 'Sierra Prosthetics -Orthotics   ',\n",
       " 'Medequip Inc. ',\n",
       " 'North County Prosthetics & Orthotics   ',\n",
       " 'Achilles Prosthetics & Orthotics Inc.']"
      ]
     },
     "execution_count": 41,
     "metadata": {},
     "output_type": "execute_result"
    }
   ],
   "source": [
    "frame3[\"Clinic_name\"][:5].tolist()"
   ]
  },
  {
   "cell_type": "code",
   "execution_count": 42,
   "id": "d8d2805c-fa9f-4aea-b88b-45f28f559773",
   "metadata": {},
   "outputs": [],
   "source": [
    "for col in cols_tolower:\n",
    "    frame3[col] = frame3[col].apply(lambda x: x.lower().strip() if isinstance(x, str) else x)"
   ]
  },
  {
   "cell_type": "code",
   "execution_count": 43,
   "id": "b182362b-7b38-4148-a176-3d8eef5035b7",
   "metadata": {},
   "outputs": [
    {
     "data": {
      "text/plain": [
       "['crown city orthopedic',\n",
       " 'sierra prosthetics -orthotics',\n",
       " 'medequip inc.',\n",
       " 'north county prosthetics & orthotics',\n",
       " 'achilles prosthetics & orthotics inc.']"
      ]
     },
     "execution_count": 43,
     "metadata": {},
     "output_type": "execute_result"
    }
   ],
   "source": [
    "frame3[\"Clinic_name\"][:5].tolist()"
   ]
  },
  {
   "cell_type": "code",
   "execution_count": 44,
   "id": "1c6f2723-2ac1-42ec-bee9-748b61c8012e",
   "metadata": {},
   "outputs": [
    {
     "data": {
      "text/html": [
       "<div>\n",
       "<style scoped>\n",
       "    .dataframe tbody tr th:only-of-type {\n",
       "        vertical-align: middle;\n",
       "    }\n",
       "\n",
       "    .dataframe tbody tr th {\n",
       "        vertical-align: top;\n",
       "    }\n",
       "\n",
       "    .dataframe thead th {\n",
       "        text-align: right;\n",
       "    }\n",
       "</style>\n",
       "<table border=\"1\" class=\"dataframe\">\n",
       "  <thead>\n",
       "    <tr style=\"text-align: right;\">\n",
       "      <th></th>\n",
       "      <th>Clinic_name</th>\n",
       "      <th>Address</th>\n",
       "      <th>City</th>\n",
       "      <th>State</th>\n",
       "      <th>ZipCode</th>\n",
       "      <th>Phone</th>\n",
       "      <th>FAX</th>\n",
       "      <th>Email</th>\n",
       "      <th>Website</th>\n",
       "      <th>Name</th>\n",
       "      <th>Other_info</th>\n",
       "      <th>Unnamed: 9</th>\n",
       "      <th>Unnamed: 10</th>\n",
       "      <th>Unnamed: 11</th>\n",
       "    </tr>\n",
       "  </thead>\n",
       "  <tbody>\n",
       "    <tr>\n",
       "      <th>0</th>\n",
       "      <td>crown city orthopedic</td>\n",
       "      <td>610 n santa anita ave, ste 100</td>\n",
       "      <td>arcadia</td>\n",
       "      <td>ca</td>\n",
       "      <td>91006</td>\n",
       "      <td>(626) 431-2890</td>\n",
       "      <td>Fax (626) 431-2892</td>\n",
       "      <td>ryan@crowncityortho.com</td>\n",
       "      <td>NaN</td>\n",
       "      <td>NaN</td>\n",
       "      <td>NaN</td>\n",
       "      <td>NaN</td>\n",
       "      <td>NaN</td>\n",
       "      <td>NaN</td>\n",
       "    </tr>\n",
       "    <tr>\n",
       "      <th>1</th>\n",
       "      <td>sierra prosthetics -orthotics</td>\n",
       "      <td>3227 professional dr</td>\n",
       "      <td>auburn</td>\n",
       "      <td>ca</td>\n",
       "      <td>95602</td>\n",
       "      <td>(530) 885-9922</td>\n",
       "      <td>NaN</td>\n",
       "      <td>sierrapo@gv.net</td>\n",
       "      <td>NaN</td>\n",
       "      <td>NaN</td>\n",
       "      <td>NaN</td>\n",
       "      <td>NaN</td>\n",
       "      <td>NaN</td>\n",
       "      <td>NaN</td>\n",
       "    </tr>\n",
       "  </tbody>\n",
       "</table>\n",
       "</div>"
      ],
      "text/plain": [
       "                     Clinic_name                         Address     City  \\\n",
       "0          crown city orthopedic  610 n santa anita ave, ste 100  arcadia   \n",
       "1  sierra prosthetics -orthotics            3227 professional dr   auburn   \n",
       "\n",
       "  State ZipCode           Phone                 FAX                    Email  \\\n",
       "0    ca   91006  (626) 431-2890  Fax (626) 431-2892  ryan@crowncityortho.com   \n",
       "1    ca   95602  (530) 885-9922                 NaN          sierrapo@gv.net   \n",
       "\n",
       "  Website Name Other_info Unnamed: 9 Unnamed: 10 Unnamed: 11  \n",
       "0     NaN  NaN        NaN        NaN         NaN         NaN  \n",
       "1     NaN  NaN        NaN        NaN         NaN         NaN  "
      ]
     },
     "execution_count": 44,
     "metadata": {},
     "output_type": "execute_result"
    }
   ],
   "source": [
    "frame3.head(2)"
   ]
  },
  {
   "cell_type": "markdown",
   "id": "af7affb4-c0da-482e-bb35-6d8dbf10270b",
   "metadata": {},
   "source": [
    "# NPI"
   ]
  },
  {
   "cell_type": "code",
   "execution_count": 45,
   "id": "5addb3bd-346d-437d-98dc-ae7c511ec6f1",
   "metadata": {},
   "outputs": [],
   "source": [
    "dataframe = pd.read_excel('list_caliclinic.xlsx')"
   ]
  },
  {
   "cell_type": "code",
   "execution_count": 46,
   "id": "54b065be-71f5-4b49-ab14-f5ab9b39432f",
   "metadata": {},
   "outputs": [
    {
     "data": {
      "text/html": [
       "<div>\n",
       "<style scoped>\n",
       "    .dataframe tbody tr th:only-of-type {\n",
       "        vertical-align: middle;\n",
       "    }\n",
       "\n",
       "    .dataframe tbody tr th {\n",
       "        vertical-align: top;\n",
       "    }\n",
       "\n",
       "    .dataframe thead th {\n",
       "        text-align: right;\n",
       "    }\n",
       "</style>\n",
       "<table border=\"1\" class=\"dataframe\">\n",
       "  <thead>\n",
       "    <tr style=\"text-align: right;\">\n",
       "      <th></th>\n",
       "      <th>NPI</th>\n",
       "      <th>Entity Type Code</th>\n",
       "      <th>Provider Organization Name (Legal Business Name)</th>\n",
       "      <th>Provider First Line Business Practice Location Address</th>\n",
       "      <th>City</th>\n",
       "      <th>State2</th>\n",
       "      <th>Provider Business Practice Location Address Postal Code</th>\n",
       "      <th>Provider Business Practice Location Address Telephone Number</th>\n",
       "      <th>Zip5</th>\n",
       "      <th>Address</th>\n",
       "      <th>taxonomy</th>\n",
       "    </tr>\n",
       "  </thead>\n",
       "  <tbody>\n",
       "    <tr>\n",
       "      <th>0</th>\n",
       "      <td>1548468614</td>\n",
       "      <td>2</td>\n",
       "      <td>DIMENSION PROSTHETICS &amp; ORTHOTICS</td>\n",
       "      <td>33374 DOWE AVE</td>\n",
       "      <td>UNION CITY</td>\n",
       "      <td>CA</td>\n",
       "      <td>94587</td>\n",
       "      <td>5103243400</td>\n",
       "      <td>94587</td>\n",
       "      <td>33374 DOWE AVE</td>\n",
       "      <td>335E00000X</td>\n",
       "    </tr>\n",
       "    <tr>\n",
       "      <th>1</th>\n",
       "      <td>1386652774</td>\n",
       "      <td>2</td>\n",
       "      <td>HANGER PROSTHETICS &amp; ORTHOTICS WEST, INC.</td>\n",
       "      <td>3460 ROBIN LN</td>\n",
       "      <td>CAMERON PARK</td>\n",
       "      <td>CA</td>\n",
       "      <td>95682</td>\n",
       "      <td>5306764856</td>\n",
       "      <td>95682</td>\n",
       "      <td>3460 ROBIN LN</td>\n",
       "      <td>335E00000X</td>\n",
       "    </tr>\n",
       "  </tbody>\n",
       "</table>\n",
       "</div>"
      ],
      "text/plain": [
       "          NPI  Entity Type Code  \\\n",
       "0  1548468614                 2   \n",
       "1  1386652774                 2   \n",
       "\n",
       "  Provider Organization Name (Legal Business Name)  \\\n",
       "0                DIMENSION PROSTHETICS & ORTHOTICS   \n",
       "1        HANGER PROSTHETICS & ORTHOTICS WEST, INC.   \n",
       "\n",
       "  Provider First Line Business Practice Location Address          City State2  \\\n",
       "0                                     33374 DOWE AVE        UNION CITY     CA   \n",
       "1                                      3460 ROBIN LN      CAMERON PARK     CA   \n",
       "\n",
       "   Provider Business Practice Location Address Postal Code  \\\n",
       "0                                              94587         \n",
       "1                                              95682         \n",
       "\n",
       "   Provider Business Practice Location Address Telephone Number   Zip5  \\\n",
       "0                                         5103243400             94587   \n",
       "1                                         5306764856             95682   \n",
       "\n",
       "          Address    taxonomy  \n",
       "0  33374 DOWE AVE  335E00000X  \n",
       "1   3460 ROBIN LN  335E00000X  "
      ]
     },
     "execution_count": 46,
     "metadata": {},
     "output_type": "execute_result"
    }
   ],
   "source": [
    "dataframe.head(2)"
   ]
  },
  {
   "cell_type": "code",
   "execution_count": 47,
   "id": "f438767c-8d27-4cf1-9a11-d0402d92b749",
   "metadata": {},
   "outputs": [
    {
     "data": {
      "text/plain": [
       "Index(['NPI', 'Entity Type Code',\n",
       "       'Provider Organization Name (Legal Business Name)',\n",
       "       'Provider First Line Business Practice Location Address', 'City',\n",
       "       'State2', 'Provider Business Practice Location Address Postal Code',\n",
       "       'Provider Business Practice Location Address Telephone Number', 'Zip5',\n",
       "       'Address', 'taxonomy'],\n",
       "      dtype='object')"
      ]
     },
     "execution_count": 47,
     "metadata": {},
     "output_type": "execute_result"
    }
   ],
   "source": [
    "dataframe.columns"
   ]
  },
  {
   "cell_type": "code",
   "execution_count": 48,
   "id": "0aacbb11-c4b0-4fdd-b77f-a1673920876f",
   "metadata": {
    "tags": []
   },
   "outputs": [],
   "source": [
    "column_order = ['Provider Organization Name (Legal Business Name)','Address','City',\n",
    "                'State2','Zip5', 'Provider Business Practice Location Address Telephone Number',\n",
    "                'NPI', 'taxonomy', 'Entity Type Code', 'Provider First Line Business Practice Location Address',\n",
    "               'Provider Business Practice Location Address Postal Code']\n",
    "dataframe = dataframe[column_order]"
   ]
  },
  {
   "cell_type": "code",
   "execution_count": 49,
   "id": "6f82a409-ff7e-4fa2-86b8-2d01b6bd6dbe",
   "metadata": {},
   "outputs": [],
   "source": [
    "dataframe.rename(columns={'Provider Organization Name (Legal Business Name)': 'Clinic_name', \n",
    "                            'State2': 'State', 'Zip5': 'ZipCode',\n",
    "                           'Provider Business Practice Location Address Telephone Number': 'Phone'}, inplace=True)"
   ]
  },
  {
   "cell_type": "code",
   "execution_count": 50,
   "id": "f81ad22c-756b-4d16-b3c0-5e3a74168b3e",
   "metadata": {},
   "outputs": [
    {
     "data": {
      "text/html": [
       "<div>\n",
       "<style scoped>\n",
       "    .dataframe tbody tr th:only-of-type {\n",
       "        vertical-align: middle;\n",
       "    }\n",
       "\n",
       "    .dataframe tbody tr th {\n",
       "        vertical-align: top;\n",
       "    }\n",
       "\n",
       "    .dataframe thead th {\n",
       "        text-align: right;\n",
       "    }\n",
       "</style>\n",
       "<table border=\"1\" class=\"dataframe\">\n",
       "  <thead>\n",
       "    <tr style=\"text-align: right;\">\n",
       "      <th></th>\n",
       "      <th>Clinic_name</th>\n",
       "      <th>Address</th>\n",
       "      <th>City</th>\n",
       "      <th>State</th>\n",
       "      <th>ZipCode</th>\n",
       "      <th>Phone</th>\n",
       "      <th>NPI</th>\n",
       "      <th>taxonomy</th>\n",
       "      <th>Entity Type Code</th>\n",
       "      <th>Provider First Line Business Practice Location Address</th>\n",
       "      <th>Provider Business Practice Location Address Postal Code</th>\n",
       "    </tr>\n",
       "  </thead>\n",
       "  <tbody>\n",
       "    <tr>\n",
       "      <th>0</th>\n",
       "      <td>DIMENSION PROSTHETICS &amp; ORTHOTICS</td>\n",
       "      <td>33374 DOWE AVE</td>\n",
       "      <td>UNION CITY</td>\n",
       "      <td>CA</td>\n",
       "      <td>94587</td>\n",
       "      <td>5103243400</td>\n",
       "      <td>1548468614</td>\n",
       "      <td>335E00000X</td>\n",
       "      <td>2</td>\n",
       "      <td>33374 DOWE AVE</td>\n",
       "      <td>94587</td>\n",
       "    </tr>\n",
       "    <tr>\n",
       "      <th>1</th>\n",
       "      <td>HANGER PROSTHETICS &amp; ORTHOTICS WEST, INC.</td>\n",
       "      <td>3460 ROBIN LN</td>\n",
       "      <td>CAMERON PARK</td>\n",
       "      <td>CA</td>\n",
       "      <td>95682</td>\n",
       "      <td>5306764856</td>\n",
       "      <td>1386652774</td>\n",
       "      <td>335E00000X</td>\n",
       "      <td>2</td>\n",
       "      <td>3460 ROBIN LN</td>\n",
       "      <td>95682</td>\n",
       "    </tr>\n",
       "  </tbody>\n",
       "</table>\n",
       "</div>"
      ],
      "text/plain": [
       "                                 Clinic_name         Address          City  \\\n",
       "0          DIMENSION PROSTHETICS & ORTHOTICS  33374 DOWE AVE    UNION CITY   \n",
       "1  HANGER PROSTHETICS & ORTHOTICS WEST, INC.   3460 ROBIN LN  CAMERON PARK   \n",
       "\n",
       "  State  ZipCode       Phone         NPI    taxonomy  Entity Type Code  \\\n",
       "0    CA    94587  5103243400  1548468614  335E00000X                 2   \n",
       "1    CA    95682  5306764856  1386652774  335E00000X                 2   \n",
       "\n",
       "  Provider First Line Business Practice Location Address  \\\n",
       "0                                     33374 DOWE AVE       \n",
       "1                                      3460 ROBIN LN       \n",
       "\n",
       "   Provider Business Practice Location Address Postal Code  \n",
       "0                                              94587        \n",
       "1                                              95682        "
      ]
     },
     "execution_count": 50,
     "metadata": {},
     "output_type": "execute_result"
    }
   ],
   "source": [
    "dataframe.head(2)"
   ]
  },
  {
   "cell_type": "code",
   "execution_count": 51,
   "id": "b94e8cc6-b855-45fc-90c0-b4a48d84975c",
   "metadata": {},
   "outputs": [],
   "source": [
    "for col in cols_tolower:\n",
    "    dataframe[col] = dataframe[col].apply(lambda x: x.lower().strip() if isinstance(x, str) else x)"
   ]
  },
  {
   "cell_type": "code",
   "execution_count": 52,
   "id": "a3802c30-5d16-4bc7-8262-76ac606ecb42",
   "metadata": {},
   "outputs": [
    {
     "data": {
      "text/html": [
       "<div>\n",
       "<style scoped>\n",
       "    .dataframe tbody tr th:only-of-type {\n",
       "        vertical-align: middle;\n",
       "    }\n",
       "\n",
       "    .dataframe tbody tr th {\n",
       "        vertical-align: top;\n",
       "    }\n",
       "\n",
       "    .dataframe thead th {\n",
       "        text-align: right;\n",
       "    }\n",
       "</style>\n",
       "<table border=\"1\" class=\"dataframe\">\n",
       "  <thead>\n",
       "    <tr style=\"text-align: right;\">\n",
       "      <th></th>\n",
       "      <th>Clinic_name</th>\n",
       "      <th>Address</th>\n",
       "      <th>City</th>\n",
       "      <th>State</th>\n",
       "      <th>ZipCode</th>\n",
       "      <th>Phone</th>\n",
       "      <th>NPI</th>\n",
       "      <th>taxonomy</th>\n",
       "      <th>Entity Type Code</th>\n",
       "      <th>Provider First Line Business Practice Location Address</th>\n",
       "      <th>Provider Business Practice Location Address Postal Code</th>\n",
       "    </tr>\n",
       "  </thead>\n",
       "  <tbody>\n",
       "    <tr>\n",
       "      <th>0</th>\n",
       "      <td>dimension prosthetics &amp; orthotics</td>\n",
       "      <td>33374 dowe ave</td>\n",
       "      <td>union city</td>\n",
       "      <td>ca</td>\n",
       "      <td>94587</td>\n",
       "      <td>5103243400</td>\n",
       "      <td>1548468614</td>\n",
       "      <td>335E00000X</td>\n",
       "      <td>2</td>\n",
       "      <td>33374 DOWE AVE</td>\n",
       "      <td>94587</td>\n",
       "    </tr>\n",
       "    <tr>\n",
       "      <th>1</th>\n",
       "      <td>hanger prosthetics &amp; orthotics west, inc.</td>\n",
       "      <td>3460 robin ln</td>\n",
       "      <td>cameron park</td>\n",
       "      <td>ca</td>\n",
       "      <td>95682</td>\n",
       "      <td>5306764856</td>\n",
       "      <td>1386652774</td>\n",
       "      <td>335E00000X</td>\n",
       "      <td>2</td>\n",
       "      <td>3460 ROBIN LN</td>\n",
       "      <td>95682</td>\n",
       "    </tr>\n",
       "  </tbody>\n",
       "</table>\n",
       "</div>"
      ],
      "text/plain": [
       "                                 Clinic_name         Address          City  \\\n",
       "0          dimension prosthetics & orthotics  33374 dowe ave    union city   \n",
       "1  hanger prosthetics & orthotics west, inc.   3460 robin ln  cameron park   \n",
       "\n",
       "  State  ZipCode       Phone         NPI    taxonomy  Entity Type Code  \\\n",
       "0    ca    94587  5103243400  1548468614  335E00000X                 2   \n",
       "1    ca    95682  5306764856  1386652774  335E00000X                 2   \n",
       "\n",
       "  Provider First Line Business Practice Location Address  \\\n",
       "0                                     33374 DOWE AVE       \n",
       "1                                      3460 ROBIN LN       \n",
       "\n",
       "   Provider Business Practice Location Address Postal Code  \n",
       "0                                              94587        \n",
       "1                                              95682        "
      ]
     },
     "execution_count": 52,
     "metadata": {},
     "output_type": "execute_result"
    }
   ],
   "source": [
    "dataframe.head(2)"
   ]
  },
  {
   "cell_type": "code",
   "execution_count": 53,
   "id": "f7bac07a-9c6d-48c7-9955-1ddb3d6a9f9f",
   "metadata": {},
   "outputs": [
    {
     "data": {
      "text/html": [
       "<div>\n",
       "<style scoped>\n",
       "    .dataframe tbody tr th:only-of-type {\n",
       "        vertical-align: middle;\n",
       "    }\n",
       "\n",
       "    .dataframe tbody tr th {\n",
       "        vertical-align: top;\n",
       "    }\n",
       "\n",
       "    .dataframe thead th {\n",
       "        text-align: right;\n",
       "    }\n",
       "</style>\n",
       "<table border=\"1\" class=\"dataframe\">\n",
       "  <thead>\n",
       "    <tr style=\"text-align: right;\">\n",
       "      <th></th>\n",
       "      <th>Clinic_name</th>\n",
       "      <th>Address</th>\n",
       "      <th>City</th>\n",
       "      <th>State</th>\n",
       "      <th>ZipCode</th>\n",
       "      <th>Phone</th>\n",
       "      <th>FAX</th>\n",
       "      <th>Email</th>\n",
       "      <th>Website</th>\n",
       "      <th>Name</th>\n",
       "      <th>Other_info</th>\n",
       "      <th>Unnamed: 9</th>\n",
       "      <th>Unnamed: 10</th>\n",
       "      <th>Unnamed: 11</th>\n",
       "    </tr>\n",
       "  </thead>\n",
       "  <tbody>\n",
       "    <tr>\n",
       "      <th>0</th>\n",
       "      <td>crown city orthopedic</td>\n",
       "      <td>610 n santa anita ave, ste 100</td>\n",
       "      <td>arcadia</td>\n",
       "      <td>ca</td>\n",
       "      <td>91006</td>\n",
       "      <td>(626) 431-2890</td>\n",
       "      <td>Fax (626) 431-2892</td>\n",
       "      <td>ryan@crowncityortho.com</td>\n",
       "      <td>NaN</td>\n",
       "      <td>NaN</td>\n",
       "      <td>NaN</td>\n",
       "      <td>NaN</td>\n",
       "      <td>NaN</td>\n",
       "      <td>NaN</td>\n",
       "    </tr>\n",
       "    <tr>\n",
       "      <th>1</th>\n",
       "      <td>sierra prosthetics -orthotics</td>\n",
       "      <td>3227 professional dr</td>\n",
       "      <td>auburn</td>\n",
       "      <td>ca</td>\n",
       "      <td>95602</td>\n",
       "      <td>(530) 885-9922</td>\n",
       "      <td>NaN</td>\n",
       "      <td>sierrapo@gv.net</td>\n",
       "      <td>NaN</td>\n",
       "      <td>NaN</td>\n",
       "      <td>NaN</td>\n",
       "      <td>NaN</td>\n",
       "      <td>NaN</td>\n",
       "      <td>NaN</td>\n",
       "    </tr>\n",
       "    <tr>\n",
       "      <th>2</th>\n",
       "      <td>medequip inc.</td>\n",
       "      <td>27 brookline</td>\n",
       "      <td>aliso viejo</td>\n",
       "      <td>ca</td>\n",
       "      <td>92656</td>\n",
       "      <td>(949) 443-4414</td>\n",
       "      <td>NaN</td>\n",
       "      <td>soren@medequiportho.com</td>\n",
       "      <td>http://www.medequiportho.com/</td>\n",
       "      <td>Soren Lind, President</td>\n",
       "      <td>Kasey Bancroft, O  \"  ce Manager</td>\n",
       "      <td>Brian Keim, Area Manager Trish Terena, Sales M...</td>\n",
       "      <td>NaN</td>\n",
       "      <td>NaN</td>\n",
       "    </tr>\n",
       "  </tbody>\n",
       "</table>\n",
       "</div>"
      ],
      "text/plain": [
       "                     Clinic_name                         Address         City  \\\n",
       "0          crown city orthopedic  610 n santa anita ave, ste 100      arcadia   \n",
       "1  sierra prosthetics -orthotics            3227 professional dr       auburn   \n",
       "2                  medequip inc.                    27 brookline  aliso viejo   \n",
       "\n",
       "  State ZipCode           Phone                 FAX                    Email  \\\n",
       "0    ca   91006  (626) 431-2890  Fax (626) 431-2892  ryan@crowncityortho.com   \n",
       "1    ca   95602  (530) 885-9922                 NaN          sierrapo@gv.net   \n",
       "2    ca   92656  (949) 443-4414                 NaN  soren@medequiportho.com   \n",
       "\n",
       "                         Website                   Name  \\\n",
       "0                            NaN                    NaN   \n",
       "1                            NaN                    NaN   \n",
       "2  http://www.medequiportho.com/  Soren Lind, President   \n",
       "\n",
       "                         Other_info  \\\n",
       "0                               NaN   \n",
       "1                               NaN   \n",
       "2  Kasey Bancroft, O  \"  ce Manager   \n",
       "\n",
       "                                          Unnamed: 9 Unnamed: 10 Unnamed: 11  \n",
       "0                                                NaN         NaN         NaN  \n",
       "1                                                NaN         NaN         NaN  \n",
       "2  Brian Keim, Area Manager Trish Terena, Sales M...         NaN         NaN  "
      ]
     },
     "execution_count": 53,
     "metadata": {},
     "output_type": "execute_result"
    }
   ],
   "source": [
    "frame3.head(3)"
   ]
  },
  {
   "cell_type": "markdown",
   "id": "02bad9f5-c029-4afc-b703-5202991e857e",
   "metadata": {},
   "source": [
    "# AOPA-NPI"
   ]
  },
  {
   "cell_type": "code",
   "execution_count": 54,
   "id": "60b6b18a-3cfc-42fe-8f47-604dcb01b249",
   "metadata": {},
   "outputs": [],
   "source": [
    "dataframe['combineid'] = dataframe['Clinic_name'].str.split().str[0] + dataframe['ZipCode'].astype(str)\n",
    "frame3['combineid'] = frame3['Clinic_name'].str.split().str[0] + frame3['ZipCode'].astype(str)"
   ]
  },
  {
   "cell_type": "code",
   "execution_count": 55,
   "id": "43c449bd-623e-4edb-81d2-0ba0322acd48",
   "metadata": {},
   "outputs": [],
   "source": [
    "dataframe['combineid2'] = dataframe['Clinic_name'].str.split().str[0] + dataframe['Address'].str.split().str[0]\n",
    "frame3['combineid2'] = frame3['Clinic_name'].str.split().str[0] + frame3['Address'].str.split().str[0]"
   ]
  },
  {
   "cell_type": "code",
   "execution_count": 56,
   "id": "53412cff-c91a-4dc7-8fbd-4e8aad6e6762",
   "metadata": {},
   "outputs": [],
   "source": [
    "dataframe['combineid3'] = dataframe['ZipCode'].astype(str) + dataframe['Address'].str.split().str[0]\n",
    "frame3['combineid3'] = frame3['ZipCode'].astype(str) + frame3['Address'].str.split().str[0]"
   ]
  },
  {
   "cell_type": "code",
   "execution_count": 57,
   "id": "2902ca58-cbee-4b2c-93ca-740e0db645b2",
   "metadata": {},
   "outputs": [],
   "source": [
    "merged1 = pd.merge(dataframe, frame3, on=['combineid'], how='inner')\n",
    "merged2 = pd.merge(dataframe, frame3, on=['combineid2'], how='inner')\n",
    "merged3 = pd.merge(dataframe, frame3, on=['combineid3'], how='inner')"
   ]
  },
  {
   "cell_type": "code",
   "execution_count": 58,
   "id": "2e93fa41-b8ae-4e3b-8f19-e62a01387ec3",
   "metadata": {},
   "outputs": [],
   "source": [
    "merged1 = merged1.fillna('NaN')\n",
    "merged2 = merged2.fillna('NaN')\n",
    "merged3 = merged3.fillna('NaN')"
   ]
  },
  {
   "cell_type": "code",
   "execution_count": 59,
   "id": "dc701562-bafd-452d-97ca-302b4d54a2d4",
   "metadata": {},
   "outputs": [],
   "source": [
    "merged_df = pd.concat([merged1, merged2, merged3])"
   ]
  },
  {
   "cell_type": "code",
   "execution_count": 60,
   "id": "32892e12-1abf-4399-b022-bef0af6ed3ce",
   "metadata": {},
   "outputs": [
    {
     "data": {
      "text/plain": [
       "(292, 34)"
      ]
     },
     "execution_count": 60,
     "metadata": {},
     "output_type": "execute_result"
    }
   ],
   "source": [
    "merged_df.shape"
   ]
  },
  {
   "cell_type": "code",
   "execution_count": 61,
   "id": "99ab4d45-dda9-4464-a2aa-746e4af8b454",
   "metadata": {},
   "outputs": [
    {
     "data": {
      "text/plain": [
       "Index(['Clinic_name_x', 'Address_x', 'City_x', 'State_x', 'ZipCode_x',\n",
       "       'Phone_x', 'NPI', 'taxonomy', 'Entity Type Code',\n",
       "       'Provider First Line Business Practice Location Address',\n",
       "       'Provider Business Practice Location Address Postal Code', 'combineid',\n",
       "       'combineid2_x', 'combineid3_x', 'Clinic_name_y', 'Address_y', 'City_y',\n",
       "       'State_y', 'ZipCode_y', 'Phone_y', 'FAX', 'Email', 'Website', 'Name',\n",
       "       'Other_info', 'Unnamed: 9', 'Unnamed: 10', 'Unnamed: 11',\n",
       "       'combineid2_y', 'combineid3_y', 'combineid_x', 'combineid2',\n",
       "       'combineid_y', 'combineid3'],\n",
       "      dtype='object')"
      ]
     },
     "execution_count": 61,
     "metadata": {},
     "output_type": "execute_result"
    }
   ],
   "source": [
    "merged_df.columns"
   ]
  },
  {
   "cell_type": "code",
   "execution_count": 62,
   "id": "35ba4808-51df-450b-9126-865687562f4f",
   "metadata": {},
   "outputs": [],
   "source": [
    "merged_df = merged_df[['Clinic_name_x', 'Address_x', 'City_x', 'State_x', 'ZipCode_x',\n",
    "       'Phone_x', 'NPI', 'taxonomy', 'Entity Type Code',\n",
    "       'Provider First Line Business Practice Location Address',\n",
    "       'Provider Business Practice Location Address Postal Code', \n",
    "       'Clinic_name_y', 'Address_y', 'City_y',\n",
    "       'State_y', 'ZipCode_y', 'Phone_y', 'FAX', 'Email', 'Website', 'Name',\n",
    "       'Other_info', 'Unnamed: 9', 'Unnamed: 10', 'Unnamed: 11']]"
   ]
  },
  {
   "cell_type": "code",
   "execution_count": 63,
   "id": "60d3df90-9899-4c55-bb1b-542ead494002",
   "metadata": {},
   "outputs": [
    {
     "data": {
      "text/plain": [
       "(132, 25)"
      ]
     },
     "execution_count": 63,
     "metadata": {},
     "output_type": "execute_result"
    }
   ],
   "source": [
    "merged_df = merged_df.drop_duplicates()\n",
    "merged_df.shape"
   ]
  },
  {
   "cell_type": "code",
   "execution_count": 64,
   "id": "0dc42c0c-03f2-4395-b6d4-3886ea7058d9",
   "metadata": {},
   "outputs": [],
   "source": [
    "# merged_df.to_excel('temp.xlsx',index=False)"
   ]
  },
  {
   "cell_type": "markdown",
   "id": "844da804-5d01-4dcb-b805-b4adff3b9138",
   "metadata": {},
   "source": [
    "## Clean AOPA-NPI"
   ]
  },
  {
   "cell_type": "code",
   "execution_count": 65,
   "id": "a30caf51-c6a7-43c6-9577-62c042dc1a3b",
   "metadata": {},
   "outputs": [],
   "source": [
    "# frame4 = pd.read_excel('temp.xlsx')\n",
    "frame4 = merged_df.copy()"
   ]
  },
  {
   "cell_type": "code",
   "execution_count": 66,
   "id": "f6419543-f629-4e7d-a90a-7fb9e2f6f1e4",
   "metadata": {},
   "outputs": [
    {
     "data": {
      "text/plain": [
       "Index(['Clinic_name_x', 'Address_x', 'City_x', 'State_x', 'ZipCode_x',\n",
       "       'Phone_x', 'NPI', 'taxonomy', 'Entity Type Code',\n",
       "       'Provider First Line Business Practice Location Address',\n",
       "       'Provider Business Practice Location Address Postal Code',\n",
       "       'Clinic_name_y', 'Address_y', 'City_y', 'State_y', 'ZipCode_y',\n",
       "       'Phone_y', 'FAX', 'Email', 'Website', 'Name', 'Other_info',\n",
       "       'Unnamed: 9', 'Unnamed: 10', 'Unnamed: 11'],\n",
       "      dtype='object')"
      ]
     },
     "execution_count": 66,
     "metadata": {},
     "output_type": "execute_result"
    }
   ],
   "source": [
    "frame4.columns"
   ]
  },
  {
   "cell_type": "code",
   "execution_count": 67,
   "id": "be03790a-dd83-4046-9397-ffe58eb2eb40",
   "metadata": {},
   "outputs": [],
   "source": [
    "npi_list = dataframe['NPI'].tolist()\n",
    "merged_list = frame4['NPI'].tolist()"
   ]
  },
  {
   "cell_type": "code",
   "execution_count": 68,
   "id": "bc556c62-4371-41e7-8f8a-1931ab940495",
   "metadata": {},
   "outputs": [],
   "source": [
    "left_values = [item for item in npi_list if item not in merged_list]"
   ]
  },
  {
   "cell_type": "code",
   "execution_count": 69,
   "id": "4bfb8468-839a-486d-a1b1-f2b3214fea1f",
   "metadata": {},
   "outputs": [
    {
     "data": {
      "text/plain": [
       "269"
      ]
     },
     "execution_count": 69,
     "metadata": {},
     "output_type": "execute_result"
    }
   ],
   "source": [
    "len(left_values)"
   ]
  },
  {
   "cell_type": "code",
   "execution_count": 70,
   "id": "8b51b986-24a4-4dd2-8e24-683aa4c451ce",
   "metadata": {},
   "outputs": [],
   "source": [
    "unmerged_frame = dataframe[dataframe['NPI'].isin(left_values)]"
   ]
  },
  {
   "cell_type": "code",
   "execution_count": 71,
   "id": "9368dd1d-51ac-4207-a4dc-64c2fb847e04",
   "metadata": {},
   "outputs": [
    {
     "data": {
      "text/plain": [
       "Index(['Clinic_name_x', 'Address_x', 'City_x', 'State_x', 'ZipCode_x',\n",
       "       'Phone_x', 'NPI', 'taxonomy', 'Entity Type Code',\n",
       "       'Provider First Line Business Practice Location Address',\n",
       "       'Provider Business Practice Location Address Postal Code',\n",
       "       'Clinic_name_y', 'Address_y', 'City_y', 'State_y', 'ZipCode_y',\n",
       "       'Phone_y', 'FAX', 'Email', 'Website', 'Name', 'Other_info',\n",
       "       'Unnamed: 9', 'Unnamed: 10', 'Unnamed: 11'],\n",
       "      dtype='object')"
      ]
     },
     "execution_count": 71,
     "metadata": {},
     "output_type": "execute_result"
    }
   ],
   "source": [
    "frame4.columns"
   ]
  },
  {
   "cell_type": "code",
   "execution_count": 72,
   "id": "3f753855-48eb-4592-838a-c720139dc114",
   "metadata": {},
   "outputs": [],
   "source": [
    "frame4 = frame4[['Clinic_name_x', 'Address_x', 'City_x', 'State_x', 'ZipCode_x',\n",
    "       'Phone_x', 'Phone_y', 'FAX', 'Email', 'Website', 'Name',\n",
    "       'Other_info', 'Unnamed: 9', 'Unnamed: 10', 'Unnamed: 11', 'NPI']]"
   ]
  },
  {
   "cell_type": "code",
   "execution_count": 73,
   "id": "6507874d-eeb6-4814-b49b-e071419a1d17",
   "metadata": {},
   "outputs": [],
   "source": [
    "frame4.rename(columns={'Clinic_name_x': 'Clinic_name', 'Address_x': 'Address', 'City_x': 'City',\n",
    "                       'State_x': 'State', 'ZipCode_x': 'ZipCode', 'Phone_x': 'Phone'}, inplace=True)"
   ]
  },
  {
   "cell_type": "code",
   "execution_count": 74,
   "id": "d3e5d52c-27b5-42b8-a8c0-5957696eb410",
   "metadata": {},
   "outputs": [
    {
     "data": {
      "text/plain": [
       "Index(['Clinic_name', 'Address', 'City', 'State', 'ZipCode', 'Phone', 'NPI',\n",
       "       'taxonomy', 'Entity Type Code',\n",
       "       'Provider First Line Business Practice Location Address',\n",
       "       'Provider Business Practice Location Address Postal Code', 'combineid',\n",
       "       'combineid2', 'combineid3'],\n",
       "      dtype='object')"
      ]
     },
     "execution_count": 74,
     "metadata": {},
     "output_type": "execute_result"
    }
   ],
   "source": [
    "unmerged_frame.columns"
   ]
  },
  {
   "cell_type": "code",
   "execution_count": 75,
   "id": "97cc9b8b-e3de-433e-9745-b7f3d0a0f810",
   "metadata": {},
   "outputs": [],
   "source": [
    "unmerged_frame = unmerged_frame[['Clinic_name', 'Address', 'City', 'State', 'ZipCode', 'Phone', 'NPI']]"
   ]
  },
  {
   "cell_type": "code",
   "execution_count": 76,
   "id": "9ded3745-18c4-4406-87e1-f54673367f28",
   "metadata": {
    "tags": []
   },
   "outputs": [],
   "source": [
    "frame5 = pd.concat([frame4, unmerged_frame], ignore_index=True)"
   ]
  },
  {
   "cell_type": "code",
   "execution_count": 77,
   "id": "074c47f1-6c3b-43b7-b459-465137b51741",
   "metadata": {},
   "outputs": [],
   "source": [
    "# frame5.to_excel('temp3.xlsx',index=False)"
   ]
  },
  {
   "cell_type": "code",
   "execution_count": null,
   "id": "58950a29-3203-4199-b276-1f2202068eb1",
   "metadata": {},
   "outputs": [],
   "source": []
  },
  {
   "cell_type": "markdown",
   "id": "76b3c572-da73-4891-9801-8f73fc909169",
   "metadata": {},
   "source": [
    "## Add Clinician info"
   ]
  },
  {
   "cell_type": "code",
   "execution_count": 78,
   "id": "f2f2176c-b9f7-46b2-9a61-43bbdf5557bd",
   "metadata": {},
   "outputs": [],
   "source": [
    "clidf = pd.read_excel('comb_indorg.xlsx')"
   ]
  },
  {
   "cell_type": "code",
   "execution_count": 79,
   "id": "df05e616-5113-48b0-9f9f-604f4ac14a46",
   "metadata": {},
   "outputs": [
    {
     "data": {
      "text/plain": [
       "Index(['NPI_x', 'Entity Type Code_x',\n",
       "       'Provider Organization Name (Legal Business Name)_x',\n",
       "       'Provider First Line Business Practice Location Address', 'City_x',\n",
       "       'Provider Business Practice Location Address Postal Code_x',\n",
       "       'Provider Business Practice Location Address Telephone Number_x',\n",
       "       'Authorized Official Last Name_x', 'Authorized Official First Name_x',\n",
       "       'Authorized Official Middle Name_x',\n",
       "       'Authorized Official Telephone Number_x', 'Is Organization Subpart_x',\n",
       "       'Zip5_x', 'Address_x', 'taxonomy_x', 'fml'],\n",
       "      dtype='object')"
      ]
     },
     "execution_count": 79,
     "metadata": {},
     "output_type": "execute_result"
    }
   ],
   "source": [
    "clidf.columns"
   ]
  },
  {
   "cell_type": "code",
   "execution_count": 80,
   "id": "454f20cf-0771-46ce-8852-83b31a53ad05",
   "metadata": {},
   "outputs": [
    {
     "data": {
      "text/html": [
       "<div>\n",
       "<style scoped>\n",
       "    .dataframe tbody tr th:only-of-type {\n",
       "        vertical-align: middle;\n",
       "    }\n",
       "\n",
       "    .dataframe tbody tr th {\n",
       "        vertical-align: top;\n",
       "    }\n",
       "\n",
       "    .dataframe thead th {\n",
       "        text-align: right;\n",
       "    }\n",
       "</style>\n",
       "<table border=\"1\" class=\"dataframe\">\n",
       "  <thead>\n",
       "    <tr style=\"text-align: right;\">\n",
       "      <th></th>\n",
       "      <th>NPI_x</th>\n",
       "      <th>Entity Type Code_x</th>\n",
       "      <th>Provider Organization Name (Legal Business Name)_x</th>\n",
       "      <th>Provider First Line Business Practice Location Address</th>\n",
       "      <th>City_x</th>\n",
       "      <th>Provider Business Practice Location Address Postal Code_x</th>\n",
       "      <th>Provider Business Practice Location Address Telephone Number_x</th>\n",
       "      <th>Authorized Official Last Name_x</th>\n",
       "      <th>Authorized Official First Name_x</th>\n",
       "      <th>Authorized Official Middle Name_x</th>\n",
       "      <th>Authorized Official Telephone Number_x</th>\n",
       "      <th>Is Organization Subpart_x</th>\n",
       "      <th>Zip5_x</th>\n",
       "      <th>Address_x</th>\n",
       "      <th>taxonomy_x</th>\n",
       "      <th>fml</th>\n",
       "    </tr>\n",
       "  </thead>\n",
       "  <tbody>\n",
       "    <tr>\n",
       "      <th>0</th>\n",
       "      <td>1013275874</td>\n",
       "      <td>2</td>\n",
       "      <td>ELITE BIOMECHANICAL DESIGN</td>\n",
       "      <td>2208 5TH AVE</td>\n",
       "      <td>OROVILLE</td>\n",
       "      <td>959655816</td>\n",
       "      <td>5305346913</td>\n",
       "      <td>CASEY</td>\n",
       "      <td>MICHAEL</td>\n",
       "      <td>PATRICK</td>\n",
       "      <td>5308946913</td>\n",
       "      <td>N</td>\n",
       "      <td>95965</td>\n",
       "      <td>2208 5TH AVE</td>\n",
       "      <td>335E00000X</td>\n",
       "      <td>NICHOLAS,D.,MADSEN</td>\n",
       "    </tr>\n",
       "    <tr>\n",
       "      <th>1</th>\n",
       "      <td>1023188943</td>\n",
       "      <td>2</td>\n",
       "      <td>JENNINGS ORTHOPEDIC INC</td>\n",
       "      <td>10683 MAGNOLIA AVE</td>\n",
       "      <td>RIVERSIDE</td>\n",
       "      <td>925051893</td>\n",
       "      <td>9513522029</td>\n",
       "      <td>JENNINGS</td>\n",
       "      <td>HENRY</td>\n",
       "      <td>ALVIN</td>\n",
       "      <td>9513522029</td>\n",
       "      <td>N</td>\n",
       "      <td>92505</td>\n",
       "      <td>10683 MAGNOLIA AVE</td>\n",
       "      <td>224P00000X</td>\n",
       "      <td>HENRY,ALVIN,JENNINGS</td>\n",
       "    </tr>\n",
       "  </tbody>\n",
       "</table>\n",
       "</div>"
      ],
      "text/plain": [
       "        NPI_x  Entity Type Code_x  \\\n",
       "0  1013275874                   2   \n",
       "1  1023188943                   2   \n",
       "\n",
       "  Provider Organization Name (Legal Business Name)_x  \\\n",
       "0                         ELITE BIOMECHANICAL DESIGN   \n",
       "1                            JENNINGS ORTHOPEDIC INC   \n",
       "\n",
       "  Provider First Line Business Practice Location Address     City_x  \\\n",
       "0                                       2208 5TH AVE       OROVILLE   \n",
       "1                                 10683 MAGNOLIA AVE      RIVERSIDE   \n",
       "\n",
       "   Provider Business Practice Location Address Postal Code_x  \\\n",
       "0                                          959655816           \n",
       "1                                          925051893           \n",
       "\n",
       "   Provider Business Practice Location Address Telephone Number_x  \\\n",
       "0                                         5305346913                \n",
       "1                                         9513522029                \n",
       "\n",
       "  Authorized Official Last Name_x Authorized Official First Name_x  \\\n",
       "0                           CASEY                          MICHAEL   \n",
       "1                        JENNINGS                            HENRY   \n",
       "\n",
       "  Authorized Official Middle Name_x  Authorized Official Telephone Number_x  \\\n",
       "0                           PATRICK                              5308946913   \n",
       "1                             ALVIN                              9513522029   \n",
       "\n",
       "  Is Organization Subpart_x  Zip5_x           Address_x  taxonomy_x  \\\n",
       "0                         N   95965        2208 5TH AVE  335E00000X   \n",
       "1                         N   92505  10683 MAGNOLIA AVE  224P00000X   \n",
       "\n",
       "                    fml  \n",
       "0    NICHOLAS,D.,MADSEN  \n",
       "1  HENRY,ALVIN,JENNINGS  "
      ]
     },
     "execution_count": 80,
     "metadata": {},
     "output_type": "execute_result"
    }
   ],
   "source": [
    "clidf.head(2)"
   ]
  },
  {
   "cell_type": "code",
   "execution_count": 81,
   "id": "e9979dfe-d134-4177-8b0d-f7ac4c796d04",
   "metadata": {},
   "outputs": [],
   "source": [
    "clidf.rename(columns={'Provider Organization Name (Legal Business Name)_x': 'Clinic_name', \n",
    "                            'Address_x': 'Address', 'City_x': 'City',\n",
    "                           'Zip5_x': 'ZipCode'}, inplace=True)"
   ]
  },
  {
   "cell_type": "code",
   "execution_count": 82,
   "id": "daf217af-3fc5-43e9-bd9c-d29293271f7e",
   "metadata": {},
   "outputs": [],
   "source": [
    "comclidf = clidf[['Clinic_name', 'Address', 'City', 'ZipCode', 'fml']]"
   ]
  },
  {
   "cell_type": "code",
   "execution_count": 83,
   "id": "eaac715a-3cee-4a5f-af72-7a3888ce0dd2",
   "metadata": {},
   "outputs": [],
   "source": [
    "coltolower = ['Clinic_name', 'Address', 'City', 'ZipCode']"
   ]
  },
  {
   "cell_type": "code",
   "execution_count": 84,
   "id": "ee2d1b6f-cccc-4672-890b-e6c12b951eb0",
   "metadata": {},
   "outputs": [],
   "source": [
    "comclidf2 = pd.DataFrame()"
   ]
  },
  {
   "cell_type": "code",
   "execution_count": 85,
   "id": "da4237ac-0fc1-4f71-b8b3-5768464fdf9a",
   "metadata": {},
   "outputs": [],
   "source": [
    "for col in coltolower:\n",
    "    comclidf2[col] = comclidf[col].apply(lambda x: x.lower().strip() if isinstance(x, str) else x)"
   ]
  },
  {
   "cell_type": "code",
   "execution_count": 86,
   "id": "910c68bc-849c-49a7-9212-943d05f32b8e",
   "metadata": {},
   "outputs": [],
   "source": [
    "comclidf2['fml'] = comclidf['fml']"
   ]
  },
  {
   "cell_type": "code",
   "execution_count": 87,
   "id": "45c8d9e5-31ad-4f6a-80d8-92731c4e215a",
   "metadata": {},
   "outputs": [
    {
     "data": {
      "text/html": [
       "<div>\n",
       "<style scoped>\n",
       "    .dataframe tbody tr th:only-of-type {\n",
       "        vertical-align: middle;\n",
       "    }\n",
       "\n",
       "    .dataframe tbody tr th {\n",
       "        vertical-align: top;\n",
       "    }\n",
       "\n",
       "    .dataframe thead th {\n",
       "        text-align: right;\n",
       "    }\n",
       "</style>\n",
       "<table border=\"1\" class=\"dataframe\">\n",
       "  <thead>\n",
       "    <tr style=\"text-align: right;\">\n",
       "      <th></th>\n",
       "      <th>Clinic_name</th>\n",
       "      <th>Address</th>\n",
       "      <th>City</th>\n",
       "      <th>ZipCode</th>\n",
       "      <th>fml</th>\n",
       "    </tr>\n",
       "  </thead>\n",
       "  <tbody>\n",
       "    <tr>\n",
       "      <th>0</th>\n",
       "      <td>elite biomechanical design</td>\n",
       "      <td>2208 5th ave</td>\n",
       "      <td>oroville</td>\n",
       "      <td>95965</td>\n",
       "      <td>NICHOLAS,D.,MADSEN</td>\n",
       "    </tr>\n",
       "    <tr>\n",
       "      <th>1</th>\n",
       "      <td>jennings orthopedic inc</td>\n",
       "      <td>10683 magnolia ave</td>\n",
       "      <td>riverside</td>\n",
       "      <td>92505</td>\n",
       "      <td>HENRY,ALVIN,JENNINGS</td>\n",
       "    </tr>\n",
       "    <tr>\n",
       "      <th>2</th>\n",
       "      <td>baldwin orthotics &amp; prosthetics inc</td>\n",
       "      <td>24475 sunnymead blvd</td>\n",
       "      <td>moreno valley</td>\n",
       "      <td>92553</td>\n",
       "      <td>HARLAN,L,BALDWIN</td>\n",
       "    </tr>\n",
       "    <tr>\n",
       "      <th>3</th>\n",
       "      <td>ferraco, inc.</td>\n",
       "      <td>2933 long beach blvd</td>\n",
       "      <td>long beach</td>\n",
       "      <td>90806</td>\n",
       "      <td>PETER,L.,KORCHIN</td>\n",
       "    </tr>\n",
       "    <tr>\n",
       "      <th>4</th>\n",
       "      <td>pacific medical, inc.</td>\n",
       "      <td>3001 l st</td>\n",
       "      <td>sacramento</td>\n",
       "      <td>95816</td>\n",
       "      <td>FERHAN,INAM,MAHER; DAVID,J.,SCURTI; GEORGE,,VI...</td>\n",
       "    </tr>\n",
       "    <tr>\n",
       "      <th>...</th>\n",
       "      <td>...</td>\n",
       "      <td>...</td>\n",
       "      <td>...</td>\n",
       "      <td>...</td>\n",
       "      <td>...</td>\n",
       "    </tr>\n",
       "    <tr>\n",
       "      <th>58</th>\n",
       "      <td>valley institute of prosthetics &amp; orthotics, inc</td>\n",
       "      <td>23033 lyons ave</td>\n",
       "      <td>newhall</td>\n",
       "      <td>91321</td>\n",
       "      <td>ALLEN,,DOLBERRY</td>\n",
       "    </tr>\n",
       "    <tr>\n",
       "      <th>59</th>\n",
       "      <td>valley institute of prosthetics &amp; orthotics, inc.</td>\n",
       "      <td>1524 21st st</td>\n",
       "      <td>bakersfield</td>\n",
       "      <td>93301</td>\n",
       "      <td>MICHAEL,KURT,NELSON; NICOLE,CAROLYN,KERR</td>\n",
       "    </tr>\n",
       "    <tr>\n",
       "      <th>60</th>\n",
       "      <td>butte prosthetics</td>\n",
       "      <td>2260 esplanade</td>\n",
       "      <td>chico</td>\n",
       "      <td>95926</td>\n",
       "      <td>RONALD,EDWARD,THURMAN</td>\n",
       "    </tr>\n",
       "    <tr>\n",
       "      <th>61</th>\n",
       "      <td>active 1 prosthetics and orthotics</td>\n",
       "      <td>295 w cromwell ave</td>\n",
       "      <td>fresno</td>\n",
       "      <td>93711</td>\n",
       "      <td>STEPHAN,M,MAGILL</td>\n",
       "    </tr>\n",
       "    <tr>\n",
       "      <th>62</th>\n",
       "      <td>active life, llc</td>\n",
       "      <td>7910 frost st</td>\n",
       "      <td>san diego</td>\n",
       "      <td>92123</td>\n",
       "      <td>MADONNA,,IBRAHIM</td>\n",
       "    </tr>\n",
       "  </tbody>\n",
       "</table>\n",
       "<p>63 rows × 5 columns</p>\n",
       "</div>"
      ],
      "text/plain": [
       "                                          Clinic_name               Address  \\\n",
       "0                          elite biomechanical design          2208 5th ave   \n",
       "1                             jennings orthopedic inc    10683 magnolia ave   \n",
       "2                 baldwin orthotics & prosthetics inc  24475 sunnymead blvd   \n",
       "3                                       ferraco, inc.  2933 long beach blvd   \n",
       "4                               pacific medical, inc.             3001 l st   \n",
       "..                                                ...                   ...   \n",
       "58   valley institute of prosthetics & orthotics, inc       23033 lyons ave   \n",
       "59  valley institute of prosthetics & orthotics, inc.          1524 21st st   \n",
       "60                                  butte prosthetics        2260 esplanade   \n",
       "61                 active 1 prosthetics and orthotics    295 w cromwell ave   \n",
       "62                                   active life, llc         7910 frost st   \n",
       "\n",
       "             City  ZipCode                                                fml  \n",
       "0        oroville    95965                                 NICHOLAS,D.,MADSEN  \n",
       "1       riverside    92505                               HENRY,ALVIN,JENNINGS  \n",
       "2   moreno valley    92553                                   HARLAN,L,BALDWIN  \n",
       "3      long beach    90806                                   PETER,L.,KORCHIN  \n",
       "4      sacramento    95816  FERHAN,INAM,MAHER; DAVID,J.,SCURTI; GEORGE,,VI...  \n",
       "..            ...      ...                                                ...  \n",
       "58        newhall    91321                                    ALLEN,,DOLBERRY  \n",
       "59    bakersfield    93301           MICHAEL,KURT,NELSON; NICOLE,CAROLYN,KERR  \n",
       "60          chico    95926                              RONALD,EDWARD,THURMAN  \n",
       "61         fresno    93711                                   STEPHAN,M,MAGILL  \n",
       "62      san diego    92123                                   MADONNA,,IBRAHIM  \n",
       "\n",
       "[63 rows x 5 columns]"
      ]
     },
     "execution_count": 87,
     "metadata": {},
     "output_type": "execute_result"
    }
   ],
   "source": [
    "comclidf2"
   ]
  },
  {
   "cell_type": "code",
   "execution_count": 88,
   "id": "cc5dd60b-e63c-4c20-89c6-729a9d147835",
   "metadata": {},
   "outputs": [],
   "source": [
    "# comclidf2.to_excel('temp4.xlsx',index=False)"
   ]
  },
  {
   "cell_type": "code",
   "execution_count": 89,
   "id": "9d7a1ac0-5316-4828-98c6-be4c2aaa5bd5",
   "metadata": {},
   "outputs": [
    {
     "data": {
      "text/html": [
       "<div>\n",
       "<style scoped>\n",
       "    .dataframe tbody tr th:only-of-type {\n",
       "        vertical-align: middle;\n",
       "    }\n",
       "\n",
       "    .dataframe tbody tr th {\n",
       "        vertical-align: top;\n",
       "    }\n",
       "\n",
       "    .dataframe thead th {\n",
       "        text-align: right;\n",
       "    }\n",
       "</style>\n",
       "<table border=\"1\" class=\"dataframe\">\n",
       "  <thead>\n",
       "    <tr style=\"text-align: right;\">\n",
       "      <th></th>\n",
       "      <th>Clinic_name</th>\n",
       "      <th>Address</th>\n",
       "      <th>City</th>\n",
       "      <th>State</th>\n",
       "      <th>ZipCode</th>\n",
       "      <th>Phone</th>\n",
       "      <th>Phone_y</th>\n",
       "      <th>FAX</th>\n",
       "      <th>Email</th>\n",
       "      <th>Website</th>\n",
       "      <th>Name</th>\n",
       "      <th>Other_info</th>\n",
       "      <th>Unnamed: 9</th>\n",
       "      <th>Unnamed: 10</th>\n",
       "      <th>Unnamed: 11</th>\n",
       "      <th>NPI</th>\n",
       "    </tr>\n",
       "  </thead>\n",
       "  <tbody>\n",
       "    <tr>\n",
       "      <th>0</th>\n",
       "      <td>valley institute of prosthetics &amp; orthotics, inc.</td>\n",
       "      <td>1524 21st st</td>\n",
       "      <td>bakersfield</td>\n",
       "      <td>ca</td>\n",
       "      <td>93301</td>\n",
       "      <td>6613221005</td>\n",
       "      <td>(661) 322-1005</td>\n",
       "      <td>NaN</td>\n",
       "      <td>NaN</td>\n",
       "      <td>http://www.vipoinc.com/</td>\n",
       "      <td>NaN</td>\n",
       "      <td>NaN</td>\n",
       "      <td>NaN</td>\n",
       "      <td>NaN</td>\n",
       "      <td>NaN</td>\n",
       "      <td>1912955881</td>\n",
       "    </tr>\n",
       "    <tr>\n",
       "      <th>1</th>\n",
       "      <td>channel islands prosthetics-orthotics</td>\n",
       "      <td>4517 market st</td>\n",
       "      <td>ventura</td>\n",
       "      <td>ca</td>\n",
       "      <td>93003</td>\n",
       "      <td>8056581822</td>\n",
       "      <td>(805) 658-1822</td>\n",
       "      <td>Fax (805) 658-1824</td>\n",
       "      <td>chris@cip-o.com</td>\n",
       "      <td>http://www.channelislandsp-o.com/</td>\n",
       "      <td>John Stephen McAtee, CP, FAAOP,</td>\n",
       "      <td>Owner</td>\n",
       "      <td>Arnel Dobrin-McAtee, CP Christopher J. Hollowa...</td>\n",
       "      <td>NaN</td>\n",
       "      <td>NaN</td>\n",
       "      <td>1891902524</td>\n",
       "    </tr>\n",
       "  </tbody>\n",
       "</table>\n",
       "</div>"
      ],
      "text/plain": [
       "                                         Clinic_name         Address  \\\n",
       "0  valley institute of prosthetics & orthotics, inc.    1524 21st st   \n",
       "1              channel islands prosthetics-orthotics  4517 market st   \n",
       "\n",
       "          City State  ZipCode       Phone         Phone_y                 FAX  \\\n",
       "0  bakersfield    ca    93301  6613221005  (661) 322-1005                 NaN   \n",
       "1      ventura    ca    93003  8056581822  (805) 658-1822  Fax (805) 658-1824   \n",
       "\n",
       "             Email                            Website  \\\n",
       "0              NaN            http://www.vipoinc.com/   \n",
       "1  chris@cip-o.com  http://www.channelislandsp-o.com/   \n",
       "\n",
       "                              Name Other_info  \\\n",
       "0                              NaN        NaN   \n",
       "1  John Stephen McAtee, CP, FAAOP,      Owner   \n",
       "\n",
       "                                          Unnamed: 9 Unnamed: 10 Unnamed: 11  \\\n",
       "0                                                NaN         NaN         NaN   \n",
       "1  Arnel Dobrin-McAtee, CP Christopher J. Hollowa...         NaN         NaN   \n",
       "\n",
       "          NPI  \n",
       "0  1912955881  \n",
       "1  1891902524  "
      ]
     },
     "execution_count": 89,
     "metadata": {},
     "output_type": "execute_result"
    }
   ],
   "source": [
    "frame5.head(2)"
   ]
  },
  {
   "cell_type": "code",
   "execution_count": 90,
   "id": "d98110e2-d404-4d14-9c98-332da34950aa",
   "metadata": {},
   "outputs": [],
   "source": [
    "frame6 = frame5.merge(comclidf2, on = ['Clinic_name', 'City'], how = 'left')\n"
   ]
  },
  {
   "cell_type": "code",
   "execution_count": 91,
   "id": "985e2d4d-881d-4ffc-97ae-302ca08bc5ba",
   "metadata": {},
   "outputs": [],
   "source": [
    "# frame6"
   ]
  },
  {
   "cell_type": "code",
   "execution_count": 92,
   "id": "80d31ad3-02bf-4666-9067-4696d79160b4",
   "metadata": {},
   "outputs": [
    {
     "data": {
      "text/plain": [
       "Index(['Clinic_name', 'Address_x', 'City', 'State', 'ZipCode_x', 'Phone',\n",
       "       'Phone_y', 'FAX', 'Email', 'Website', 'Name', 'Other_info',\n",
       "       'Unnamed: 9', 'Unnamed: 10', 'Unnamed: 11', 'NPI', 'Address_y',\n",
       "       'ZipCode_y', 'fml'],\n",
       "      dtype='object')"
      ]
     },
     "execution_count": 92,
     "metadata": {},
     "output_type": "execute_result"
    }
   ],
   "source": [
    "frame6.columns"
   ]
  },
  {
   "cell_type": "code",
   "execution_count": 93,
   "id": "64e2fb8f-dd22-4837-bf0e-841ae94df7cd",
   "metadata": {},
   "outputs": [],
   "source": [
    "frame6.rename(columns={'Address_x': 'Address', \n",
    "                            'ZipCode_x': 'ZipCode'}, inplace=True)"
   ]
  },
  {
   "cell_type": "code",
   "execution_count": 94,
   "id": "30b88679-92b2-4a7f-b88a-85eb53a5115a",
   "metadata": {},
   "outputs": [],
   "source": [
    "frame7 = frame6[['Clinic_name', 'Address', 'City', 'State', 'ZipCode', 'Phone',\n",
    "       'Phone_y', 'FAX', 'Email', 'Website', 'Name', 'Other_info',\n",
    "       'Unnamed: 9', 'Unnamed: 10', 'Unnamed: 11', 'fml']]"
   ]
  },
  {
   "cell_type": "code",
   "execution_count": 95,
   "id": "0c367273-35ed-4118-b300-d0c357370154",
   "metadata": {},
   "outputs": [],
   "source": [
    "frame7.to_excel('output_calist.xlsx',index=False)"
   ]
  },
  {
   "cell_type": "code",
   "execution_count": 96,
   "id": "20f46d79-e51b-4efd-bb31-5a7dfce5697a",
   "metadata": {},
   "outputs": [
    {
     "data": {
      "text/plain": [
       "(401, 16)"
      ]
     },
     "execution_count": 96,
     "metadata": {},
     "output_type": "execute_result"
    }
   ],
   "source": [
    "frame7.shape"
   ]
  },
  {
   "cell_type": "code",
   "execution_count": null,
   "id": "c9b1c567-a4f6-4df8-9189-946fd0c10fea",
   "metadata": {},
   "outputs": [],
   "source": []
  },
  {
   "cell_type": "code",
   "execution_count": null,
   "id": "2ede2a33-14c2-476d-b831-7ff4179f1b85",
   "metadata": {},
   "outputs": [],
   "source": []
  },
  {
   "cell_type": "code",
   "execution_count": null,
   "id": "138f2f82-38a0-4248-85d6-422beaa9baff",
   "metadata": {},
   "outputs": [],
   "source": []
  },
  {
   "cell_type": "markdown",
   "id": "a67cdd34-3467-4d51-8839-7644543ad890",
   "metadata": {},
   "source": [
    "# Load result_df  - use zip code to filter clinics by page"
   ]
  },
  {
   "cell_type": "code",
   "execution_count": 135,
   "id": "130634f7-bbac-4f76-ae5a-79fdce925b31",
   "metadata": {},
   "outputs": [],
   "source": [
    "result_df = pd.read_excel('output_calist.xlsx')"
   ]
  },
  {
   "cell_type": "code",
   "execution_count": 136,
   "id": "bfab329f-3e1a-4374-a5f6-c80320a6fea6",
   "metadata": {},
   "outputs": [],
   "source": [
    "# result_df['ZipCode'] = pd.to_numeric(result_df['ZipCode'], errors='coerce', downcast='integer')"
   ]
  },
  {
   "cell_type": "code",
   "execution_count": 137,
   "id": "9885a452-7132-495c-8c34-7ead9e0bb792",
   "metadata": {},
   "outputs": [],
   "source": [
    "area1 = [91934,92259,91905,92273,92231,92232,92243,91906,91987,92244,92249,91963,91962,91980,91948,92251,92036,91917,92250,91931,91901,91935,91916,92281,92274,91903,92227,92004,92019,91915,92154,91978,91914,91913,92021,92173,92040,91902,91977,91908,91911,92022,91976,91979,92020,91910,92233,91941,92275,91921,92153,92139,91946,92072,91945,92114,91943,91944,91909,91912,91942,91932,91933,91950,92119,91951,92065,92115,92257,92105,92071,92182,92136,92113,92120,92102,92066,92104,92155,92124,92118,92070,92134,92116,85349,92137,92138,92142,92143,92149,92150,92158,92159,92160,92161,92163,92165,92166,92167,92168,92170,92171,92172,92174,92175,92176,92177,92179,92186,92187,92191,92192,92193,92195,92196,92197,92112,92132,92147,85336,92178,92283,92108,92101,92123,92103,92086,92074,92064,92131,92135,92145,92140,92111,92110,92106,85350,92152,92199,92128,92117,92107,92126,92025,92198,92109,92129,92122,92027,92169,92121,92127,92093,85364,92037,92254,92130,92092,92060,92038,92039,92030,92033,92046,92014,92029,92067,92091,85369,92082,92061,92075,92096,92078,92007,92079,92024,92026,92069,92009,92023,85365,92222,92013,92059,85366,92081,92011,92084,92253,92539,92010,92536,92085,92083,92247,92248,92236,92008,92201,92561,92056,92210,92003,92202,92260,92018,85367,92057,92255,92261,92203,92054,92049,92051,92052,92211,92264]"
   ]
  },
  {
   "cell_type": "code",
   "execution_count": 138,
   "id": "a054dad9-caae-4dd9-bc71-e8c8d36ce5ae",
   "metadata": {},
   "outputs": [],
   "source": [
    "area2 = [92879,92877,92878,92860,92505,92881,92880,92503,92882,91752,92504,91708,92883,92502,92513,92514,92516,92517,92519,92522,92509,92676,91761,92862,92506,92887,91710,92501,91762,92808,91709,92508,92337,92521,91743,92331,92507,91764,92570,91758,92610,92335,92518,92886,92316,92807,91730,92602,92885,92678,92334,92869,92823,91729,91763,91785,92313,92553,92861,91739,92557,91766,91786,92811,92867,91769,92376,92679,92532,92551,92620,92618,91765,91767,92870,92324,92782,92688,92630,91701,92865,92871,92336,92531,92705,91737,92572,92599,92866,92781,92650,92780,92357,91768,92350,92856,92857,92859,92863,92864,92806,91711,92530,92571,91784,92604,92354,92403,92411,92692,92410,92821,92587,91789,92401,92735,92318,92606,92831,92822,92691,92701,92408,92377,92834,92836,92837,92838,92868,92690,92402,92406,92413,92415,92418,92423,92427,91788,92799,92702,92711,92712,92835,92706,92675,92614,92805,92803,92812,92814,92815,92816,92817,92825,92850,92405,92899,91750,92637,92616,92619,92623,92698,91748,92609,92653,92585,92832,92612,92802,92586,91773,91724,91792,92707,92603,92373,92694,92703,92840,92375,91791,90632,90633,92842,92846,92595,92697,91740,92656,92809,92843,92617,92374,92555,92801,90631,92704,91723,92833,92369,92404,92556,91744,92584,92567,91759,92552,92626,91747,91749,91741,92554,92660,91722,92548,92804,92677,92657,90621,92346,91793,92358,92708,92841,90622,90624,92844,91790,90603,92728,91745,92322,92651,90638,92693,90680,92625,92627,90620,90604,90637,92607,92652,92654,92628,92655,90639,92685,91702,92562,90605,92683,92407,92662,92684,92320,92325,91746,92661,91706,92663,92646,92545,90602,92658,92659,92845,92605,92564,92673,90630,92647,90607,90608,90609,90623,90601,92629,92378,92582,91010,90670,92391,91732,92563,92624,92223,90703,92359,92615,90720,91009,91734,91735,90650,90716,91008,90606,92317,90610,90721,90701,91016,90651,90652,90715,92648,90702,92596,92382,91733,92399,92674,92649,90671,92397,91017,91731,92590,90740,90660,92385,92321,90742,90661,90662,92352,90713,90808,91780,90707,91006,90743,92546,92581,91771,91772,91066,91077,91770,92672,92543,90815,90240,91007,90640,90840,90706,90241,90711,90714,90239,92589,92593,90242,92591,91776,91755,90712,90803,92583,91025,91024,92344,90804,90814,91775,91756,91778,90202,93563,92341,92055,90723,90040,90831,92028,90091,90833,91716,90755,90022,90201,91714,91715,90805,91802,91896,91899,90807,92345,91754,91804,90806,91108,91107,91801,91803,92329,90280,92371,90270,92592,90221,91106,90801,90809,90832,90842,90844,90846,90847,90848,90853,90262,92088,91023,91031,91199,91030,90063,91104,91101,90813,92372,90023,90223,90224,90032,90895,91102,91109,91110,91114,91115,91116,91117,91118,91121,91124,91125,91126,91129,91182,91184,91185,91188,91189,90255,90058,92340,90810,92220,91123,90802,91011,91003,90222,92544,90033,90220,91105,91001,92068,90059,90042,90096,90002,91103,90001,90031,90746,90747,92392,90021,90745,92305,90013,90079,90041,92339,90744,90009,90030,90050,90051,90052,90053,90054,90055,90060,90072,90074,90075,90076,90078,90080,90081,90082,90083,90086,90087,90088,90093,90748,90012,90011,92058,90061,90014,90822,90189,93544,90099,90003,90065,90071,90749,92230,92315,90248,92308,90015,92333,90017,90502,90731,90044,90026,91206,90247,90070,90007,90037,92549,91205,90710,90089,90057,91012,90039,93553,92314,90733,90734,90047,90501,90006,90249,91209,91221,91222,91224,91225,91226,91204,91210,90062,92003,91021,90717,90504,90029,92057,90732,92395,90506,90303,91203,91020,90305,90018,90005,91208,90010,91046,90020,90507,90508,90509,90510,91202,90027,90004,91207,90250,90043,90251,91393,90503,92393,90260,90311,92386,90306,90307,90308,90309,90310,90312,90505,91214,90008,90302,92059,90019,90304,90038,90301,91201,90028,90278,93543,90275,92049,92051,92052,90016,90261,92054,90036,91042,92536,90274,91334,90056,91502,91503,91507,91508,91510,91526,90068,92394,91521,90277,92056,91501,91506,91523,91522,90254,90266,90267]"
   ]
  },
  {
   "cell_type": "code",
   "execution_count": 139,
   "id": "102a9533-0711-49b4-8780-eb624f5d0302",
   "metadata": {},
   "outputs": [],
   "source": [
    "area3 = [92252,92286,92284,92277,92278,92241,92268,92256,92276,92240,92203,92211,92285,92258,92234,92202,92270,92201,92236,92235,92263,92262,92282,92255,92261,92210,92247,92248,92253,92260,92264,92304,92561,92386,92339,92230,92305,92220,92314,92549,92315,92254,92333,92239,92356,92399,92338,92583,92223,92539,92359,92320,92581,92341,92546,92582,92544,92554,92385,92382,92556,92543,92365,92555,92321,92373,92346,92536,92374,92375,92308,92332,92552,92567,92352,92275,92545,92317,92548,92369,92257,92327,92391,92378,92318,92307,92354,92408,92357,92596,92350,92571,92324,92551,92404,92557,92553,92592,92325,92401,92410,92585,92402,92406,92413,92415,92418,92423,92427,92066,92405,92407,92403,92572,92599,92313,92322,92518,92411,92586,92086,92340,92507,92345,92584,92521,92274,92563,92508,92591,92393,92395,92004,92060,92506,92312,92587,92376,92377,92501,92316,92398,92311,92394,92059,92570,92233,92502,92513,92514,92516,92517,92519,92522,92344,92368,92589,92593,92061,92532,92334,92595,92564,92504,92331,92392,92336,92509,92335,92531,92070,92337,92309,92503,92280,92562,92590,92082,92281,92505,91739,92881,92342,92358,91752,91759,92530,92323,91730,91737,92883,92879,92371,92397,91701,91764,92860,91729,91743,91761,92088,92329,92877,92878,92301,92028,92026,92310,92027,92880,92003,91762,92065,91785,92372,91758,91784,92227,92036,91786,92882,91708,91710,92676,92679,92068,92025,92069,92364,91763,92084,92678,91711,92030,92033,92046,92363,92675,92057,91916,91767,92055,92079,92347,92085,92083,92688,92251,91709,92096,91750,91931,92058,91769,91948,92862,92610,92887,91766,92078,92056,92029,92081,92808,92225,91962,92692,91768,93544,92366,92064,92226,92198,92630,92010,91773,92691,92672,92694,92690,92886,92040,92602,92823,91765,92127,92128,92807,92054,92008,92885,92283,92009,92618,91741,92074,92273,92869,92049,92051,92052,92673,91740,92199,92259,92013,92266,92620,91724,92609,92018,91903,92653,92693,92674,92011,91789,91905,92861,92650,93524,92811,92637,85371,91788,92867,92067]"
   ]
  },
  {
   "cell_type": "code",
   "execution_count": 140,
   "id": "de2a2cd7-f75e-40eb-84fb-c4f746687158",
   "metadata": {},
   "outputs": [],
   "source": [
    "zips_ca = pd.read_csv(\"zip-code-list.csv\")"
   ]
  },
  {
   "cell_type": "code",
   "execution_count": 141,
   "id": "da9864f7-ba49-439c-a459-2cdbca609ba1",
   "metadata": {},
   "outputs": [
    {
     "data": {
      "text/plain": [
       "True"
      ]
     },
     "execution_count": 141,
     "metadata": {},
     "output_type": "execute_result"
    }
   ],
   "source": [
    "92074 in zips_ca[\"zip_code\"].tolist()"
   ]
  },
  {
   "cell_type": "code",
   "execution_count": 142,
   "id": "b778b752-1f8b-4fa6-b8f2-51d45a7ee40b",
   "metadata": {},
   "outputs": [
    {
     "data": {
      "text/plain": [
       "1190"
      ]
     },
     "execution_count": 142,
     "metadata": {},
     "output_type": "execute_result"
    }
   ],
   "source": [
    "len(area1) + len(area2) + len(area3)"
   ]
  },
  {
   "cell_type": "code",
   "execution_count": 143,
   "id": "31d958fa-c0cc-4daf-a318-c9e588ce185e",
   "metadata": {},
   "outputs": [
    {
     "data": {
      "text/plain": [
       "2664"
      ]
     },
     "execution_count": 143,
     "metadata": {},
     "output_type": "execute_result"
    }
   ],
   "source": [
    "len(zips_ca[\"zip_code\"])"
   ]
  },
  {
   "cell_type": "code",
   "execution_count": 144,
   "id": "112ba69e-6898-4592-9851-59828ebbf446",
   "metadata": {},
   "outputs": [],
   "source": [
    "leftset = set(zips_ca[\"zip_code\"]) - set(area1) - set(area2) - set(area3)\n",
    "area4 = list(leftset)"
   ]
  },
  {
   "cell_type": "code",
   "execution_count": 146,
   "id": "29bc3c41-544b-4d07-aa29-a27e98be12d9",
   "metadata": {},
   "outputs": [],
   "source": [
    "# result_df"
   ]
  },
  {
   "cell_type": "code",
   "execution_count": 147,
   "id": "a4938853-1653-4430-bb44-683dfa735cc0",
   "metadata": {},
   "outputs": [
    {
     "data": {
      "text/plain": [
       "(32, 16)"
      ]
     },
     "execution_count": 147,
     "metadata": {},
     "output_type": "execute_result"
    }
   ],
   "source": [
    "filtered1 = result_df[result_df['ZipCode'].isin(area1)]\n",
    "filtered1.shape\n",
    "# filtered1"
   ]
  },
  {
   "cell_type": "code",
   "execution_count": 148,
   "id": "d92a9a5a-b5cf-450e-ad45-cf3b73761a4a",
   "metadata": {},
   "outputs": [
    {
     "data": {
      "text/plain": [
       "(161, 16)"
      ]
     },
     "execution_count": 148,
     "metadata": {},
     "output_type": "execute_result"
    }
   ],
   "source": [
    "filtered2 = result_df[result_df['ZipCode'].isin(area2)]\n",
    "filtered2.shape\n",
    "# filtered2"
   ]
  },
  {
   "cell_type": "code",
   "execution_count": 149,
   "id": "fa868adf-cfee-4f20-9ea0-5aecd5d059fb",
   "metadata": {},
   "outputs": [
    {
     "data": {
      "text/plain": [
       "(70, 16)"
      ]
     },
     "execution_count": 149,
     "metadata": {},
     "output_type": "execute_result"
    }
   ],
   "source": [
    "filtered3 = result_df[result_df['ZipCode'].isin(area3)]\n",
    "filtered3.shape\n",
    "# filtered3"
   ]
  },
  {
   "cell_type": "code",
   "execution_count": 150,
   "id": "d85bd582-e62d-45c2-869b-6350892c5532",
   "metadata": {},
   "outputs": [
    {
     "data": {
      "text/plain": [
       "(203, 16)"
      ]
     },
     "execution_count": 150,
     "metadata": {},
     "output_type": "execute_result"
    }
   ],
   "source": [
    "filtered4 = result_df[result_df['ZipCode'].isin(area4)]\n",
    "filtered4.shape\n",
    "# filtered4"
   ]
  },
  {
   "cell_type": "code",
   "execution_count": 151,
   "id": "cbb980bf-d9db-4eb0-9b0e-f2449fb7d77e",
   "metadata": {},
   "outputs": [],
   "source": [
    "workbook = openpyxl.load_workbook('cleancali3.xlsx')"
   ]
  },
  {
   "cell_type": "code",
   "execution_count": 152,
   "id": "8f0d6806-e929-4be2-9df3-6497a86d68cf",
   "metadata": {},
   "outputs": [],
   "source": [
    "page_names = ['area1', 'area2', 'area3', 'area4']\n",
    "dataframes = [filtered1, filtered2, filtered3, filtered4]"
   ]
  },
  {
   "cell_type": "code",
   "execution_count": 153,
   "id": "430ddba6-cc95-479a-a00f-c935ce27224a",
   "metadata": {},
   "outputs": [],
   "source": [
    "for df, page_name in zip(dataframes, page_names):\n",
    "    new_worksheet = workbook.create_sheet(title=page_name)\n",
    "\n",
    "    # Write DataFrame to the new worksheet\n",
    "    for row in dataframe_to_rows(df, index=False, header=True):\n",
    "        new_worksheet.append(row)"
   ]
  },
  {
   "cell_type": "code",
   "execution_count": 155,
   "id": "84eb21d8-7ad5-4cdd-93df-f8595a476866",
   "metadata": {},
   "outputs": [],
   "source": [
    "workbook.save('output_cabyzip.xlsx')"
   ]
  }
 ],
 "metadata": {
  "kernelspec": {
   "display_name": "Python 3 (ipykernel)",
   "language": "python",
   "name": "python3"
  },
  "language_info": {
   "codemirror_mode": {
    "name": "ipython",
    "version": 3
   },
   "file_extension": ".py",
   "mimetype": "text/x-python",
   "name": "python",
   "nbconvert_exporter": "python",
   "pygments_lexer": "ipython3",
   "version": "3.9.15"
  }
 },
 "nbformat": 4,
 "nbformat_minor": 5
}
