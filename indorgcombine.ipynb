{
 "cells": [
  {
   "cell_type": "code",
   "execution_count": 9,
   "id": "97570f4e-2a71-4ce4-b7b2-0d4f0205eb33",
   "metadata": {
    "tags": []
   },
   "outputs": [],
   "source": [
    "# pip install censusgeocode"
   ]
  },
  {
   "cell_type": "code",
   "execution_count": 1,
   "id": "cd737de5-f69b-46e0-9659-409b543429f5",
   "metadata": {},
   "outputs": [],
   "source": [
    "import pandas as pd\n",
    "import numpy as np\n",
    "import censusgeocode as cg\n",
    "import time\n",
    "from datetime import datetime\n",
    "\n",
    "import geopandas as gpd\n",
    "import os"
   ]
  },
  {
   "cell_type": "markdown",
   "id": "05634d21-dcaf-4d79-a6a8-e01f07dd23b7",
   "metadata": {
    "tags": []
   },
   "source": [
    "### Setting"
   ]
  },
  {
   "cell_type": "markdown",
   "id": "9095b87f-1720-4935-bcfb-a1bdd2b7c84c",
   "metadata": {},
   "source": [
    "1. Clinic/Center - Amputee: 261QA0900X\n",
    "2. Orthotist: 222Z00000X\n",
    "3. Prosthetist: 224P00000X\n",
    "4. Prosthetic/Orthotic Supplier:335E00000X\n",
    "<br>/////////////////////\n",
    "5. Prosthetics Case Management: 1744P3200X\n",
    "6. Orthotic Fitter: 225000000X\n",
    "7. Pedorthist: 224L00000X"
   ]
  },
  {
   "cell_type": "code",
   "execution_count": 2,
   "id": "141c451e-3d71-48c8-8706-9b977c419c17",
   "metadata": {},
   "outputs": [],
   "source": [
    "keep_col = ['NPI','Entity Type Code', 'Replacement NPI',\n",
    "            'Provider Organization Name (Legal Business Name)',\n",
    "            'Provider Last Name (Legal Name)',\n",
    "            'Provider First Name',\n",
    "            'Provider Middle Name',\n",
    "            'Provider First Line Business Practice Location Address',\n",
    "            'Provider Business Practice Location Address City Name',\n",
    "            'Provider Business Practice Location Address State Name',\n",
    "            'Provider Business Practice Location Address Postal Code',\n",
    "            'Provider Business Practice Location Address Telephone Number',\n",
    "            'NPI Deactivation Reason Code','NPI Deactivation Date','NPI Reactivation Date',\n",
    "            'Provider Gender Code',\n",
    "            'Authorized Official Last Name',\n",
    "            'Authorized Official First Name',\n",
    "            'Authorized Official Middle Name',\n",
    "            'Authorized Official Telephone Number',\n",
    "            'Is Sole Proprietor', 'Is Organization Subpart'\n",
    "           ]\n",
    "\n",
    "\n",
    "taxon_codes = ['Healthcare Provider Taxonomy Code_' + str(i+1) for i in range(15)]\n",
    "taxonswitch_codes = ['Healthcare Provider Primary Taxonomy Switch_' + str(i+1) for i in range(15)]\n",
    "keep_col += taxon_codes\n",
    "keep_col += taxonswitch_codes\n",
    "\n",
    "community_pharm = ['261QA0900X', '222Z00000X', '224P00000X','335E00000X']\n",
    "npi_csv = 'npidata_pfile_20050523-20230212.csv'\n",
    "\n",
    "end_str = [' STE', ' SUITE', ' BLDG', ' TOWER', ', #', ' UNIT',\n",
    "           ' APT', ' BUILDING',',', '#']"
   ]
  },
  {
   "cell_type": "code",
   "execution_count": 3,
   "id": "f531553c-35e3-4441-99bc-6716b9cc1e19",
   "metadata": {},
   "outputs": [],
   "source": [
    "def sub_rows(data):\n",
    "    # ec = data['Entity Type Code'] == \"2\"\n",
    "    st = data['Provider Business Practice Location Address State Name'] == 'CA'\n",
    "    ta = data[taxon_codes].isin(community_pharm).any(axis=1)\n",
    "    # ac = data['NPI Deactivation Reason Code'].isna()\n",
    "    all_together =  st & ta #& ac ec &\n",
    "    sub = data[all_together]\n",
    "    return sub\n",
    "\n",
    "def csv_chunks(file,chunk_size,keep_cols,row_sub):\n",
    "    header_fields = list(pd.read_csv(npi_csv, nrows=1))\n",
    "    header_locs = [header_fields.index(i) for i in keep_cols]\n",
    "    skip = 1\n",
    "    it_n = 0\n",
    "    sub_n = 0\n",
    "    ret_chunk = chunk_size\n",
    "    fin_li_dat = []\n",
    "    while ret_chunk == chunk_size:\n",
    "        file_chunk = pd.read_csv(file, usecols=header_locs, skiprows=skip, \n",
    "                     nrows=chunk_size, names=header_fields, dtype='str')\n",
    "        sub_dat = row_sub(file_chunk)\n",
    "        fin_li_dat.append( sub_dat.copy() )\n",
    "        skip += chunk_size\n",
    "        it_n += 1\n",
    "        sub_n += sub_dat.shape[0]\n",
    "        print(f'Grabbed iter {it_n} total sub n so far {sub_n}')\n",
    "        ret_chunk = file_chunk.shape[0]\n",
    "    fin_dat = pd.concat(fin_li_dat, axis=0)\n",
    "    return fin_dat\n",
    "\n",
    "def clean_add(address):\n",
    "    add_new = address.upper()\n",
    "    for su in end_str:\n",
    "        sf = address.find(su)\n",
    "        if sf > -1:\n",
    "            add_new = add_new[0:sf]\n",
    "    add_new = add_new.replace('.','')\n",
    "    add_new = add_new.strip()\n",
    "    return add_new"
   ]
  },
  {
   "cell_type": "markdown",
   "id": "34352337-06cb-4391-9019-5823c060c2d4",
   "metadata": {},
   "source": [
    "### Run"
   ]
  },
  {
   "cell_type": "code",
   "execution_count": 5,
   "id": "581d2fcb-47ee-4780-a251-6f065215ed76",
   "metadata": {},
   "outputs": [],
   "source": [
    "# # Takes about 3 minutes\n",
    "# print( datetime.now() )\n",
    "# pharm_tx = csv_chunks(npi_csv, chunk_size=1000000, keep_cols=keep_col, row_sub=sub_rows)\n",
    "# print( datetime.now() )"
   ]
  },
  {
   "cell_type": "markdown",
   "id": "31d8391a-a915-441f-9aaf-933621d1b5a0",
   "metadata": {},
   "source": [
    "## read temp_ph"
   ]
  },
  {
   "cell_type": "code",
   "execution_count": 6,
   "id": "da65a2ac-4d65-4ee0-9cbc-7c3a64c598f8",
   "metadata": {},
   "outputs": [],
   "source": [
    "# pharm_tx.to_excel('temp_ph.xlsx',index=False)"
   ]
  },
  {
   "cell_type": "code",
   "execution_count": 7,
   "id": "42b9afb0-0903-4ea1-952a-388624e4b4be",
   "metadata": {},
   "outputs": [],
   "source": [
    "ph_tx = pd.read_excel('temp_ph.xlsx')"
   ]
  },
  {
   "cell_type": "code",
   "execution_count": 9,
   "id": "333e722b-b3a6-4310-858b-67c9d7d99436",
   "metadata": {},
   "outputs": [],
   "source": [
    "# ph_tx.columns"
   ]
  },
  {
   "cell_type": "code",
   "execution_count": 10,
   "id": "6d4a2fde-af20-4775-a7a2-8cd8c1de0cab",
   "metadata": {},
   "outputs": [
    {
     "data": {
      "text/plain": [
       "numpy.int64"
      ]
     },
     "execution_count": 10,
     "metadata": {},
     "output_type": "execute_result"
    }
   ],
   "source": [
    "type(ph_tx['Provider Business Practice Location Address Postal Code'][0])"
   ]
  },
  {
   "cell_type": "code",
   "execution_count": 11,
   "id": "2bfc4000-cc6a-4548-a261-76a8c1d50e72",
   "metadata": {},
   "outputs": [],
   "source": [
    "ph_tx = ph_tx.fillna('NaN')"
   ]
  },
  {
   "cell_type": "code",
   "execution_count": 12,
   "id": "e8c36eb5-2cfb-4418-b64c-e0e3fb4f43ec",
   "metadata": {},
   "outputs": [],
   "source": [
    "ph_tx['Provider Business Practice Location Address Postal Code'] = ph_tx['Provider Business Practice Location Address Postal Code'].astype(str)\n",
    "ph_tx['Zip5'] = ph_tx['Provider Business Practice Location Address Postal Code'].str[0:5]"
   ]
  },
  {
   "cell_type": "code",
   "execution_count": 13,
   "id": "115624df-faad-4ed9-a281-0f7c22a17056",
   "metadata": {},
   "outputs": [],
   "source": [
    "ph_tx['Address'] = ph_tx['Provider First Line Business Practice Location Address'].apply(clean_add)\n",
    "ph_tx.rename(columns={'Provider Business Practice Location Address City Name':'City',\n",
    "                      'Provider Business Practice Location Address State Name':'State2'}\n",
    "             ,inplace=True)"
   ]
  },
  {
   "cell_type": "code",
   "execution_count": 14,
   "id": "2ed21920-fddd-4987-acdc-df5bcedd9158",
   "metadata": {},
   "outputs": [],
   "source": [
    "ph_tx = ph_tx[-ph_tx['Provider Organization Name (Legal Business Name)'].str.contains(\"NORDSTROM\")].reset_index(drop = True)"
   ]
  },
  {
   "cell_type": "code",
   "execution_count": 15,
   "id": "0b6a7961-ab8f-49af-9647-c82e26fba860",
   "metadata": {},
   "outputs": [
    {
     "data": {
      "text/plain": [
       "(1359, 54)"
      ]
     },
     "execution_count": 15,
     "metadata": {},
     "output_type": "execute_result"
    }
   ],
   "source": [
    "ph_tx.shape"
   ]
  },
  {
   "cell_type": "code",
   "execution_count": 16,
   "id": "35d6b06d-13f4-4b2f-ba24-8f17732338d3",
   "metadata": {},
   "outputs": [],
   "source": [
    "newc = []\n",
    "for n in range(len(ph_tx)):\n",
    "    for i in range(15):\n",
    "        if ph_tx.iloc[n]['Healthcare Provider Primary Taxonomy Switch_' + str(i+1)] == 'Y':\n",
    "            v = ph_tx.iloc[n]['Healthcare Provider Taxonomy Code_' + str(i+1)]\n",
    "    newc.append(v)"
   ]
  },
  {
   "cell_type": "code",
   "execution_count": 17,
   "id": "15f41b0c-7a47-4ce3-bbd4-9a8127a87c1a",
   "metadata": {},
   "outputs": [],
   "source": [
    "ph_tx = ph_tx.drop(columns=taxon_codes+taxonswitch_codes).reset_index(drop=True)"
   ]
  },
  {
   "cell_type": "code",
   "execution_count": 18,
   "id": "a244c940-a05a-4ceb-894f-d089e466642a",
   "metadata": {},
   "outputs": [
    {
     "data": {
      "text/plain": [
       "(1359, 24)"
      ]
     },
     "execution_count": 18,
     "metadata": {},
     "output_type": "execute_result"
    }
   ],
   "source": [
    "ph_tx.shape"
   ]
  },
  {
   "cell_type": "code",
   "execution_count": 19,
   "id": "1972c3a7-c0de-4cdd-b3cc-5fd7b2922523",
   "metadata": {},
   "outputs": [
    {
     "data": {
      "text/plain": [
       "Index(['NPI', 'Entity Type Code', 'Replacement NPI',\n",
       "       'Provider Organization Name (Legal Business Name)',\n",
       "       'Provider Last Name (Legal Name)', 'Provider First Name',\n",
       "       'Provider Middle Name',\n",
       "       'Provider First Line Business Practice Location Address', 'City',\n",
       "       'State2', 'Provider Business Practice Location Address Postal Code',\n",
       "       'Provider Business Practice Location Address Telephone Number',\n",
       "       'NPI Deactivation Reason Code', 'NPI Deactivation Date',\n",
       "       'NPI Reactivation Date', 'Provider Gender Code',\n",
       "       'Authorized Official Last Name', 'Authorized Official First Name',\n",
       "       'Authorized Official Middle Name',\n",
       "       'Authorized Official Telephone Number', 'Is Sole Proprietor',\n",
       "       'Is Organization Subpart', 'Zip5', 'Address'],\n",
       "      dtype='object')"
      ]
     },
     "execution_count": 19,
     "metadata": {},
     "output_type": "execute_result"
    }
   ],
   "source": [
    "ph_tx.columns"
   ]
  },
  {
   "cell_type": "code",
   "execution_count": 20,
   "id": "74204419-d120-422d-a61e-3c4c8b7483ef",
   "metadata": {},
   "outputs": [],
   "source": [
    "ph_tx['taxonomy'] = newc"
   ]
  },
  {
   "cell_type": "code",
   "execution_count": 22,
   "id": "dbcf43d5-99ec-4d78-8eb5-a8eafa37800d",
   "metadata": {},
   "outputs": [
    {
     "name": "stdout",
     "output_type": "stream",
     "text": [
      "['03/09/2018' '03/30/2020' '12/27/2021' 'NaN']\n"
     ]
    }
   ],
   "source": [
    "print(np.unique(ph_tx['NPI Deactivation Date']))\n",
    "deact = ['03/09/2018', '03/30/2020', '12/27/2021']"
   ]
  },
  {
   "cell_type": "code",
   "execution_count": 24,
   "id": "057a3e18-447b-477d-888b-6de3860b2aaa",
   "metadata": {},
   "outputs": [
    {
     "data": {
      "text/plain": [
       "865     03/12/2019\n",
       "956     05/06/2020\n",
       "1237    02/02/2022\n",
       "Name: NPI Reactivation Date, dtype: object"
      ]
     },
     "execution_count": 24,
     "metadata": {},
     "output_type": "execute_result"
    }
   ],
   "source": [
    "ph_tx.loc[ph_tx['NPI Deactivation Date'].isin(deact)]['NPI Reactivation Date']"
   ]
  },
  {
   "cell_type": "markdown",
   "id": "3a099f41-59da-4498-8e11-d08157ebaca7",
   "metadata": {},
   "source": [
    "Molina orthopedic laboratories"
   ]
  },
  {
   "cell_type": "code",
   "execution_count": 25,
   "id": "70fbc268-d6e4-49b1-bf4a-3cc460145bf8",
   "metadata": {},
   "outputs": [
    {
     "data": {
      "text/plain": [
       "array(['1223P0700X', '156FX1700X', '1744P3200X', '2084P0800X',\n",
       "       '2086S0129X', '213ES0103X', '222Z00000X', '224900000X',\n",
       "       '224L00000X', '224P00000X', '225000000X', '225100000X',\n",
       "       '225X00000X', '225XH1200X', '235Z00000X', '261QA0900X',\n",
       "       '261QP2000X', '332B00000X', '332BC3200X', '332BP3500X',\n",
       "       '332BX2000X', '333600000X', '3336C0003X', '3336L0003X',\n",
       "       '335E00000X'], dtype=object)"
      ]
     },
     "execution_count": 25,
     "metadata": {},
     "output_type": "execute_result"
    }
   ],
   "source": [
    "np.unique(ph_tx['taxonomy'])"
   ]
  },
  {
   "cell_type": "code",
   "execution_count": 26,
   "id": "1fc64db0-df08-43e0-9767-5c552690348e",
   "metadata": {},
   "outputs": [
    {
     "data": {
      "text/plain": [
       "['261QA0900X', '222Z00000X', '224P00000X', '335E00000X']"
      ]
     },
     "execution_count": 26,
     "metadata": {},
     "output_type": "execute_result"
    }
   ],
   "source": [
    "community_pharm"
   ]
  },
  {
   "cell_type": "code",
   "execution_count": 27,
   "id": "e506a2bc-3b22-4e79-8610-5ff929c982fe",
   "metadata": {},
   "outputs": [],
   "source": [
    "ph_tx2 = ph_tx[ph_tx['taxonomy'].isin(community_pharm)]"
   ]
  },
  {
   "cell_type": "code",
   "execution_count": 28,
   "id": "be539b5a-657b-4998-b5d9-42b2f1bedc6b",
   "metadata": {},
   "outputs": [],
   "source": [
    "# ph_tx = ph_tx[ph_tx['Provider Organization Name (Legal Business Name)'].str.contains(\"ORTHO|PROS|P&O|LIMB\")].reset_index(drop = True)"
   ]
  },
  {
   "cell_type": "code",
   "execution_count": 29,
   "id": "dc1a9417-3ade-4bd7-b828-6cb4a40f0309",
   "metadata": {},
   "outputs": [],
   "source": [
    "# ph_tx2.to_excel('temp_ph2.xlsx',index=False)"
   ]
  },
  {
   "cell_type": "code",
   "execution_count": 31,
   "id": "21d3236b-3f79-4ba2-b4c1-3487dafe248b",
   "metadata": {},
   "outputs": [
    {
     "data": {
      "text/plain": [
       "(1222, 25)"
      ]
     },
     "execution_count": 31,
     "metadata": {},
     "output_type": "execute_result"
    }
   ],
   "source": [
    "ph_tx2.shape"
   ]
  },
  {
   "cell_type": "code",
   "execution_count": 32,
   "id": "bb74c874-ab47-46b4-ba13-f558e8bea402",
   "metadata": {},
   "outputs": [],
   "source": [
    "ph_indi = ph_tx2[ph_tx2['Entity Type Code'] == 1]\n",
    "ph_orgz = ph_tx2[ph_tx2['Entity Type Code'] == 2]"
   ]
  },
  {
   "cell_type": "code",
   "execution_count": 33,
   "id": "082548e0-0448-4bd2-bacd-ed1f3f95a5e9",
   "metadata": {},
   "outputs": [],
   "source": [
    "samelo_io = pd.merge(ph_orgz, ph_indi, on=['Provider First Line Business Practice Location Address'], how='inner')"
   ]
  },
  {
   "cell_type": "code",
   "execution_count": 34,
   "id": "2d7c20e5-9026-49e7-8402-3532df0f273e",
   "metadata": {},
   "outputs": [
    {
     "data": {
      "text/plain": [
       "Index(['NPI_x', 'Entity Type Code_x', 'Replacement NPI_x',\n",
       "       'Provider Organization Name (Legal Business Name)_x',\n",
       "       'Provider Last Name (Legal Name)_x', 'Provider First Name_x',\n",
       "       'Provider Middle Name_x',\n",
       "       'Provider First Line Business Practice Location Address', 'City_x',\n",
       "       'State2_x', 'Provider Business Practice Location Address Postal Code_x',\n",
       "       'Provider Business Practice Location Address Telephone Number_x',\n",
       "       'NPI Deactivation Reason Code_x', 'NPI Deactivation Date_x',\n",
       "       'NPI Reactivation Date_x', 'Provider Gender Code_x',\n",
       "       'Authorized Official Last Name_x', 'Authorized Official First Name_x',\n",
       "       'Authorized Official Middle Name_x',\n",
       "       'Authorized Official Telephone Number_x', 'Is Sole Proprietor_x',\n",
       "       'Is Organization Subpart_x', 'Zip5_x', 'Address_x', 'taxonomy_x',\n",
       "       'NPI_y', 'Entity Type Code_y', 'Replacement NPI_y',\n",
       "       'Provider Organization Name (Legal Business Name)_y',\n",
       "       'Provider Last Name (Legal Name)_y', 'Provider First Name_y',\n",
       "       'Provider Middle Name_y', 'City_y', 'State2_y',\n",
       "       'Provider Business Practice Location Address Postal Code_y',\n",
       "       'Provider Business Practice Location Address Telephone Number_y',\n",
       "       'NPI Deactivation Reason Code_y', 'NPI Deactivation Date_y',\n",
       "       'NPI Reactivation Date_y', 'Provider Gender Code_y',\n",
       "       'Authorized Official Last Name_y', 'Authorized Official First Name_y',\n",
       "       'Authorized Official Middle Name_y',\n",
       "       'Authorized Official Telephone Number_y', 'Is Sole Proprietor_y',\n",
       "       'Is Organization Subpart_y', 'Zip5_y', 'Address_y', 'taxonomy_y'],\n",
       "      dtype='object')"
      ]
     },
     "execution_count": 34,
     "metadata": {},
     "output_type": "execute_result"
    }
   ],
   "source": [
    "samelo_io.columns"
   ]
  },
  {
   "cell_type": "code",
   "execution_count": 35,
   "id": "edc210ca-7578-4548-a997-64c57c3c0432",
   "metadata": {},
   "outputs": [],
   "source": [
    "listu = []\n",
    "for column in samelo_io.columns:\n",
    "    unique_values = samelo_io[column].unique()\n",
    "    listu.append([column,len(unique_values)])"
   ]
  },
  {
   "cell_type": "code",
   "execution_count": 36,
   "id": "31f56d2d-d6e2-4ffe-843e-6f9f62c7fd25",
   "metadata": {},
   "outputs": [],
   "source": [
    "datafu = pd.DataFrame(listu, columns=['col', 'num'])\n",
    "# datafu[datafu['num'] == 1]"
   ]
  },
  {
   "cell_type": "code",
   "execution_count": 37,
   "id": "ace1eaa0-d662-4dfb-9016-7b73522a0c82",
   "metadata": {},
   "outputs": [
    {
     "data": {
      "text/plain": [
       "['Replacement NPI_x',\n",
       " 'Provider Last Name (Legal Name)_x',\n",
       " 'Provider First Name_x',\n",
       " 'Provider Middle Name_x',\n",
       " 'State2_x',\n",
       " 'NPI Deactivation Reason Code_x',\n",
       " 'Provider Gender Code_x',\n",
       " 'Is Sole Proprietor_x',\n",
       " 'Entity Type Code_y',\n",
       " 'Replacement NPI_y',\n",
       " 'Provider Organization Name (Legal Business Name)_y',\n",
       " 'State2_y',\n",
       " 'NPI Deactivation Reason Code_y',\n",
       " 'NPI Deactivation Date_y',\n",
       " 'NPI Reactivation Date_y',\n",
       " 'Authorized Official Last Name_y',\n",
       " 'Authorized Official First Name_y',\n",
       " 'Authorized Official Middle Name_y',\n",
       " 'Authorized Official Telephone Number_y',\n",
       " 'Is Organization Subpart_y']"
      ]
     },
     "execution_count": 37,
     "metadata": {},
     "output_type": "execute_result"
    }
   ],
   "source": [
    "oneuni = datafu[datafu['num'] == 1]['col'].tolist()[1:]\n",
    "oneuni"
   ]
  },
  {
   "cell_type": "code",
   "execution_count": 38,
   "id": "f151bfb2-5f93-4075-a762-cdd5f0c95655",
   "metadata": {},
   "outputs": [],
   "source": [
    "same_io = samelo_io.drop(columns=oneuni).reset_index(drop=True)"
   ]
  },
  {
   "cell_type": "code",
   "execution_count": 39,
   "id": "a8d96143-8072-476c-86ba-f366144235d8",
   "metadata": {},
   "outputs": [
    {
     "data": {
      "text/plain": [
       "Index(['NPI_x', 'Entity Type Code_x',\n",
       "       'Provider Organization Name (Legal Business Name)_x',\n",
       "       'Provider First Line Business Practice Location Address', 'City_x',\n",
       "       'Provider Business Practice Location Address Postal Code_x',\n",
       "       'Provider Business Practice Location Address Telephone Number_x',\n",
       "       'NPI Deactivation Date_x', 'NPI Reactivation Date_x',\n",
       "       'Authorized Official Last Name_x', 'Authorized Official First Name_x',\n",
       "       'Authorized Official Middle Name_x',\n",
       "       'Authorized Official Telephone Number_x', 'Is Organization Subpart_x',\n",
       "       'Zip5_x', 'Address_x', 'taxonomy_x', 'NPI_y',\n",
       "       'Provider Last Name (Legal Name)_y', 'Provider First Name_y',\n",
       "       'Provider Middle Name_y', 'City_y',\n",
       "       'Provider Business Practice Location Address Postal Code_y',\n",
       "       'Provider Business Practice Location Address Telephone Number_y',\n",
       "       'Provider Gender Code_y', 'Is Sole Proprietor_y', 'Zip5_y', 'Address_y',\n",
       "       'taxonomy_y'],\n",
       "      dtype='object')"
      ]
     },
     "execution_count": 39,
     "metadata": {},
     "output_type": "execute_result"
    }
   ],
   "source": [
    "same_io.columns"
   ]
  },
  {
   "cell_type": "code",
   "execution_count": 41,
   "id": "1e388fa0-3188-4c6a-abe1-8c288103b862",
   "metadata": {},
   "outputs": [],
   "source": [
    "# same_io.shape"
   ]
  },
  {
   "cell_type": "code",
   "execution_count": 42,
   "id": "6f383764-2f44-499e-b706-c0a058fd4a79",
   "metadata": {},
   "outputs": [],
   "source": [
    "# same_io.to_excel('temp_ph3.xlsx',index=False)"
   ]
  },
  {
   "cell_type": "markdown",
   "id": "b524f7dd-9540-465f-a8ff-3353c43a6276",
   "metadata": {},
   "source": [
    "## read temp_ph3"
   ]
  },
  {
   "cell_type": "code",
   "execution_count": 13,
   "id": "85643f36-7dca-4db5-84ee-05db6f91d278",
   "metadata": {},
   "outputs": [],
   "source": [
    "io_combine = pd.read_excel('temp_ph3.xlsx')"
   ]
  },
  {
   "cell_type": "code",
   "execution_count": 14,
   "id": "f6979d3d-024d-47be-8ad6-bdce419cc447",
   "metadata": {},
   "outputs": [
    {
     "data": {
      "text/plain": [
       "Index(['NPI_x', 'Entity Type Code_x',\n",
       "       'Provider Organization Name (Legal Business Name)_x',\n",
       "       'Provider First Line Business Practice Location Address', 'City_x',\n",
       "       'Provider Business Practice Location Address Postal Code_x',\n",
       "       'Provider Business Practice Location Address Telephone Number_x',\n",
       "       'NPI Deactivation Date_x', 'NPI Reactivation Date_x',\n",
       "       'Authorized Official Last Name_x', 'Authorized Official First Name_x',\n",
       "       'Authorized Official Middle Name_x',\n",
       "       'Authorized Official Telephone Number_x', 'Is Organization Subpart_x',\n",
       "       'Zip5_x', 'Address_x', 'taxonomy_x', 'NPI_y',\n",
       "       'Provider Last Name (Legal Name)_y', 'Provider First Name_y',\n",
       "       'Provider Middle Name_y', 'City_y',\n",
       "       'Provider Business Practice Location Address Postal Code_y',\n",
       "       'Provider Business Practice Location Address Telephone Number_y',\n",
       "       'Provider Gender Code_y', 'Is Sole Proprietor_y', 'Zip5_y', 'Address_y',\n",
       "       'taxonomy_y'],\n",
       "      dtype='object')"
      ]
     },
     "execution_count": 14,
     "metadata": {},
     "output_type": "execute_result"
    }
   ],
   "source": [
    "io_combine.columns"
   ]
  },
  {
   "cell_type": "code",
   "execution_count": 15,
   "id": "952d8ca6-565d-4bbd-955d-032a3458237f",
   "metadata": {},
   "outputs": [],
   "source": [
    "io_combine2 = io_combine[['NPI_x', 'Entity Type Code_x',\n",
    "       'Provider Organization Name (Legal Business Name)_x',\n",
    "       'Provider First Line Business Practice Location Address', 'City_x',\n",
    "       'Provider Business Practice Location Address Postal Code_x',\n",
    "       'Provider Business Practice Location Address Telephone Number_x',\n",
    "       'NPI Deactivation Date_x', 'NPI Reactivation Date_x',\n",
    "       'Authorized Official Last Name_x', 'Authorized Official First Name_x',\n",
    "       'Authorized Official Middle Name_x',\n",
    "       'Authorized Official Telephone Number_x', 'Is Organization Subpart_x',\n",
    "       'Zip5_x', 'Address_x', 'taxonomy_x','Provider Last Name (Legal Name)_y', \n",
    "        'Provider First Name_y','Provider Middle Name_y']]"
   ]
  },
  {
   "cell_type": "code",
   "execution_count": 16,
   "id": "3438a410-9bf1-47c0-9b22-809f47fefec9",
   "metadata": {},
   "outputs": [],
   "source": [
    "# io_combine2"
   ]
  },
  {
   "cell_type": "code",
   "execution_count": 17,
   "id": "da43a38c-0bed-4d62-a903-19c36da9d56c",
   "metadata": {},
   "outputs": [],
   "source": [
    "fml = io_combine2['Provider First Name_y'].fillna('') + ','+ io_combine2['Provider Middle Name_y'].fillna('')+ ',' + io_combine2['Provider Last Name (Legal Name)_y'].fillna('')"
   ]
  },
  {
   "cell_type": "code",
   "execution_count": 18,
   "id": "295b4588-bdc8-4e3b-b06c-9a216362b1bb",
   "metadata": {},
   "outputs": [],
   "source": [
    "import warnings\n",
    "warnings.filterwarnings('ignore')"
   ]
  },
  {
   "cell_type": "code",
   "execution_count": 19,
   "id": "f306b0c8-1cc8-4942-8c18-96f78082a47d",
   "metadata": {},
   "outputs": [],
   "source": [
    "io_combine2['fml'] = fml"
   ]
  },
  {
   "cell_type": "code",
   "execution_count": 20,
   "id": "a261fbe5-f3cd-4e05-8bcf-3113be673c58",
   "metadata": {},
   "outputs": [
    {
     "data": {
      "text/plain": [
       "Index(['NPI_x', 'Entity Type Code_x',\n",
       "       'Provider Organization Name (Legal Business Name)_x',\n",
       "       'Provider First Line Business Practice Location Address', 'City_x',\n",
       "       'Provider Business Practice Location Address Postal Code_x',\n",
       "       'Provider Business Practice Location Address Telephone Number_x',\n",
       "       'NPI Deactivation Date_x', 'NPI Reactivation Date_x',\n",
       "       'Authorized Official Last Name_x', 'Authorized Official First Name_x',\n",
       "       'Authorized Official Middle Name_x',\n",
       "       'Authorized Official Telephone Number_x', 'Is Organization Subpart_x',\n",
       "       'Zip5_x', 'Address_x', 'taxonomy_x',\n",
       "       'Provider Last Name (Legal Name)_y', 'Provider First Name_y',\n",
       "       'Provider Middle Name_y', 'fml'],\n",
       "      dtype='object')"
      ]
     },
     "execution_count": 20,
     "metadata": {},
     "output_type": "execute_result"
    }
   ],
   "source": [
    "io_combine2.columns"
   ]
  },
  {
   "cell_type": "code",
   "execution_count": 21,
   "id": "6c843a79-2666-4861-a72e-14ad55b6fd9d",
   "metadata": {},
   "outputs": [],
   "source": [
    "st_df = io_combine2[['NPI_x', 'Entity Type Code_x',\n",
    "       'Provider Organization Name (Legal Business Name)_x',\n",
    "       'Provider First Line Business Practice Location Address', 'City_x',\n",
    "       'Provider Business Practice Location Address Postal Code_x',\n",
    "       'Provider Business Practice Location Address Telephone Number_x',\n",
    "       'NPI Deactivation Date_x', 'NPI Reactivation Date_x',\n",
    "       'Authorized Official Last Name_x', 'Authorized Official First Name_x',\n",
    "       'Authorized Official Middle Name_x',\n",
    "       'Authorized Official Telephone Number_x', 'Is Organization Subpart_x',\n",
    "       'Zip5_x', 'Address_x', 'taxonomy_x','fml']]"
   ]
  },
  {
   "cell_type": "code",
   "execution_count": 22,
   "id": "446d3c88-9232-4ce2-9c25-805c8d421899",
   "metadata": {},
   "outputs": [
    {
     "data": {
      "text/plain": [
       "Index(['NPI_x', 'Entity Type Code_x',\n",
       "       'Provider Organization Name (Legal Business Name)_x',\n",
       "       'Provider First Line Business Practice Location Address', 'City_x',\n",
       "       'Provider Business Practice Location Address Postal Code_x',\n",
       "       'Provider Business Practice Location Address Telephone Number_x',\n",
       "       'NPI Deactivation Date_x', 'NPI Reactivation Date_x',\n",
       "       'Authorized Official Last Name_x', 'Authorized Official First Name_x',\n",
       "       'Authorized Official Middle Name_x',\n",
       "       'Authorized Official Telephone Number_x', 'Is Organization Subpart_x',\n",
       "       'Zip5_x', 'Address_x', 'taxonomy_x', 'fml'],\n",
       "      dtype='object')"
      ]
     },
     "execution_count": 22,
     "metadata": {},
     "output_type": "execute_result"
    }
   ],
   "source": [
    "st_df.columns"
   ]
  },
  {
   "cell_type": "code",
   "execution_count": 23,
   "id": "a9edd791-5f09-405c-9b4d-87a778082a02",
   "metadata": {},
   "outputs": [],
   "source": [
    "stacked_df = st_df.groupby(['NPI_x', 'Entity Type Code_x',\n",
    "       'Provider Organization Name (Legal Business Name)_x',\n",
    "       'Provider First Line Business Practice Location Address', 'City_x',\n",
    "       'Provider Business Practice Location Address Postal Code_x',\n",
    "       'Provider Business Practice Location Address Telephone Number_x',\n",
    "       'Authorized Official Last Name_x', 'Authorized Official First Name_x',\n",
    "       'Authorized Official Middle Name_x',\n",
    "       'Authorized Official Telephone Number_x', 'Is Organization Subpart_x',\n",
    "       'Zip5_x', 'Address_x', 'taxonomy_x'])['fml'].apply('; '.join).reset_index()"
   ]
  },
  {
   "cell_type": "code",
   "execution_count": 24,
   "id": "e7fcac84-2d5f-4e5d-89a1-9cca741e16ed",
   "metadata": {},
   "outputs": [
    {
     "data": {
      "text/html": [
       "<div>\n",
       "<style scoped>\n",
       "    .dataframe tbody tr th:only-of-type {\n",
       "        vertical-align: middle;\n",
       "    }\n",
       "\n",
       "    .dataframe tbody tr th {\n",
       "        vertical-align: top;\n",
       "    }\n",
       "\n",
       "    .dataframe thead th {\n",
       "        text-align: right;\n",
       "    }\n",
       "</style>\n",
       "<table border=\"1\" class=\"dataframe\">\n",
       "  <thead>\n",
       "    <tr style=\"text-align: right;\">\n",
       "      <th></th>\n",
       "      <th>NPI_x</th>\n",
       "      <th>Entity Type Code_x</th>\n",
       "      <th>Provider Organization Name (Legal Business Name)_x</th>\n",
       "      <th>Provider First Line Business Practice Location Address</th>\n",
       "      <th>City_x</th>\n",
       "      <th>Provider Business Practice Location Address Postal Code_x</th>\n",
       "      <th>Provider Business Practice Location Address Telephone Number_x</th>\n",
       "      <th>Authorized Official Last Name_x</th>\n",
       "      <th>Authorized Official First Name_x</th>\n",
       "      <th>Authorized Official Middle Name_x</th>\n",
       "      <th>Authorized Official Telephone Number_x</th>\n",
       "      <th>Is Organization Subpart_x</th>\n",
       "      <th>Zip5_x</th>\n",
       "      <th>Address_x</th>\n",
       "      <th>taxonomy_x</th>\n",
       "      <th>fml</th>\n",
       "    </tr>\n",
       "  </thead>\n",
       "  <tbody>\n",
       "    <tr>\n",
       "      <th>0</th>\n",
       "      <td>1013275874</td>\n",
       "      <td>2</td>\n",
       "      <td>ELITE BIOMECHANICAL DESIGN</td>\n",
       "      <td>2208 5TH AVE</td>\n",
       "      <td>OROVILLE</td>\n",
       "      <td>959655816</td>\n",
       "      <td>5305346913</td>\n",
       "      <td>CASEY</td>\n",
       "      <td>MICHAEL</td>\n",
       "      <td>PATRICK</td>\n",
       "      <td>5308946913</td>\n",
       "      <td>N</td>\n",
       "      <td>95965</td>\n",
       "      <td>2208 5TH AVE</td>\n",
       "      <td>335E00000X</td>\n",
       "      <td>NICHOLAS,D.,MADSEN</td>\n",
       "    </tr>\n",
       "    <tr>\n",
       "      <th>1</th>\n",
       "      <td>1023188943</td>\n",
       "      <td>2</td>\n",
       "      <td>JENNINGS ORTHOPEDIC INC</td>\n",
       "      <td>10683 MAGNOLIA AVE</td>\n",
       "      <td>RIVERSIDE</td>\n",
       "      <td>925051893</td>\n",
       "      <td>9513522029</td>\n",
       "      <td>JENNINGS</td>\n",
       "      <td>HENRY</td>\n",
       "      <td>ALVIN</td>\n",
       "      <td>9513522029</td>\n",
       "      <td>N</td>\n",
       "      <td>92505</td>\n",
       "      <td>10683 MAGNOLIA AVE</td>\n",
       "      <td>224P00000X</td>\n",
       "      <td>HENRY,ALVIN,JENNINGS</td>\n",
       "    </tr>\n",
       "    <tr>\n",
       "      <th>2</th>\n",
       "      <td>1023302015</td>\n",
       "      <td>2</td>\n",
       "      <td>BALDWIN ORTHOTICS &amp; PROSTHETICS INC</td>\n",
       "      <td>24475 SUNNYMEAD BLVD</td>\n",
       "      <td>MORENO VALLEY</td>\n",
       "      <td>925539313</td>\n",
       "      <td>9518247850</td>\n",
       "      <td>BALDWIN</td>\n",
       "      <td>HARLAN</td>\n",
       "      <td>L</td>\n",
       "      <td>9518247850</td>\n",
       "      <td>N</td>\n",
       "      <td>92553</td>\n",
       "      <td>24475 SUNNYMEAD BLVD</td>\n",
       "      <td>335E00000X</td>\n",
       "      <td>HARLAN,L,BALDWIN</td>\n",
       "    </tr>\n",
       "    <tr>\n",
       "      <th>3</th>\n",
       "      <td>1033134903</td>\n",
       "      <td>2</td>\n",
       "      <td>FERRACO, INC.</td>\n",
       "      <td>2933 LONG BEACH BLVD</td>\n",
       "      <td>LONG BEACH</td>\n",
       "      <td>908061517</td>\n",
       "      <td>5629882414</td>\n",
       "      <td>CRONIN</td>\n",
       "      <td>BRIAN</td>\n",
       "      <td>M</td>\n",
       "      <td>6264457797</td>\n",
       "      <td>N</td>\n",
       "      <td>90806</td>\n",
       "      <td>2933 LONG BEACH BLVD</td>\n",
       "      <td>335E00000X</td>\n",
       "      <td>PETER,L.,KORCHIN</td>\n",
       "    </tr>\n",
       "    <tr>\n",
       "      <th>4</th>\n",
       "      <td>1033367271</td>\n",
       "      <td>2</td>\n",
       "      <td>PACIFIC MEDICAL, INC.</td>\n",
       "      <td>3001 L ST</td>\n",
       "      <td>SACRAMENTO</td>\n",
       "      <td>958165225</td>\n",
       "      <td>9167061520</td>\n",
       "      <td>WEAVER</td>\n",
       "      <td>MARK</td>\n",
       "      <td>L.</td>\n",
       "      <td>8007269180</td>\n",
       "      <td>N</td>\n",
       "      <td>95816</td>\n",
       "      <td>3001 L ST</td>\n",
       "      <td>335E00000X</td>\n",
       "      <td>FERHAN,INAM,MAHER; DAVID,J.,SCURTI; GEORGE,,VI...</td>\n",
       "    </tr>\n",
       "    <tr>\n",
       "      <th>...</th>\n",
       "      <td>...</td>\n",
       "      <td>...</td>\n",
       "      <td>...</td>\n",
       "      <td>...</td>\n",
       "      <td>...</td>\n",
       "      <td>...</td>\n",
       "      <td>...</td>\n",
       "      <td>...</td>\n",
       "      <td>...</td>\n",
       "      <td>...</td>\n",
       "      <td>...</td>\n",
       "      <td>...</td>\n",
       "      <td>...</td>\n",
       "      <td>...</td>\n",
       "      <td>...</td>\n",
       "      <td>...</td>\n",
       "    </tr>\n",
       "    <tr>\n",
       "      <th>58</th>\n",
       "      <td>1902948250</td>\n",
       "      <td>2</td>\n",
       "      <td>VALLEY INSTITUTE OF PROSTHETICS &amp; ORTHOTICS, INC</td>\n",
       "      <td>23033 LYONS AVE STE 6</td>\n",
       "      <td>NEWHALL</td>\n",
       "      <td>913212777</td>\n",
       "      <td>6612531191</td>\n",
       "      <td>TOWNSEND</td>\n",
       "      <td>BARRY</td>\n",
       "      <td>W</td>\n",
       "      <td>6613221005</td>\n",
       "      <td>N</td>\n",
       "      <td>91321</td>\n",
       "      <td>23033 LYONS AVE</td>\n",
       "      <td>335E00000X</td>\n",
       "      <td>ALLEN,,DOLBERRY</td>\n",
       "    </tr>\n",
       "    <tr>\n",
       "      <th>59</th>\n",
       "      <td>1912955881</td>\n",
       "      <td>2</td>\n",
       "      <td>VALLEY INSTITUTE OF PROSTHETICS &amp; ORTHOTICS, INC.</td>\n",
       "      <td>1524 21ST ST</td>\n",
       "      <td>BAKERSFIELD</td>\n",
       "      <td>933014002</td>\n",
       "      <td>6613221005</td>\n",
       "      <td>TOWNSEND</td>\n",
       "      <td>BARRY</td>\n",
       "      <td>W</td>\n",
       "      <td>6613221005</td>\n",
       "      <td>N</td>\n",
       "      <td>93301</td>\n",
       "      <td>1524 21ST ST</td>\n",
       "      <td>335E00000X</td>\n",
       "      <td>MICHAEL,KURT,NELSON; NICOLE,CAROLYN,KERR</td>\n",
       "    </tr>\n",
       "    <tr>\n",
       "      <th>60</th>\n",
       "      <td>1932345964</td>\n",
       "      <td>2</td>\n",
       "      <td>BUTTE PROSTHETICS</td>\n",
       "      <td>2260 ESPLANADE</td>\n",
       "      <td>CHICO</td>\n",
       "      <td>959262234</td>\n",
       "      <td>5308934255</td>\n",
       "      <td>THURMAN</td>\n",
       "      <td>RONALD</td>\n",
       "      <td>E</td>\n",
       "      <td>5308934255</td>\n",
       "      <td>N</td>\n",
       "      <td>95926</td>\n",
       "      <td>2260 ESPLANADE</td>\n",
       "      <td>335E00000X</td>\n",
       "      <td>RONALD,EDWARD,THURMAN</td>\n",
       "    </tr>\n",
       "    <tr>\n",
       "      <th>61</th>\n",
       "      <td>1942697875</td>\n",
       "      <td>2</td>\n",
       "      <td>ACTIVE 1 PROSTHETICS AND ORTHOTICS</td>\n",
       "      <td>295 W CROMWELL AVE</td>\n",
       "      <td>FRESNO</td>\n",
       "      <td>937116167</td>\n",
       "      <td>5594935020</td>\n",
       "      <td>MAGILL</td>\n",
       "      <td>STEPHAN</td>\n",
       "      <td>MARK</td>\n",
       "      <td>5594935020</td>\n",
       "      <td>N</td>\n",
       "      <td>93711</td>\n",
       "      <td>295 W CROMWELL AVE</td>\n",
       "      <td>335E00000X</td>\n",
       "      <td>STEPHAN,M,MAGILL</td>\n",
       "    </tr>\n",
       "    <tr>\n",
       "      <th>62</th>\n",
       "      <td>1952609661</td>\n",
       "      <td>2</td>\n",
       "      <td>ACTIVE LIFE, LLC</td>\n",
       "      <td>7910 FROST ST STE 320</td>\n",
       "      <td>SAN DIEGO</td>\n",
       "      <td>92123</td>\n",
       "      <td>6194886196</td>\n",
       "      <td>NEMANI</td>\n",
       "      <td>PALLAVI</td>\n",
       "      <td>CHINTAPALLI</td>\n",
       "      <td>5125526311</td>\n",
       "      <td>N</td>\n",
       "      <td>92123</td>\n",
       "      <td>7910 FROST ST</td>\n",
       "      <td>335E00000X</td>\n",
       "      <td>MADONNA,,IBRAHIM</td>\n",
       "    </tr>\n",
       "  </tbody>\n",
       "</table>\n",
       "<p>63 rows × 16 columns</p>\n",
       "</div>"
      ],
      "text/plain": [
       "         NPI_x  Entity Type Code_x  \\\n",
       "0   1013275874                   2   \n",
       "1   1023188943                   2   \n",
       "2   1023302015                   2   \n",
       "3   1033134903                   2   \n",
       "4   1033367271                   2   \n",
       "..         ...                 ...   \n",
       "58  1902948250                   2   \n",
       "59  1912955881                   2   \n",
       "60  1932345964                   2   \n",
       "61  1942697875                   2   \n",
       "62  1952609661                   2   \n",
       "\n",
       "   Provider Organization Name (Legal Business Name)_x  \\\n",
       "0                          ELITE BIOMECHANICAL DESIGN   \n",
       "1                             JENNINGS ORTHOPEDIC INC   \n",
       "2                 BALDWIN ORTHOTICS & PROSTHETICS INC   \n",
       "3                                       FERRACO, INC.   \n",
       "4                               PACIFIC MEDICAL, INC.   \n",
       "..                                                ...   \n",
       "58   VALLEY INSTITUTE OF PROSTHETICS & ORTHOTICS, INC   \n",
       "59  VALLEY INSTITUTE OF PROSTHETICS & ORTHOTICS, INC.   \n",
       "60                                  BUTTE PROSTHETICS   \n",
       "61                 ACTIVE 1 PROSTHETICS AND ORTHOTICS   \n",
       "62                                   ACTIVE LIFE, LLC   \n",
       "\n",
       "   Provider First Line Business Practice Location Address         City_x  \\\n",
       "0                                        2208 5TH AVE           OROVILLE   \n",
       "1                                  10683 MAGNOLIA AVE          RIVERSIDE   \n",
       "2                                24475 SUNNYMEAD BLVD      MORENO VALLEY   \n",
       "3                                2933 LONG BEACH BLVD         LONG BEACH   \n",
       "4                                           3001 L ST         SACRAMENTO   \n",
       "..                                                ...                ...   \n",
       "58                              23033 LYONS AVE STE 6            NEWHALL   \n",
       "59                                       1524 21ST ST        BAKERSFIELD   \n",
       "60                                     2260 ESPLANADE              CHICO   \n",
       "61                                 295 W CROMWELL AVE             FRESNO   \n",
       "62                              7910 FROST ST STE 320          SAN DIEGO   \n",
       "\n",
       "    Provider Business Practice Location Address Postal Code_x  \\\n",
       "0                                           959655816           \n",
       "1                                           925051893           \n",
       "2                                           925539313           \n",
       "3                                           908061517           \n",
       "4                                           958165225           \n",
       "..                                                ...           \n",
       "58                                          913212777           \n",
       "59                                          933014002           \n",
       "60                                          959262234           \n",
       "61                                          937116167           \n",
       "62                                              92123           \n",
       "\n",
       "    Provider Business Practice Location Address Telephone Number_x  \\\n",
       "0                                          5305346913                \n",
       "1                                          9513522029                \n",
       "2                                          9518247850                \n",
       "3                                          5629882414                \n",
       "4                                          9167061520                \n",
       "..                                                ...                \n",
       "58                                         6612531191                \n",
       "59                                         6613221005                \n",
       "60                                         5308934255                \n",
       "61                                         5594935020                \n",
       "62                                         6194886196                \n",
       "\n",
       "   Authorized Official Last Name_x Authorized Official First Name_x  \\\n",
       "0                            CASEY                          MICHAEL   \n",
       "1                         JENNINGS                            HENRY   \n",
       "2                          BALDWIN                           HARLAN   \n",
       "3                           CRONIN                            BRIAN   \n",
       "4                           WEAVER                             MARK   \n",
       "..                             ...                              ...   \n",
       "58                        TOWNSEND                            BARRY   \n",
       "59                        TOWNSEND                            BARRY   \n",
       "60                         THURMAN                           RONALD   \n",
       "61                          MAGILL                          STEPHAN   \n",
       "62                          NEMANI                          PALLAVI   \n",
       "\n",
       "   Authorized Official Middle Name_x  Authorized Official Telephone Number_x  \\\n",
       "0                            PATRICK                              5308946913   \n",
       "1                              ALVIN                              9513522029   \n",
       "2                                  L                              9518247850   \n",
       "3                                  M                              6264457797   \n",
       "4                                 L.                              8007269180   \n",
       "..                               ...                                     ...   \n",
       "58                                 W                              6613221005   \n",
       "59                                 W                              6613221005   \n",
       "60                                 E                              5308934255   \n",
       "61                              MARK                              5594935020   \n",
       "62                       CHINTAPALLI                              5125526311   \n",
       "\n",
       "   Is Organization Subpart_x  Zip5_x             Address_x  taxonomy_x  \\\n",
       "0                          N   95965          2208 5TH AVE  335E00000X   \n",
       "1                          N   92505    10683 MAGNOLIA AVE  224P00000X   \n",
       "2                          N   92553  24475 SUNNYMEAD BLVD  335E00000X   \n",
       "3                          N   90806  2933 LONG BEACH BLVD  335E00000X   \n",
       "4                          N   95816             3001 L ST  335E00000X   \n",
       "..                       ...     ...                   ...         ...   \n",
       "58                         N   91321       23033 LYONS AVE  335E00000X   \n",
       "59                         N   93301          1524 21ST ST  335E00000X   \n",
       "60                         N   95926        2260 ESPLANADE  335E00000X   \n",
       "61                         N   93711    295 W CROMWELL AVE  335E00000X   \n",
       "62                         N   92123         7910 FROST ST  335E00000X   \n",
       "\n",
       "                                                  fml  \n",
       "0                                  NICHOLAS,D.,MADSEN  \n",
       "1                                HENRY,ALVIN,JENNINGS  \n",
       "2                                    HARLAN,L,BALDWIN  \n",
       "3                                    PETER,L.,KORCHIN  \n",
       "4   FERHAN,INAM,MAHER; DAVID,J.,SCURTI; GEORGE,,VI...  \n",
       "..                                                ...  \n",
       "58                                    ALLEN,,DOLBERRY  \n",
       "59           MICHAEL,KURT,NELSON; NICOLE,CAROLYN,KERR  \n",
       "60                              RONALD,EDWARD,THURMAN  \n",
       "61                                   STEPHAN,M,MAGILL  \n",
       "62                                   MADONNA,,IBRAHIM  \n",
       "\n",
       "[63 rows x 16 columns]"
      ]
     },
     "execution_count": 24,
     "metadata": {},
     "output_type": "execute_result"
    }
   ],
   "source": [
    "stacked_df"
   ]
  },
  {
   "cell_type": "code",
   "execution_count": 36,
   "id": "15d695ed-9865-43ac-ba0f-19552a094167",
   "metadata": {},
   "outputs": [],
   "source": [
    "# ph_tx_3 = pd.concat([ph_tx, ph_tx2]).drop_duplicates()"
   ]
  },
  {
   "cell_type": "code",
   "execution_count": 37,
   "id": "de577fcc-029e-4a6b-a678-bfee5e23eff4",
   "metadata": {},
   "outputs": [
    {
     "data": {
      "text/plain": [
       "(395, 11)"
      ]
     },
     "execution_count": 37,
     "metadata": {},
     "output_type": "execute_result"
    }
   ],
   "source": [
    "# ph_tx_3.shape"
   ]
  },
  {
   "cell_type": "code",
   "execution_count": 129,
   "id": "92353763-2411-4945-87d5-0123aec95643",
   "metadata": {},
   "outputs": [],
   "source": [
    "stacked_df.to_excel('comb_indorg.xlsx',index=False)"
   ]
  },
  {
   "cell_type": "code",
   "execution_count": null,
   "id": "a1dcb346-cb2c-4589-a86d-0d6b1b010fbc",
   "metadata": {},
   "outputs": [],
   "source": []
  },
  {
   "cell_type": "code",
   "execution_count": null,
   "id": "52856bef-b4eb-4aa0-9b8f-558e2c996cf7",
   "metadata": {},
   "outputs": [],
   "source": []
  },
  {
   "cell_type": "code",
   "execution_count": null,
   "id": "c3b60106-ada9-4236-a391-cf65d32fb90c",
   "metadata": {},
   "outputs": [],
   "source": []
  },
  {
   "cell_type": "code",
   "execution_count": null,
   "id": "48ea61bd-b22d-4b01-9330-ae7fea9d3ca6",
   "metadata": {},
   "outputs": [],
   "source": []
  }
 ],
 "metadata": {
  "kernelspec": {
   "display_name": "Python 3 (ipykernel)",
   "language": "python",
   "name": "python3"
  },
  "language_info": {
   "codemirror_mode": {
    "name": "ipython",
    "version": 3
   },
   "file_extension": ".py",
   "mimetype": "text/x-python",
   "name": "python",
   "nbconvert_exporter": "python",
   "pygments_lexer": "ipython3",
   "version": "3.9.15"
  }
 },
 "nbformat": 4,
 "nbformat_minor": 5
}
