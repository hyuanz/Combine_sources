{
 "cells": [
  {
   "cell_type": "code",
   "execution_count": 37,
   "id": "97570f4e-2a71-4ce4-b7b2-0d4f0205eb33",
   "metadata": {
    "tags": []
   },
   "outputs": [],
   "source": [
    "# pip install censusgeocode"
   ]
  },
  {
   "cell_type": "code",
   "execution_count": 1,
   "id": "cd737de5-f69b-46e0-9659-409b543429f5",
   "metadata": {},
   "outputs": [],
   "source": [
    "import pandas as pd\n",
    "import numpy as np\n",
    "import censusgeocode as cg\n",
    "import time\n",
    "from datetime import datetime\n",
    "\n",
    "import geopandas as gpd\n",
    "import os"
   ]
  },
  {
   "cell_type": "markdown",
   "id": "05634d21-dcaf-4d79-a6a8-e01f07dd23b7",
   "metadata": {
    "tags": []
   },
   "source": [
    "### Setting"
   ]
  },
  {
   "cell_type": "markdown",
   "id": "9095b87f-1720-4935-bcfb-a1bdd2b7c84c",
   "metadata": {},
   "source": [
    "1. Clinic/Center - Amputee: 261QA0900X\n",
    "2. Orthotist: 222Z00000X\n",
    "3. Prosthetist: 224P00000X\n",
    "4. Prosthetic/Orthotic Supplier:335E00000X\n",
    "<br>/////////////////////\n",
    "5. Prosthetics Case Management: 1744P3200X\n",
    "6. Orthotic Fitter: 225000000X\n",
    "7. Pedorthist: 224L00000X"
   ]
  },
  {
   "cell_type": "code",
   "execution_count": 2,
   "id": "141c451e-3d71-48c8-8706-9b977c419c17",
   "metadata": {},
   "outputs": [],
   "source": [
    "keep_col = ['NPI','Entity Type Code', 'Replacement NPI',\n",
    "            'Provider Organization Name (Legal Business Name)',\n",
    "            'Provider Last Name (Legal Name)',\n",
    "            'Provider Last Name (Legal Name)',\n",
    "            'Provider Middle Name',\n",
    "            'Provider First Line Business Practice Location Address',\n",
    "            'Provider Business Practice Location Address City Name',\n",
    "            'Provider Business Practice Location Address State Name',\n",
    "            'Provider Business Practice Location Address Postal Code',\n",
    "            'Provider Business Practice Location Address Telephone Number',\n",
    "            'NPI Deactivation Reason Code','NPI Deactivation Date','NPI Reactivation Date',\n",
    "            'Provider Gender Code',\n",
    "            'Authorized Official Last Name',\n",
    "            'Authorized Official First Name',\n",
    "            'Authorized Official Middle Name',\n",
    "            'Authorized Official Telephone Number',\n",
    "            'Is Sole Proprietor', 'Is Organization Subpart'\n",
    "           ]\n",
    "\n",
    "\n",
    "taxon_codes = ['Healthcare Provider Taxonomy Code_' + str(i+1) for i in range(15)]\n",
    "taxonswitch_codes = ['Healthcare Provider Primary Taxonomy Switch_' + str(i+1) for i in range(15)]\n",
    "keep_col += taxon_codes\n",
    "keep_col += taxonswitch_codes\n",
    "\n",
    "community_pharm = ['261QA0900X', '222Z00000X', '224P00000X','335E00000X']\n",
    "npi_csv = 'npidata_pfile_20050523-20230212.csv'\n",
    "\n",
    "end_str = [' STE', ' SUITE', ' BLDG', ' TOWER', ', #', ' UNIT',\n",
    "           ' APT', ' BUILDING',',', '#']"
   ]
  },
  {
   "cell_type": "code",
   "execution_count": 3,
   "id": "f531553c-35e3-4441-99bc-6716b9cc1e19",
   "metadata": {},
   "outputs": [],
   "source": [
    "def sub_rows(data):\n",
    "    # ec = data['Entity Type Code'] == \"2\"\n",
    "    st = data['Provider Business Practice Location Address State Name'] == 'CA'\n",
    "    ta = data[taxon_codes].isin(community_pharm).any(axis=1)\n",
    "    # ac = data['NPI Deactivation Reason Code'].isna()\n",
    "    all_together =  st & ta #& ac ec &\n",
    "    sub = data[all_together]\n",
    "    return sub\n",
    "\n",
    "def csv_chunks(file,chunk_size,keep_cols,row_sub):\n",
    "    header_fields = list(pd.read_csv(npi_csv, nrows=1))\n",
    "    header_locs = [header_fields.index(i) for i in keep_cols]\n",
    "    skip = 1\n",
    "    it_n = 0\n",
    "    sub_n = 0\n",
    "    ret_chunk = chunk_size\n",
    "    fin_li_dat = []\n",
    "    while ret_chunk == chunk_size:\n",
    "        file_chunk = pd.read_csv(file, usecols=header_locs, skiprows=skip, \n",
    "                     nrows=chunk_size, names=header_fields, dtype='str')\n",
    "        sub_dat = row_sub(file_chunk)\n",
    "        fin_li_dat.append( sub_dat.copy() )\n",
    "        skip += chunk_size\n",
    "        it_n += 1\n",
    "        sub_n += sub_dat.shape[0]\n",
    "        print(f'Grabbed iter {it_n} total sub n so far {sub_n}')\n",
    "        ret_chunk = file_chunk.shape[0]\n",
    "    fin_dat = pd.concat(fin_li_dat, axis=0)\n",
    "    return fin_dat\n",
    "\n",
    "def clean_add(address):\n",
    "    add_new = address.upper()\n",
    "    for su in end_str:\n",
    "        sf = address.find(su)\n",
    "        if sf > -1:\n",
    "            add_new = add_new[0:sf]\n",
    "    add_new = add_new.replace('.','')\n",
    "    add_new = add_new.strip()\n",
    "    return add_new"
   ]
  },
  {
   "cell_type": "markdown",
   "id": "34352337-06cb-4391-9019-5823c060c2d4",
   "metadata": {},
   "source": [
    "### Run"
   ]
  },
  {
   "cell_type": "code",
   "execution_count": 173,
   "id": "581d2fcb-47ee-4780-a251-6f065215ed76",
   "metadata": {},
   "outputs": [
    {
     "name": "stdout",
     "output_type": "stream",
     "text": [
      "2023-09-14 12:12:08.200507\n",
      "Grabbed iter 1 total sub n so far 218\n",
      "Grabbed iter 2 total sub n so far 428\n",
      "Grabbed iter 3 total sub n so far 660\n",
      "Grabbed iter 4 total sub n so far 824\n",
      "Grabbed iter 5 total sub n so far 981\n",
      "Grabbed iter 6 total sub n so far 1147\n",
      "Grabbed iter 7 total sub n so far 1281\n",
      "Grabbed iter 8 total sub n so far 1389\n",
      "2023-09-14 12:14:21.368489\n"
     ]
    }
   ],
   "source": [
    "# Takes about 3 minutes\n",
    "print( datetime.now() )\n",
    "pharm_tx = csv_chunks(npi_csv, chunk_size=1000000, keep_cols=keep_col, row_sub=sub_rows)\n",
    "print( datetime.now() )"
   ]
  },
  {
   "cell_type": "markdown",
   "id": "31d8391a-a915-441f-9aaf-933621d1b5a0",
   "metadata": {},
   "source": [
    "## Data Cleaning"
   ]
  },
  {
   "cell_type": "code",
   "execution_count": 174,
   "id": "da65a2ac-4d65-4ee0-9cbc-7c3a64c598f8",
   "metadata": {},
   "outputs": [],
   "source": [
    "pharm_tx.to_excel('temp_ph.xlsx',index=False)"
   ]
  },
  {
   "cell_type": "code",
   "execution_count": 200,
   "id": "42b9afb0-0903-4ea1-952a-388624e4b4be",
   "metadata": {},
   "outputs": [],
   "source": [
    "ph_tx = pd.read_excel('temp_ph.xlsx')"
   ]
  },
  {
   "cell_type": "code",
   "execution_count": 201,
   "id": "333e722b-b3a6-4310-858b-67c9d7d99436",
   "metadata": {},
   "outputs": [],
   "source": [
    "# ph_tx.columns"
   ]
  },
  {
   "cell_type": "code",
   "execution_count": 202,
   "id": "6d4a2fde-af20-4775-a7a2-8cd8c1de0cab",
   "metadata": {},
   "outputs": [
    {
     "data": {
      "text/plain": [
       "numpy.int64"
      ]
     },
     "execution_count": 202,
     "metadata": {},
     "output_type": "execute_result"
    }
   ],
   "source": [
    "type(ph_tx['Provider Business Practice Location Address Postal Code'][0])"
   ]
  },
  {
   "cell_type": "code",
   "execution_count": 203,
   "id": "2bfc4000-cc6a-4548-a261-76a8c1d50e72",
   "metadata": {},
   "outputs": [],
   "source": [
    "ph_tx = ph_tx.fillna('NaN')"
   ]
  },
  {
   "cell_type": "code",
   "execution_count": 208,
   "id": "e8c36eb5-2cfb-4418-b64c-e0e3fb4f43ec",
   "metadata": {},
   "outputs": [],
   "source": [
    "ph_tx['Provider Business Practice Location Address Postal Code'] = ph_tx['Provider Business Practice Location Address Postal Code'].astype(str)\n",
    "ph_tx['Zip5'] = ph_tx['Provider Business Practice Location Address Postal Code'].str[0:5]"
   ]
  },
  {
   "cell_type": "code",
   "execution_count": 209,
   "id": "115624df-faad-4ed9-a281-0f7c22a17056",
   "metadata": {},
   "outputs": [],
   "source": [
    "ph_tx['Address'] = ph_tx['Provider First Line Business Practice Location Address'].apply(clean_add)\n",
    "ph_tx.rename(columns={'Provider Business Practice Location Address City Name':'City',\n",
    "                      'Provider Business Practice Location Address State Name':'State2'}\n",
    "             ,inplace=True)"
   ]
  },
  {
   "cell_type": "code",
   "execution_count": 210,
   "id": "2ed21920-fddd-4987-acdc-df5bcedd9158",
   "metadata": {},
   "outputs": [],
   "source": [
    "ph_tx = ph_tx[-ph_tx['Provider Organization Name (Legal Business Name)'].str.contains(\"NORDSTROM\")].reset_index(drop = True)"
   ]
  },
  {
   "cell_type": "code",
   "execution_count": 212,
   "id": "0b6a7961-ab8f-49af-9647-c82e26fba860",
   "metadata": {},
   "outputs": [
    {
     "data": {
      "text/plain": [
       "(1359, 53)"
      ]
     },
     "execution_count": 212,
     "metadata": {},
     "output_type": "execute_result"
    }
   ],
   "source": [
    "ph_tx.shape"
   ]
  },
  {
   "cell_type": "code",
   "execution_count": 213,
   "id": "35d6b06d-13f4-4b2f-ba24-8f17732338d3",
   "metadata": {},
   "outputs": [],
   "source": [
    "newc = []\n",
    "for n in range(len(ph_tx)):\n",
    "    for i in range(15):\n",
    "        if ph_tx.iloc[n]['Healthcare Provider Primary Taxonomy Switch_' + str(i+1)] == 'Y':\n",
    "            v = ph_tx.iloc[n]['Healthcare Provider Taxonomy Code_' + str(i+1)]\n",
    "    newc.append(v)"
   ]
  },
  {
   "cell_type": "code",
   "execution_count": 214,
   "id": "15f41b0c-7a47-4ce3-bbd4-9a8127a87c1a",
   "metadata": {},
   "outputs": [],
   "source": [
    "ph_tx = ph_tx.drop(columns=taxon_codes+taxonswitch_codes).reset_index(drop=True)"
   ]
  },
  {
   "cell_type": "code",
   "execution_count": 215,
   "id": "a244c940-a05a-4ceb-894f-d089e466642a",
   "metadata": {},
   "outputs": [
    {
     "data": {
      "text/plain": [
       "(1359, 23)"
      ]
     },
     "execution_count": 215,
     "metadata": {},
     "output_type": "execute_result"
    }
   ],
   "source": [
    "ph_tx.shape"
   ]
  },
  {
   "cell_type": "code",
   "execution_count": 216,
   "id": "1972c3a7-c0de-4cdd-b3cc-5fd7b2922523",
   "metadata": {},
   "outputs": [
    {
     "data": {
      "text/plain": [
       "Index(['NPI', 'Entity Type Code', 'Replacement NPI',\n",
       "       'Provider Organization Name (Legal Business Name)',\n",
       "       'Provider Last Name (Legal Name)', 'Provider Middle Name',\n",
       "       'Provider First Line Business Practice Location Address', 'City',\n",
       "       'State2', 'Provider Business Practice Location Address Postal Code',\n",
       "       'Provider Business Practice Location Address Telephone Number',\n",
       "       'NPI Deactivation Reason Code', 'NPI Deactivation Date',\n",
       "       'NPI Reactivation Date', 'Provider Gender Code',\n",
       "       'Authorized Official Last Name', 'Authorized Official First Name',\n",
       "       'Authorized Official Middle Name',\n",
       "       'Authorized Official Telephone Number', 'Is Sole Proprietor',\n",
       "       'Is Organization Subpart', 'Zip5', 'Address'],\n",
       "      dtype='object')"
      ]
     },
     "execution_count": 216,
     "metadata": {},
     "output_type": "execute_result"
    }
   ],
   "source": [
    "ph_tx.columns"
   ]
  },
  {
   "cell_type": "code",
   "execution_count": 217,
   "id": "74204419-d120-422d-a61e-3c4c8b7483ef",
   "metadata": {},
   "outputs": [],
   "source": [
    "ph_tx['taxonomy'] = newc"
   ]
  },
  {
   "cell_type": "code",
   "execution_count": 218,
   "id": "dbcf43d5-99ec-4d78-8eb5-a8eafa37800d",
   "metadata": {},
   "outputs": [
    {
     "name": "stdout",
     "output_type": "stream",
     "text": [
      "['03/09/2018' '03/30/2020' '12/27/2021' 'NaN']\n"
     ]
    }
   ],
   "source": [
    "print(np.unique(ph_tx2['NPI Deactivation Date']))\n",
    "deact = ['03/09/2018', '03/30/2020', '12/27/2021']"
   ]
  },
  {
   "cell_type": "code",
   "execution_count": 219,
   "id": "057a3e18-447b-477d-888b-6de3860b2aaa",
   "metadata": {},
   "outputs": [
    {
     "data": {
      "text/plain": [
       "865     03/12/2019\n",
       "956     05/06/2020\n",
       "1237    02/02/2022\n",
       "Name: NPI Reactivation Date, dtype: object"
      ]
     },
     "execution_count": 219,
     "metadata": {},
     "output_type": "execute_result"
    }
   ],
   "source": [
    "ph_tx2.loc[ph_tx2['NPI Deactivation Date'].isin(deact)]['NPI Reactivation Date']"
   ]
  },
  {
   "cell_type": "markdown",
   "id": "3a099f41-59da-4498-8e11-d08157ebaca7",
   "metadata": {},
   "source": [
    "Molina orthopedic laboratories"
   ]
  },
  {
   "cell_type": "code",
   "execution_count": 220,
   "id": "70fbc268-d6e4-49b1-bf4a-3cc460145bf8",
   "metadata": {},
   "outputs": [
    {
     "data": {
      "text/plain": [
       "array(['1223P0700X', '156FX1700X', '1744P3200X', '2084P0800X',\n",
       "       '2086S0129X', '213ES0103X', '222Z00000X', '224900000X',\n",
       "       '224L00000X', '224P00000X', '225000000X', '225100000X',\n",
       "       '225X00000X', '225XH1200X', '235Z00000X', '261QA0900X',\n",
       "       '261QP2000X', '332B00000X', '332BC3200X', '332BP3500X',\n",
       "       '332BX2000X', '333600000X', '3336C0003X', '3336L0003X',\n",
       "       '335E00000X'], dtype=object)"
      ]
     },
     "execution_count": 220,
     "metadata": {},
     "output_type": "execute_result"
    }
   ],
   "source": [
    "np.unique(ph_tx['taxonomy'])"
   ]
  },
  {
   "cell_type": "code",
   "execution_count": 221,
   "id": "1fc64db0-df08-43e0-9767-5c552690348e",
   "metadata": {},
   "outputs": [
    {
     "data": {
      "text/plain": [
       "['261QA0900X', '222Z00000X', '224P00000X', '335E00000X']"
      ]
     },
     "execution_count": 221,
     "metadata": {},
     "output_type": "execute_result"
    }
   ],
   "source": [
    "community_pharm"
   ]
  },
  {
   "cell_type": "code",
   "execution_count": 233,
   "id": "e506a2bc-3b22-4e79-8610-5ff929c982fe",
   "metadata": {},
   "outputs": [],
   "source": [
    "ph_tx2 = ph_tx[ph_tx['taxonomy'].isin(community_pharm)]"
   ]
  },
  {
   "cell_type": "code",
   "execution_count": 228,
   "id": "be539b5a-657b-4998-b5d9-42b2f1bedc6b",
   "metadata": {},
   "outputs": [],
   "source": [
    "# ph_tx = ph_tx[ph_tx['Provider Organization Name (Legal Business Name)'].str.contains(\"ORTHO|PROS|P&O|LIMB\")].reset_index(drop = True)"
   ]
  },
  {
   "cell_type": "code",
   "execution_count": 234,
   "id": "dc1a9417-3ade-4bd7-b828-6cb4a40f0309",
   "metadata": {},
   "outputs": [],
   "source": [
    "ph_tx2.to_excel('temp_ph2.xlsx',index=False)"
   ]
  },
  {
   "cell_type": "code",
   "execution_count": 249,
   "id": "21d3236b-3f79-4ba2-b4c1-3487dafe248b",
   "metadata": {},
   "outputs": [
    {
     "data": {
      "text/plain": [
       "(702, 24)"
      ]
     },
     "execution_count": 249,
     "metadata": {},
     "output_type": "execute_result"
    }
   ],
   "source": [
    "ph_orgz.shape"
   ]
  },
  {
   "cell_type": "code",
   "execution_count": 243,
   "id": "bb74c874-ab47-46b4-ba13-f558e8bea402",
   "metadata": {},
   "outputs": [],
   "source": [
    "ph_indi = ph_tx2[ph_tx2['Entity Type Code'] == 1]\n",
    "ph_orgz = ph_tx2[ph_tx2['Entity Type Code'] == 2]"
   ]
  },
  {
   "cell_type": "code",
   "execution_count": 302,
   "id": "082548e0-0448-4bd2-bacd-ed1f3f95a5e9",
   "metadata": {},
   "outputs": [],
   "source": [
    "samelo_io = pd.merge(ph_orgz, ph_indi, on=['Provider First Line Business Practice Location Address'], how='inner')"
   ]
  },
  {
   "cell_type": "code",
   "execution_count": 303,
   "id": "2d7c20e5-9026-49e7-8402-3532df0f273e",
   "metadata": {},
   "outputs": [
    {
     "data": {
      "text/plain": [
       "Index(['NPI_x', 'Entity Type Code_x', 'Replacement NPI_x',\n",
       "       'Provider Organization Name (Legal Business Name)_x',\n",
       "       'Provider Last Name (Legal Name)_x', 'Provider Middle Name_x',\n",
       "       'Provider First Line Business Practice Location Address', 'City_x',\n",
       "       'State2_x', 'Provider Business Practice Location Address Postal Code_x',\n",
       "       'Provider Business Practice Location Address Telephone Number_x',\n",
       "       'NPI Deactivation Reason Code_x', 'NPI Deactivation Date_x',\n",
       "       'NPI Reactivation Date_x', 'Provider Gender Code_x',\n",
       "       'Authorized Official Last Name_x', 'Authorized Official First Name_x',\n",
       "       'Authorized Official Middle Name_x',\n",
       "       'Authorized Official Telephone Number_x', 'Is Sole Proprietor_x',\n",
       "       'Is Organization Subpart_x', 'Zip5_x', 'Address_x', 'taxonomy_x',\n",
       "       'NPI_y', 'Entity Type Code_y', 'Replacement NPI_y',\n",
       "       'Provider Organization Name (Legal Business Name)_y',\n",
       "       'Provider Last Name (Legal Name)_y', 'Provider Middle Name_y', 'City_y',\n",
       "       'State2_y', 'Provider Business Practice Location Address Postal Code_y',\n",
       "       'Provider Business Practice Location Address Telephone Number_y',\n",
       "       'NPI Deactivation Reason Code_y', 'NPI Deactivation Date_y',\n",
       "       'NPI Reactivation Date_y', 'Provider Gender Code_y',\n",
       "       'Authorized Official Last Name_y', 'Authorized Official First Name_y',\n",
       "       'Authorized Official Middle Name_y',\n",
       "       'Authorized Official Telephone Number_y', 'Is Sole Proprietor_y',\n",
       "       'Is Organization Subpart_y', 'Zip5_y', 'Address_y', 'taxonomy_y'],\n",
       "      dtype='object')"
      ]
     },
     "execution_count": 303,
     "metadata": {},
     "output_type": "execute_result"
    }
   ],
   "source": [
    "samelo_io.columns"
   ]
  },
  {
   "cell_type": "code",
   "execution_count": 304,
   "id": "edc210ca-7578-4548-a997-64c57c3c0432",
   "metadata": {},
   "outputs": [],
   "source": [
    "listu = []\n",
    "for column in samelo_io.columns:\n",
    "    unique_values = samelo_io[column].unique()\n",
    "    listu.append([column,len(unique_values)])"
   ]
  },
  {
   "cell_type": "code",
   "execution_count": 311,
   "id": "31f56d2d-d6e2-4ffe-843e-6f9f62c7fd25",
   "metadata": {},
   "outputs": [],
   "source": [
    "datafu = pd.DataFrame(listu, columns=['col', 'num'])\n",
    "# datafu[datafu['num'] == 1]"
   ]
  },
  {
   "cell_type": "code",
   "execution_count": 313,
   "id": "ace1eaa0-d662-4dfb-9016-7b73522a0c82",
   "metadata": {},
   "outputs": [
    {
     "data": {
      "text/plain": [
       "['Replacement NPI_x',\n",
       " 'Provider Last Name (Legal Name)_x',\n",
       " 'Provider Middle Name_x',\n",
       " 'State2_x',\n",
       " 'NPI Deactivation Reason Code_x',\n",
       " 'Provider Gender Code_x',\n",
       " 'Is Sole Proprietor_x',\n",
       " 'Entity Type Code_y',\n",
       " 'Replacement NPI_y',\n",
       " 'Provider Organization Name (Legal Business Name)_y',\n",
       " 'State2_y',\n",
       " 'NPI Deactivation Reason Code_y',\n",
       " 'NPI Deactivation Date_y',\n",
       " 'NPI Reactivation Date_y',\n",
       " 'Authorized Official Last Name_y',\n",
       " 'Authorized Official First Name_y',\n",
       " 'Authorized Official Middle Name_y',\n",
       " 'Authorized Official Telephone Number_y',\n",
       " 'Is Organization Subpart_y']"
      ]
     },
     "execution_count": 313,
     "metadata": {},
     "output_type": "execute_result"
    }
   ],
   "source": [
    "oneuni = datafu[datafu['num'] == 1]['col'].tolist()[1:]\n",
    "oneuni"
   ]
  },
  {
   "cell_type": "code",
   "execution_count": 307,
   "id": "f151bfb2-5f93-4075-a762-cdd5f0c95655",
   "metadata": {},
   "outputs": [],
   "source": [
    "same_io = samelo_io.drop(columns=oneuni).reset_index(drop=True)"
   ]
  },
  {
   "cell_type": "code",
   "execution_count": 308,
   "id": "a8d96143-8072-476c-86ba-f366144235d8",
   "metadata": {},
   "outputs": [
    {
     "data": {
      "text/plain": [
       "Index(['NPI_x', 'Entity Type Code_x',\n",
       "       'Provider Organization Name (Legal Business Name)_x',\n",
       "       'Provider First Line Business Practice Location Address', 'City_x',\n",
       "       'Provider Business Practice Location Address Postal Code_x',\n",
       "       'Provider Business Practice Location Address Telephone Number_x',\n",
       "       'NPI Deactivation Date_x', 'NPI Reactivation Date_x',\n",
       "       'Authorized Official Last Name_x', 'Authorized Official First Name_x',\n",
       "       'Authorized Official Middle Name_x',\n",
       "       'Authorized Official Telephone Number_x', 'Is Organization Subpart_x',\n",
       "       'Zip5_x', 'Address_x', 'taxonomy_x', 'NPI_y',\n",
       "       'Provider Last Name (Legal Name)_y', 'Provider Middle Name_y', 'City_y',\n",
       "       'Provider Business Practice Location Address Postal Code_y',\n",
       "       'Provider Business Practice Location Address Telephone Number_y',\n",
       "       'Provider Gender Code_y', 'Is Sole Proprietor_y', 'Zip5_y', 'Address_y',\n",
       "       'taxonomy_y'],\n",
       "      dtype='object')"
      ]
     },
     "execution_count": 308,
     "metadata": {},
     "output_type": "execute_result"
    }
   ],
   "source": [
    "same_io.columns"
   ]
  },
  {
   "cell_type": "code",
   "execution_count": 314,
   "id": "6f383764-2f44-499e-b706-c0a058fd4a79",
   "metadata": {},
   "outputs": [],
   "source": [
    "same_io.to_excel('temp_ph3.xlsx',index=False)"
   ]
  },
  {
   "cell_type": "code",
   "execution_count": null,
   "id": "20907977-4702-4c91-b5b0-9b131f92dcb4",
   "metadata": {},
   "outputs": [],
   "source": []
  },
  {
   "cell_type": "code",
   "execution_count": 257,
   "id": "a9edd791-5f09-405c-9b4d-87a778082a02",
   "metadata": {},
   "outputs": [
    {
     "name": "stdout",
     "output_type": "stream",
     "text": [
      "  Column1  Column2 Column3         Column4\n",
      "0       A        1       X  Value1, Value2\n",
      "1       A        2       Y          Value3\n",
      "2       B        2       Z          Value4\n",
      "3       B        3       Z          Value5\n",
      "4       C        3       Z          Value6\n"
     ]
    }
   ],
   "source": [
    "stacked_df = df.groupby(['Column1', 'Column2', 'Column3'])['Column4'].apply(', '.join).reset_index()\n",
    "\n",
    "# Display the resulting DataFrame\n",
    "print(stacked_df)"
   ]
  },
  {
   "cell_type": "code",
   "execution_count": null,
   "id": "e7fcac84-2d5f-4e5d-89a1-9cca741e16ed",
   "metadata": {},
   "outputs": [],
   "source": []
  },
  {
   "cell_type": "code",
   "execution_count": 36,
   "id": "15d695ed-9865-43ac-ba0f-19552a094167",
   "metadata": {},
   "outputs": [],
   "source": [
    "ph_tx_3 = pd.concat([ph_tx, ph_tx2]).drop_duplicates()"
   ]
  },
  {
   "cell_type": "code",
   "execution_count": 37,
   "id": "de577fcc-029e-4a6b-a678-bfee5e23eff4",
   "metadata": {},
   "outputs": [
    {
     "data": {
      "text/plain": [
       "(395, 11)"
      ]
     },
     "execution_count": 37,
     "metadata": {},
     "output_type": "execute_result"
    }
   ],
   "source": [
    "ph_tx_3.shape"
   ]
  },
  {
   "cell_type": "code",
   "execution_count": 39,
   "id": "92353763-2411-4945-87d5-0123aec95643",
   "metadata": {},
   "outputs": [],
   "source": [
    "ph_tx_3.to_excel('list_caliclinic.xlsx',index=False)"
   ]
  },
  {
   "cell_type": "markdown",
   "id": "884c2321-5ee1-44a9-b3ed-7f7b4b6633c9",
   "metadata": {
    "tags": []
   },
   "source": [
    "## version1:"
   ]
  },
  {
   "cell_type": "code",
   "execution_count": 8,
   "id": "57a0f49f-f312-4908-bdbb-2c944dfecf9b",
   "metadata": {},
   "outputs": [],
   "source": [
    "# ph_tx = ph_tx.drop(columns=taxon_codes+taxonswitch_codes).reset_index(drop=True)"
   ]
  },
  {
   "cell_type": "code",
   "execution_count": 9,
   "id": "ffb367aa-c256-424c-a139-727a44ce3a26",
   "metadata": {},
   "outputs": [],
   "source": [
    "# ph_tx = ph_tx[ph_tx['Provider Organization Name (Legal Business Name)'].str.contains(\"ORTHO|PROS|P&O|LIMB\")]"
   ]
  },
  {
   "cell_type": "markdown",
   "id": "1e3c900f-a012-40c8-bbc7-e0adcdc3cba7",
   "metadata": {
    "tags": []
   },
   "source": [
    "## version2:"
   ]
  },
  {
   "cell_type": "markdown",
   "id": "ccb01146-965a-4043-b0e6-6990fa641e44",
   "metadata": {},
   "source": [
    "### Filter by primary code"
   ]
  },
  {
   "cell_type": "code",
   "execution_count": 19,
   "id": "9fd269a6-a7e2-48ad-861d-efd0c161fd9c",
   "metadata": {},
   "outputs": [],
   "source": [
    "# ph_tx = ph_tx[-ph_tx['Provider Organization Name (Legal Business Name)'].str.contains(\"NORDSTROM\")].reset_index(drop = True)"
   ]
  },
  {
   "cell_type": "code",
   "execution_count": 20,
   "id": "9e10429d-40f6-4b80-bce7-15aead99ed8a",
   "metadata": {},
   "outputs": [],
   "source": [
    "# ph_tx[ph_tx['taxonomy'].str.contains(\"261QA0900X\")]"
   ]
  },
  {
   "cell_type": "code",
   "execution_count": 21,
   "id": "dc89b9ab-1745-4270-abef-d186b676b8b2",
   "metadata": {},
   "outputs": [],
   "source": [
    "# ph_tx.shape"
   ]
  },
  {
   "cell_type": "markdown",
   "id": "597945a1-c67b-4f67-be57-dd574ad07ee1",
   "metadata": {
    "tags": []
   },
   "source": [
    "### Filter by name"
   ]
  },
  {
   "cell_type": "code",
   "execution_count": 226,
   "id": "927fb7ce-7155-44c0-aa52-cea00f360657",
   "metadata": {},
   "outputs": [],
   "source": [
    "name_list = ph_tx[ph_tx['Provider Organization Name (Legal Business Name)'].str.contains(\"SOUND|SHOE|LINGERIE|HAIR\")]"
   ]
  },
  {
   "cell_type": "code",
   "execution_count": 223,
   "id": "2423dbf2-e9b5-444b-98b9-eeadb04198b4",
   "metadata": {},
   "outputs": [
    {
     "data": {
      "text/html": [
       "<div>\n",
       "<style scoped>\n",
       "    .dataframe tbody tr th:only-of-type {\n",
       "        vertical-align: middle;\n",
       "    }\n",
       "\n",
       "    .dataframe tbody tr th {\n",
       "        vertical-align: top;\n",
       "    }\n",
       "\n",
       "    .dataframe thead th {\n",
       "        text-align: right;\n",
       "    }\n",
       "</style>\n",
       "<table border=\"1\" class=\"dataframe\">\n",
       "  <thead>\n",
       "    <tr style=\"text-align: right;\">\n",
       "      <th></th>\n",
       "      <th>NPI</th>\n",
       "      <th>Entity Type Code</th>\n",
       "      <th>Provider Organization Name (Legal Business Name)</th>\n",
       "      <th>Provider First Line Business Practice Location Address</th>\n",
       "      <th>City</th>\n",
       "      <th>State2</th>\n",
       "      <th>Provider Business Practice Location Address Postal Code</th>\n",
       "      <th>Provider Business Practice Location Address Telephone Number</th>\n",
       "      <th>Zip5</th>\n",
       "      <th>Address</th>\n",
       "      <th>taxonomy</th>\n",
       "    </tr>\n",
       "  </thead>\n",
       "  <tbody>\n",
       "    <tr>\n",
       "      <th>119</th>\n",
       "      <td>1982903720</td>\n",
       "      <td>2</td>\n",
       "      <td>JACKRABBIT SHOES AND ORTHOTICS, INC.</td>\n",
       "      <td>4576 E 2ND ST</td>\n",
       "      <td>BENICIA</td>\n",
       "      <td>CA</td>\n",
       "      <td>94510</td>\n",
       "      <td>7077511630</td>\n",
       "      <td>94510</td>\n",
       "      <td>4576 E 2ND ST</td>\n",
       "      <td>335E00000X</td>\n",
       "    </tr>\n",
       "    <tr>\n",
       "      <th>154</th>\n",
       "      <td>1609135029</td>\n",
       "      <td>2</td>\n",
       "      <td>M&amp;G CUSTOM SHOES AND ORTHOTICS LLC</td>\n",
       "      <td>2950 BUSKIRK AVE</td>\n",
       "      <td>WALNUT CREEK</td>\n",
       "      <td>CA</td>\n",
       "      <td>94597</td>\n",
       "      <td>9253051855</td>\n",
       "      <td>94597</td>\n",
       "      <td>2950 BUSKIRK AVE</td>\n",
       "      <td>335E00000X</td>\n",
       "    </tr>\n",
       "    <tr>\n",
       "      <th>155</th>\n",
       "      <td>1902076987</td>\n",
       "      <td>2</td>\n",
       "      <td>M&amp;G CUSTOM SHOES AND ORTHOTICS LLC</td>\n",
       "      <td>1504 A ST</td>\n",
       "      <td>ANTIOCH</td>\n",
       "      <td>CA</td>\n",
       "      <td>94509</td>\n",
       "      <td>9253051855</td>\n",
       "      <td>94509</td>\n",
       "      <td>1504 A ST</td>\n",
       "      <td>335E00000X</td>\n",
       "    </tr>\n",
       "  </tbody>\n",
       "</table>\n",
       "</div>"
      ],
      "text/plain": [
       "            NPI Entity Type Code  \\\n",
       "119  1982903720                2   \n",
       "154  1609135029                2   \n",
       "155  1902076987                2   \n",
       "\n",
       "    Provider Organization Name (Legal Business Name)  \\\n",
       "119             JACKRABBIT SHOES AND ORTHOTICS, INC.   \n",
       "154               M&G CUSTOM SHOES AND ORTHOTICS LLC   \n",
       "155               M&G CUSTOM SHOES AND ORTHOTICS LLC   \n",
       "\n",
       "    Provider First Line Business Practice Location Address          City  \\\n",
       "119                                      4576 E 2ND ST           BENICIA   \n",
       "154                                   2950 BUSKIRK AVE      WALNUT CREEK   \n",
       "155                                          1504 A ST           ANTIOCH   \n",
       "\n",
       "    State2 Provider Business Practice Location Address Postal Code  \\\n",
       "119     CA                                              94510        \n",
       "154     CA                                              94597        \n",
       "155     CA                                              94509        \n",
       "\n",
       "    Provider Business Practice Location Address Telephone Number   Zip5  \\\n",
       "119                                         7077511630            94510   \n",
       "154                                         9253051855            94597   \n",
       "155                                         9253051855            94509   \n",
       "\n",
       "              Address    taxonomy  \n",
       "119     4576 E 2ND ST  335E00000X  \n",
       "154  2950 BUSKIRK AVE  335E00000X  \n",
       "155         1504 A ST  335E00000X  "
      ]
     },
     "execution_count": 223,
     "metadata": {},
     "output_type": "execute_result"
    }
   ],
   "source": [
    "name_list[name_list['Provider Organization Name (Legal Business Name)'].str.contains(\"ORTHO|PROST\")]"
   ]
  },
  {
   "cell_type": "markdown",
   "id": "3cc56f32-adb2-4e72-a478-dd5e00f7c551",
   "metadata": {
    "tags": []
   },
   "source": [
    "### Convert to EXCEL"
   ]
  },
  {
   "cell_type": "code",
   "execution_count": 230,
   "id": "66619831-dc7a-470e-a839-568ccf98cfc1",
   "metadata": {},
   "outputs": [],
   "source": [
    "# ph_tx.to_excel('list_caliclinic.xlsx',index=False)"
   ]
  },
  {
   "cell_type": "code",
   "execution_count": null,
   "id": "636d56a2-1b06-40ab-8632-83c49c4d3ef8",
   "metadata": {},
   "outputs": [],
   "source": []
  },
  {
   "cell_type": "markdown",
   "id": "7f67e0d3-4fd3-492c-94be-1898a2738d2c",
   "metadata": {
    "tags": []
   },
   "source": [
    "## Geo coding"
   ]
  },
  {
   "cell_type": "code",
   "execution_count": 20,
   "id": "2042e682-5dd7-4e87-a51f-a179b78f016f",
   "metadata": {},
   "outputs": [],
   "source": [
    "def split_geo(df, add, city, state, zipcode, chunk_size=500):\n",
    "    df_new = df.copy()\n",
    "    df_new.reset_index(inplace=True)\n",
    "    splits = np.ceil(df_new.shape[0]/chunk_size)\n",
    "    chunk_li = np.array_split(df_new['index'], splits)\n",
    "    res_li = []\n",
    "    pick_fi = []\n",
    "    for i,c in enumerate(chunk_li):\n",
    "        # Grab data, export to csv\n",
    "        sub_data = df_new.loc[c, ['index',add,city,state,zipcode]]\n",
    "        sub_data.to_csv('temp_geo.csv',header=False,index=False)\n",
    "        # Geo the results and turn back into df\n",
    "        print(f'Geocoding round {int(i)+1} of {int(splits)}, {datetime.now()}')\n",
    "        result = cg.addressbatch('temp_geo.csv') #should try/except?\n",
    "        # May want to dump the intermediate results\n",
    "        #pi_str = f'pickres_{int(i)}.p'\n",
    "        #pickle.dump( favorite_color, open( pi_str, \"wb\" ) )\n",
    "        #pick_fi.append(pi_str.copy())\n",
    "        names = list(result[0].keys())\n",
    "        res_zl = []\n",
    "        for r in result:\n",
    "            res_zl.append(list(r.values()))\n",
    "        res_df = pd.DataFrame(res_zl, columns=names)\n",
    "        res_li.append(res_df.copy())\n",
    "        # time.sleep(10) #sleep 10 seconds to not get cutoff from request\n",
    "    final_df = pd.concat(res_li)\n",
    "    final_df.rename(columns={'id':'row'}, inplace=True)\n",
    "    final_df.reset_index(inplace=True, drop=True)\n",
    "    # Clean up csv file\n",
    "    os.remove('temp_geo.csv')\n",
    "    return final_df"
   ]
  },
  {
   "cell_type": "code",
   "execution_count": 21,
   "id": "deefcfd7-18fe-4e07-a365-ab4d9d576ccd",
   "metadata": {},
   "outputs": [
    {
     "name": "stdout",
     "output_type": "stream",
     "text": [
      "Geocoding round 1 of 2, 2023-04-03 05:10:28.155673\n",
      "Geocoding round 2 of 2, 2023-04-03 05:10:35.946248\n"
     ]
    }
   ],
   "source": [
    "geo_pharm = split_geo(ph_tx, add='Address', city='City', state='State2', zipcode='Zip5', chunk_size=500)"
   ]
  },
  {
   "cell_type": "code",
   "execution_count": 22,
   "id": "49b054b0-326e-4f0b-a50d-67d0b903c29f",
   "metadata": {},
   "outputs": [
    {
     "name": "stdout",
     "output_type": "stream",
     "text": [
      "True     740\n",
      "False     68\n",
      "Name: match, dtype: int64\n"
     ]
    }
   ],
   "source": [
    "print(geo_pharm['match'].value_counts())"
   ]
  },
  {
   "cell_type": "code",
   "execution_count": 23,
   "id": "795d31a0-d7eb-4855-9fba-9dd7742fe995",
   "metadata": {},
   "outputs": [],
   "source": [
    "geo_pharm['rowN'] = geo_pharm['row'].astype(int)\n",
    "gp2 = geo_pharm.sort_values(by='rowN').reset_index(drop=True)"
   ]
  },
  {
   "cell_type": "code",
   "execution_count": 24,
   "id": "0080c23e-cfae-4e2b-adc9-1d232f1163f0",
   "metadata": {},
   "outputs": [
    {
     "data": {
      "text/html": [
       "<div>\n",
       "<style scoped>\n",
       "    .dataframe tbody tr th:only-of-type {\n",
       "        vertical-align: middle;\n",
       "    }\n",
       "\n",
       "    .dataframe tbody tr th {\n",
       "        vertical-align: top;\n",
       "    }\n",
       "\n",
       "    .dataframe thead th {\n",
       "        text-align: right;\n",
       "    }\n",
       "</style>\n",
       "<table border=\"1\" class=\"dataframe\">\n",
       "  <thead>\n",
       "    <tr style=\"text-align: right;\">\n",
       "      <th></th>\n",
       "      <th>NPI</th>\n",
       "      <th>Name</th>\n",
       "      <th>Telephone</th>\n",
       "      <th>City</th>\n",
       "      <th>State2</th>\n",
       "      <th>Zip5</th>\n",
       "      <th>address</th>\n",
       "      <th>match</th>\n",
       "      <th>lat</th>\n",
       "      <th>lon</th>\n",
       "    </tr>\n",
       "  </thead>\n",
       "  <tbody>\n",
       "    <tr>\n",
       "      <th>0</th>\n",
       "      <td>1548468614</td>\n",
       "      <td>DIMENSION PROSTHETICS &amp; ORTHOTICS</td>\n",
       "      <td>5103243400</td>\n",
       "      <td>UNION CITY</td>\n",
       "      <td>CA</td>\n",
       "      <td>94587</td>\n",
       "      <td>33374 DOWE AVE, UNION CITY, CA, 94587</td>\n",
       "      <td>True</td>\n",
       "      <td>37.601059</td>\n",
       "      <td>-122.043522</td>\n",
       "    </tr>\n",
       "    <tr>\n",
       "      <th>1</th>\n",
       "      <td>1952507303</td>\n",
       "      <td>SOUND BALANCE AUDIOLOGY, INC</td>\n",
       "      <td>7607217417</td>\n",
       "      <td>OCEANSIDE</td>\n",
       "      <td>CA</td>\n",
       "      <td>92054</td>\n",
       "      <td>2420 VISTA WAY, OCEANSIDE, CA, 92054</td>\n",
       "      <td>True</td>\n",
       "      <td>33.183241</td>\n",
       "      <td>-117.334400</td>\n",
       "    </tr>\n",
       "    <tr>\n",
       "      <th>2</th>\n",
       "      <td>1609934660</td>\n",
       "      <td>COLLIER REHABILITATION SYSTEMS</td>\n",
       "      <td>9259431119</td>\n",
       "      <td>PLEASANT HILL</td>\n",
       "      <td>CA</td>\n",
       "      <td>94523</td>\n",
       "      <td>3161 PUTNAM BLVD, PLEASANT HILL, CA, 94523</td>\n",
       "      <td>True</td>\n",
       "      <td>37.933074</td>\n",
       "      <td>-122.073511</td>\n",
       "    </tr>\n",
       "    <tr>\n",
       "      <th>3</th>\n",
       "      <td>1518006741</td>\n",
       "      <td>NEW DAY'S DAWN, INC.</td>\n",
       "      <td>6195964042</td>\n",
       "      <td>SANTEE</td>\n",
       "      <td>CA</td>\n",
       "      <td>92071</td>\n",
       "      <td>10159 MISSION GORGE RD, SANTEE, CA, 92071</td>\n",
       "      <td>True</td>\n",
       "      <td>32.838527</td>\n",
       "      <td>-116.976276</td>\n",
       "    </tr>\n",
       "    <tr>\n",
       "      <th>4</th>\n",
       "      <td>1902863202</td>\n",
       "      <td>SUPER CARE INC</td>\n",
       "      <td>6268542283</td>\n",
       "      <td>CITY OF INDUSTRY</td>\n",
       "      <td>CA</td>\n",
       "      <td>91744</td>\n",
       "      <td>16017 VALLEY BLVD, CITY OF INDUSTRY, CA, 91744</td>\n",
       "      <td>False</td>\n",
       "      <td>NaN</td>\n",
       "      <td>NaN</td>\n",
       "    </tr>\n",
       "    <tr>\n",
       "      <th>...</th>\n",
       "      <td>...</td>\n",
       "      <td>...</td>\n",
       "      <td>...</td>\n",
       "      <td>...</td>\n",
       "      <td>...</td>\n",
       "      <td>...</td>\n",
       "      <td>...</td>\n",
       "      <td>...</td>\n",
       "      <td>...</td>\n",
       "      <td>...</td>\n",
       "    </tr>\n",
       "    <tr>\n",
       "      <th>803</th>\n",
       "      <td>1902852056</td>\n",
       "      <td>ACTIVE LIFE, LLC</td>\n",
       "      <td>8188359441</td>\n",
       "      <td>NORTHRIDGE</td>\n",
       "      <td>CA</td>\n",
       "      <td>91325</td>\n",
       "      <td>18433 ROSCOE BLVD, NORTHRIDGE, CA, 91325</td>\n",
       "      <td>True</td>\n",
       "      <td>34.220760</td>\n",
       "      <td>-118.534506</td>\n",
       "    </tr>\n",
       "    <tr>\n",
       "      <th>804</th>\n",
       "      <td>1942865605</td>\n",
       "      <td>ACTIVE LIFE, LLC</td>\n",
       "      <td>7605156311</td>\n",
       "      <td>APPLE VALLEY</td>\n",
       "      <td>CA</td>\n",
       "      <td>92307</td>\n",
       "      <td>16008 KAMANA RD, APPLE VALLEY, CA, 92307</td>\n",
       "      <td>True</td>\n",
       "      <td>34.542401</td>\n",
       "      <td>-117.271759</td>\n",
       "    </tr>\n",
       "    <tr>\n",
       "      <th>805</th>\n",
       "      <td>1952609661</td>\n",
       "      <td>ACTIVE LIFE, LLC</td>\n",
       "      <td>6194886196</td>\n",
       "      <td>SAN DIEGO</td>\n",
       "      <td>CA</td>\n",
       "      <td>92123</td>\n",
       "      <td>7910 FROST ST, SAN DIEGO, CA, 92123</td>\n",
       "      <td>True</td>\n",
       "      <td>32.800261</td>\n",
       "      <td>-117.154388</td>\n",
       "    </tr>\n",
       "    <tr>\n",
       "      <th>806</th>\n",
       "      <td>1952765711</td>\n",
       "      <td>ACTIVE LIFE, LLC</td>\n",
       "      <td>3233528319</td>\n",
       "      <td>LOS ANGELES</td>\n",
       "      <td>CA</td>\n",
       "      <td>90033</td>\n",
       "      <td>1700 E CESAR E CHAVEZ AVE, LOS ANGELES, CA, 90033</td>\n",
       "      <td>True</td>\n",
       "      <td>34.051144</td>\n",
       "      <td>-118.217488</td>\n",
       "    </tr>\n",
       "    <tr>\n",
       "      <th>807</th>\n",
       "      <td>1912339474</td>\n",
       "      <td>ALEXANDER PROSTHETICS &amp; ORTHOTICS, INC</td>\n",
       "      <td>3106749179</td>\n",
       "      <td>INGLEWOOD</td>\n",
       "      <td>CA</td>\n",
       "      <td>90301</td>\n",
       "      <td>660 E REGENT ST, INGLEWOOD, CA, 90301</td>\n",
       "      <td>True</td>\n",
       "      <td>33.964526</td>\n",
       "      <td>-118.344432</td>\n",
       "    </tr>\n",
       "  </tbody>\n",
       "</table>\n",
       "<p>808 rows × 10 columns</p>\n",
       "</div>"
      ],
      "text/plain": [
       "            NPI                                    Name   Telephone  \\\n",
       "0    1548468614       DIMENSION PROSTHETICS & ORTHOTICS  5103243400   \n",
       "1    1952507303            SOUND BALANCE AUDIOLOGY, INC  7607217417   \n",
       "2    1609934660          COLLIER REHABILITATION SYSTEMS  9259431119   \n",
       "3    1518006741                    NEW DAY'S DAWN, INC.  6195964042   \n",
       "4    1902863202                          SUPER CARE INC  6268542283   \n",
       "..          ...                                     ...         ...   \n",
       "803  1902852056                        ACTIVE LIFE, LLC  8188359441   \n",
       "804  1942865605                        ACTIVE LIFE, LLC  7605156311   \n",
       "805  1952609661                        ACTIVE LIFE, LLC  6194886196   \n",
       "806  1952765711                        ACTIVE LIFE, LLC  3233528319   \n",
       "807  1912339474  ALEXANDER PROSTHETICS & ORTHOTICS, INC  3106749179   \n",
       "\n",
       "                 City State2   Zip5  \\\n",
       "0          UNION CITY     CA  94587   \n",
       "1           OCEANSIDE     CA  92054   \n",
       "2       PLEASANT HILL     CA  94523   \n",
       "3              SANTEE     CA  92071   \n",
       "4    CITY OF INDUSTRY     CA  91744   \n",
       "..                ...    ...    ...   \n",
       "803        NORTHRIDGE     CA  91325   \n",
       "804      APPLE VALLEY     CA  92307   \n",
       "805         SAN DIEGO     CA  92123   \n",
       "806       LOS ANGELES     CA  90033   \n",
       "807         INGLEWOOD     CA  90301   \n",
       "\n",
       "                                               address  match        lat  \\\n",
       "0                33374 DOWE AVE, UNION CITY, CA, 94587   True  37.601059   \n",
       "1                 2420 VISTA WAY, OCEANSIDE, CA, 92054   True  33.183241   \n",
       "2           3161 PUTNAM BLVD, PLEASANT HILL, CA, 94523   True  37.933074   \n",
       "3            10159 MISSION GORGE RD, SANTEE, CA, 92071   True  32.838527   \n",
       "4       16017 VALLEY BLVD, CITY OF INDUSTRY, CA, 91744  False        NaN   \n",
       "..                                                 ...    ...        ...   \n",
       "803           18433 ROSCOE BLVD, NORTHRIDGE, CA, 91325   True  34.220760   \n",
       "804           16008 KAMANA RD, APPLE VALLEY, CA, 92307   True  34.542401   \n",
       "805                7910 FROST ST, SAN DIEGO, CA, 92123   True  32.800261   \n",
       "806  1700 E CESAR E CHAVEZ AVE, LOS ANGELES, CA, 90033   True  34.051144   \n",
       "807              660 E REGENT ST, INGLEWOOD, CA, 90301   True  33.964526   \n",
       "\n",
       "            lon  \n",
       "0   -122.043522  \n",
       "1   -117.334400  \n",
       "2   -122.073511  \n",
       "3   -116.976276  \n",
       "4           NaN  \n",
       "..          ...  \n",
       "803 -118.534506  \n",
       "804 -117.271759  \n",
       "805 -117.154388  \n",
       "806 -118.217488  \n",
       "807 -118.344432  \n",
       "\n",
       "[808 rows x 10 columns]"
      ]
     },
     "execution_count": 24,
     "metadata": {},
     "output_type": "execute_result"
    }
   ],
   "source": [
    "kg = ['address','match','lat','lon']\n",
    "kd = ['NPI',\n",
    "      'Provider Organization Name (Legal Business Name)',\n",
    "      'Provider Business Practice Location Address Telephone Number',\n",
    "      'City','State2','Zip5']\n",
    "final_pharm = pd.concat([ph_tx[kd], gp2[kg]], axis=1)\n",
    "\n",
    "final_pharm.rename(columns={'Provider Organization Name (Legal Business Name)':'Name',\n",
    "                      'Provider Business Practice Location Address Telephone Number':'Telephone'}, inplace=True)\n",
    "final_pharm"
   ]
  },
  {
   "cell_type": "code",
   "execution_count": 25,
   "id": "14808c5e-2d07-4e30-beae-4de9726a1db8",
   "metadata": {},
   "outputs": [],
   "source": [
    "#final_pharm.to_csv('clinics_Cali.csv',index=False)"
   ]
  },
  {
   "cell_type": "code",
   "execution_count": 26,
   "id": "ee47c315-4a29-4cf4-b6e6-26f1042dd0f5",
   "metadata": {},
   "outputs": [
    {
     "data": {
      "text/html": [
       "<div>\n",
       "<style scoped>\n",
       "    .dataframe tbody tr th:only-of-type {\n",
       "        vertical-align: middle;\n",
       "    }\n",
       "\n",
       "    .dataframe tbody tr th {\n",
       "        vertical-align: top;\n",
       "    }\n",
       "\n",
       "    .dataframe thead th {\n",
       "        text-align: right;\n",
       "    }\n",
       "</style>\n",
       "<table border=\"1\" class=\"dataframe\">\n",
       "  <thead>\n",
       "    <tr style=\"text-align: right;\">\n",
       "      <th></th>\n",
       "      <th>NPI</th>\n",
       "      <th>Name</th>\n",
       "      <th>Telephone</th>\n",
       "      <th>City</th>\n",
       "      <th>State2</th>\n",
       "      <th>Zip5</th>\n",
       "      <th>address</th>\n",
       "      <th>match</th>\n",
       "      <th>lat</th>\n",
       "      <th>lon</th>\n",
       "    </tr>\n",
       "  </thead>\n",
       "  <tbody>\n",
       "    <tr>\n",
       "      <th>0</th>\n",
       "      <td>1548468614</td>\n",
       "      <td>DIMENSION PROSTHETICS &amp; ORTHOTICS</td>\n",
       "      <td>5103243400</td>\n",
       "      <td>UNION CITY</td>\n",
       "      <td>CA</td>\n",
       "      <td>94587</td>\n",
       "      <td>33374 DOWE AVE, UNION CITY, CA, 94587</td>\n",
       "      <td>True</td>\n",
       "      <td>37.601059</td>\n",
       "      <td>-122.043522</td>\n",
       "    </tr>\n",
       "    <tr>\n",
       "      <th>1</th>\n",
       "      <td>1952507303</td>\n",
       "      <td>SOUND BALANCE AUDIOLOGY, INC</td>\n",
       "      <td>7607217417</td>\n",
       "      <td>OCEANSIDE</td>\n",
       "      <td>CA</td>\n",
       "      <td>92054</td>\n",
       "      <td>2420 VISTA WAY, OCEANSIDE, CA, 92054</td>\n",
       "      <td>True</td>\n",
       "      <td>33.183241</td>\n",
       "      <td>-117.334400</td>\n",
       "    </tr>\n",
       "  </tbody>\n",
       "</table>\n",
       "</div>"
      ],
      "text/plain": [
       "          NPI                               Name   Telephone        City  \\\n",
       "0  1548468614  DIMENSION PROSTHETICS & ORTHOTICS  5103243400  UNION CITY   \n",
       "1  1952507303       SOUND BALANCE AUDIOLOGY, INC  7607217417   OCEANSIDE   \n",
       "\n",
       "  State2   Zip5                                address  match        lat  \\\n",
       "0     CA  94587  33374 DOWE AVE, UNION CITY, CA, 94587   True  37.601059   \n",
       "1     CA  92054   2420 VISTA WAY, OCEANSIDE, CA, 92054   True  33.183241   \n",
       "\n",
       "          lon  \n",
       "0 -122.043522  \n",
       "1 -117.334400  "
      ]
     },
     "execution_count": 26,
     "metadata": {},
     "output_type": "execute_result"
    }
   ],
   "source": [
    "hosp_data = pd.read_csv('clinics_Cali.csv')\n",
    "hosp_data = hosp_data[hosp_data['match']].copy()\n",
    "hosp_data.reset_index(inplace=True, drop=True)\n",
    "hosp_data.head(2)"
   ]
  },
  {
   "cell_type": "code",
   "execution_count": 27,
   "id": "9aec9325-8358-44af-b811-cbe319dea806",
   "metadata": {},
   "outputs": [],
   "source": [
    "hosp_geo = gpd.GeoDataFrame(hosp_data, geometry=gpd.points_from_xy(hosp_data.lon, hosp_data.lat), crs=\"EPSG:4326\")"
   ]
  },
  {
   "cell_type": "code",
   "execution_count": 28,
   "id": "140a08fb-b649-4f16-9f5b-dd20b9d92841",
   "metadata": {},
   "outputs": [
    {
     "name": "stdout",
     "output_type": "stream",
     "text": [
      "EPSG:4269\n"
     ]
    }
   ],
   "source": [
    "cali_counties = gpd.read_file(r'tl_2016_06_cousub/tl_2016_06_cousub.shp')\n",
    "cali_outline = cali_counties.dissolve('STATEFP')\n",
    "cali_proj = cali_outline.to_crs('EPSG:5070')\n",
    "print(cali_outline.crs)"
   ]
  },
  {
   "cell_type": "code",
   "execution_count": 29,
   "id": "474bf11d-04b1-4309-8139-4ff659eb5e22",
   "metadata": {},
   "outputs": [],
   "source": [
    "def dissolve_buff(point_df,d,resolution):\n",
    "    bu = point_df.buffer(d,resolution)\n",
    "    geodf = gpd.GeoDataFrame(geometry=bu)\n",
    "    geodf['Const'] = 0\n",
    "    single = geodf.dissolve('Const')\n",
    "    return single[['geometry']]"
   ]
  },
  {
   "cell_type": "code",
   "execution_count": 30,
   "id": "5c00012f-c3d6-4edd-8406-d1e8284525af",
   "metadata": {},
   "outputs": [],
   "source": [
    "def dist_cont(point_df,dist_list,outside,buff_res):\n",
    "    if point_df.crs != outside.crs:\n",
    "        print('Point df and Outside df are not the same CRS')\n",
    "        return None\n",
    "    # Making outside area out dissolved object\n",
    "    out_cop = outside[['geometry']].copy()\n",
    "    out_cop['Constant'] = 1\n",
    "    out_cop = out_cop.dissolve('Constant')\n",
    "    # Make sure points are inside area\n",
    "    inside = point_df.within(out_cop['geometry'][1])\n",
    "    point_cop = point_df[inside].copy()\n",
    "    point_cop = point_df.copy()\n",
    "    point_cop['Constant'] = 1 #Constant for dissolve\n",
    "    point_cop = point_cop[['Constant','geometry']].copy()\n",
    "    res_buffers = []\n",
    "    for i,d in enumerate(dist_list):\n",
    "        print(f'Doing buffer {d}')\n",
    "        if i == 0:\n",
    "            res = dissolve_buff(point_cop, d, buff_res)\n",
    "            res_buffers.append(res.copy())\n",
    "        else:\n",
    "            res_new = dissolve_buff(point_cop, d, buff_res)\n",
    "            res_buffonly = gpd.overlay(res_new, res, how='difference')\n",
    "            res = res_new.copy()\n",
    "            res_buffers.append( res_buffonly.copy() )\n",
    "    # Now take the difference with the larger area\n",
    "    print('Working on leftover difference now')\n",
    "    leftover = gpd.overlay(out_cop, res, how='difference')\n",
    "    res_buffers.append(leftover)\n",
    "    for i,d in enumerate(dist_list):\n",
    "        res_buffers[i]['Distance'] = str(d)\n",
    "    res_buffers[-1]['Distance'] = 'Outside'\n",
    "    # New geopandas DF\n",
    "    comb_df = pd.concat(res_buffers)\n",
    "    comb_df.reset_index(inplace=True, drop=True)\n",
    "    return comb_df"
   ]
  },
  {
   "cell_type": "code",
   "execution_count": 31,
   "id": "d051eba8-807f-45ff-a341-08f2ddc77dac",
   "metadata": {},
   "outputs": [
    {
     "name": "stdout",
     "output_type": "stream",
     "text": [
      "Doing buffer 2000\n",
      "Doing buffer 4000\n",
      "Doing buffer 8000\n",
      "Doing buffer 16000\n",
      "Working on leftover difference now\n"
     ]
    }
   ],
   "source": [
    "hos_proj = hosp_geo.to_crs('EPSG:5070') #'epsg:4269'\n",
    "\n",
    "dist_met = [2000, 4000, 8000, 16000] #, 32000\n",
    "buff_city = dist_cont(hos_proj, dist_met, cali_proj, buff_res=100)"
   ]
  },
  {
   "cell_type": "code",
   "execution_count": 32,
   "id": "78ad6526-34f9-4b79-9e32-e839ee04f4cb",
   "metadata": {},
   "outputs": [],
   "source": [
    "#Now making folium plot\n",
    "buff_map = buff_city.to_crs('EPSG:4326')\n",
    "kv = list(hosp_geo)[1:10]\n"
   ]
  },
  {
   "cell_type": "code",
   "execution_count": 33,
   "id": "eaf98184-a213-400c-8a62-7715076c59a1",
   "metadata": {},
   "outputs": [],
   "source": [
    "#\"fill\": \"#00aa22\",\n",
    "#\"fill-opacity\": 0.5\n",
    "\n",
    "cols = ['#f1eef6',\n",
    "'#d7b5d8',\n",
    "'#df65b0',\n",
    "'#dd1c77',\n",
    "'#980043']\n",
    "\n",
    "buff_map['fill'] = cols\n",
    "buff_map['fill-opacity'] = 0.35\n",
    "\n",
    "#os.chdir(r'D:\\Dropbox\\Dropbox\\PublicCode_Git\\Blog_Code')\n",
    "\n",
    "buff_map.to_file('Buffers.geojson', driver='GeoJSON')\n",
    "hosp_geo.to_file('Hosp.geojson', driver='GeoJSON')"
   ]
  },
  {
   "cell_type": "code",
   "execution_count": null,
   "id": "a1dcb346-cb2c-4589-a86d-0d6b1b010fbc",
   "metadata": {},
   "outputs": [],
   "source": []
  }
 ],
 "metadata": {
  "kernelspec": {
   "display_name": "Python 3 (ipykernel)",
   "language": "python",
   "name": "python3"
  },
  "language_info": {
   "codemirror_mode": {
    "name": "ipython",
    "version": 3
   },
   "file_extension": ".py",
   "mimetype": "text/x-python",
   "name": "python",
   "nbconvert_exporter": "python",
   "pygments_lexer": "ipython3",
   "version": "3.9.15"
  }
 },
 "nbformat": 4,
 "nbformat_minor": 5
}
